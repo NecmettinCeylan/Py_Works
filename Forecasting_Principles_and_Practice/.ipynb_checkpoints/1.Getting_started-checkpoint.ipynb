{
 "cells": [
  {
   "cell_type": "code",
   "execution_count": 2,
   "metadata": {},
   "outputs": [
    {
     "name": "stderr",
     "output_type": "stream",
     "text": [
      "also installing the dependencies 'reshape', 'x13binary', 'strucchange', 'sandwich', 'fma', 'expsmooth', 'GGally', 'gridExtra', 'Mcomp', 'seasonal', 'vars'\n",
      "\n"
     ]
    },
    {
     "name": "stdout",
     "output_type": "stream",
     "text": [
      "package 'reshape' successfully unpacked and MD5 sums checked\n",
      "package 'x13binary' successfully unpacked and MD5 sums checked\n",
      "package 'strucchange' successfully unpacked and MD5 sums checked\n",
      "package 'sandwich' successfully unpacked and MD5 sums checked\n",
      "package 'fma' successfully unpacked and MD5 sums checked\n",
      "package 'expsmooth' successfully unpacked and MD5 sums checked\n",
      "package 'GGally' successfully unpacked and MD5 sums checked\n",
      "package 'gridExtra' successfully unpacked and MD5 sums checked\n",
      "package 'Mcomp' successfully unpacked and MD5 sums checked\n",
      "package 'seasonal' successfully unpacked and MD5 sums checked\n",
      "package 'vars' successfully unpacked and MD5 sums checked\n",
      "package 'fpp2' successfully unpacked and MD5 sums checked\n",
      "\n",
      "The downloaded binary packages are in\n",
      "\tC:\\Users\\qwe\\AppData\\Local\\Temp\\RtmpeOUBsB\\downloaded_packages\n"
     ]
    }
   ],
   "source": [
    "install.packages('fpp2', dependencies = TRUE)"
   ]
  },
  {
   "cell_type": "code",
   "execution_count": 4,
   "metadata": {},
   "outputs": [],
   "source": [
    "library(forecast )"
   ]
  },
  {
   "cell_type": "code",
   "execution_count": 5,
   "metadata": {},
   "outputs": [],
   "source": [
    "library(ggplot2)"
   ]
  },
  {
   "cell_type": "code",
   "execution_count": 7,
   "metadata": {},
   "outputs": [],
   "source": [
    "library(fpp2)"
   ]
  },
  {
   "cell_type": "code",
   "execution_count": null,
   "metadata": {},
   "outputs": [],
   "source": []
  },
  {
   "cell_type": "code",
   "execution_count": null,
   "metadata": {},
   "outputs": [],
   "source": []
  }
 ],
 "metadata": {
  "kernelspec": {
   "display_name": "R",
   "language": "R",
   "name": "ir"
  },
  "language_info": {
   "codemirror_mode": "r",
   "file_extension": ".r",
   "mimetype": "text/x-r-source",
   "name": "R",
   "pygments_lexer": "r",
   "version": "3.6.1"
  }
 },
 "nbformat": 4,
 "nbformat_minor": 2
}
