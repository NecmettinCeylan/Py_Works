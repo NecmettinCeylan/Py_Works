{
 "cells": [
  {
   "cell_type": "code",
   "execution_count": 2,
   "metadata": {},
   "outputs": [],
   "source": [
    "library(ggplot2)\n",
    "library(forecast )\n",
    "library(fpp2)\n",
    "library(seasonal)"
   ]
  },
  {
   "cell_type": "code",
   "execution_count": null,
   "metadata": {},
   "outputs": [],
   "source": []
  },
  {
   "cell_type": "code",
   "execution_count": 4,
   "metadata": {},
   "outputs": [
    {
     "data": {
      "text/html": [
       "1095"
      ],
      "text/latex": [
       "1095"
      ],
      "text/markdown": [
       "1095"
      ],
      "text/plain": [
       "[1] 1095"
      ]
     },
     "metadata": {},
     "output_type": "display_data"
    }
   ],
   "source": [
    "length(elecdaily)"
   ]
  },
  {
   "cell_type": "code",
   "execution_count": 5,
   "metadata": {},
   "outputs": [
    {
     "data": {
      "text/html": [
       "7"
      ],
      "text/latex": [
       "7"
      ],
      "text/markdown": [
       "7"
      ],
      "text/plain": [
       "[1] 7"
      ]
     },
     "metadata": {},
     "output_type": "display_data"
    }
   ],
   "source": [
    "frequency(elecdaily)"
   ]
  },
  {
   "cell_type": "code",
   "execution_count": 6,
   "metadata": {},
   "outputs": [],
   "source": [
    "daily20 <- head(elecdaily,20)"
   ]
  },
  {
   "cell_type": "code",
   "execution_count": 8,
   "metadata": {},
   "outputs": [
    {
     "data": {
      "image/png": "[encoded data removed]",
      "text/plain": [
       "plot without title"
      ]
     },
     "metadata": {},
     "output_type": "display_data"
    },
    {
     "data": {
      "image/png": "[encoded data removed]",
      "text/plain": [
       "Plot with title \"\""
      ]
     },
     "metadata": {},
     "output_type": "display_data"
    }
   ],
   "source": [
    "tsdisplay(daily20)"
   ]
  },
  {
   "cell_type": "code",
   "execution_count": 14,
   "metadata": {},
   "outputs": [],
   "source": [
    "help(daily20)"
   ]
  },
  {
   "cell_type": "code",
   "execution_count": 22,
   "metadata": {},
   "outputs": [
    {
     "name": "stderr",
     "output_type": "stream",
     "text": [
      "ERROR while rich displaying an object: Error in repr_matrix_generic(obj, \"\\n%s%s\\n\", sprintf(\"|%%s\\n|%s|\\n\", : formal argument \"cols\" matched by multiple actual arguments\n",
      "\n",
      "Traceback:\n",
      "1. FUN(X[[i]], ...)\n",
      "2. tryCatch(withCallingHandlers({\n",
      " .     if (!mime %in% names(repr::mime2repr)) \n",
      " .         stop(\"No repr_* for mimetype \", mime, \" in repr::mime2repr\")\n",
      " .     rpr <- repr::mime2repr[[mime]](obj)\n",
      " .     if (is.null(rpr)) \n",
      " .         return(NULL)\n",
      " .     prepare_content(is.raw(rpr), rpr)\n",
      " . }, error = error_handler), error = outer_handler)\n",
      "3. tryCatchList(expr, classes, parentenv, handlers)\n",
      "4. tryCatchOne(expr, names, parentenv, handlers[[1L]])\n",
      "5. doTryCatch(return(expr), name, parentenv, handler)\n",
      "6. withCallingHandlers({\n",
      " .     if (!mime %in% names(repr::mime2repr)) \n",
      " .         stop(\"No repr_* for mimetype \", mime, \" in repr::mime2repr\")\n",
      " .     rpr <- repr::mime2repr[[mime]](obj)\n",
      " .     if (is.null(rpr)) \n",
      " .         return(NULL)\n",
      " .     prepare_content(is.raw(rpr), rpr)\n",
      " . }, error = error_handler)\n",
      "7. repr::mime2repr[[mime]](obj)\n",
      "8. repr_markdown.ts(obj)\n",
      "9. repr_ts_generic(obj, repr_markdown.matrix, ...)\n",
      "10. repr_func(m, ..., rows = nrow(m), cols = ncol(m))\n"
     ]
    },
    {
     "data": {
      "text/html": [
       "<table>\n",
       "<thead><tr><th></th><th scope=col>Demand</th><th scope=col>WorkDay</th><th scope=col>Temperature</th></tr></thead>\n",
       "<tbody>\n",
       "\t<tr><th scope=row>1.000000</th><td>174.8963</td><td>0       </td><td>26.0    </td></tr>\n",
       "\t<tr><th scope=row>1.142857</th><td>188.5909</td><td>1       </td><td>23.0    </td></tr>\n",
       "\t<tr><th scope=row>1.285714</th><td>188.9169</td><td>1       </td><td>22.2    </td></tr>\n",
       "\t<tr><th scope=row>1.428571</th><td>173.8142</td><td>0       </td><td>20.3    </td></tr>\n",
       "\t<tr><th scope=row>1.571429</th><td>169.5152</td><td>0       </td><td>26.1    </td></tr>\n",
       "\t<tr><th scope=row>1.714286</th><td>195.7288</td><td>1       </td><td>19.6    </td></tr>\n",
       "</tbody>\n",
       "</table>\n"
      ],
      "text/latex": [
       "\\begin{tabular}{r|lll}\n",
       "  & Demand & WorkDay & Temperature\\\\\n",
       "\\hline\n",
       "\t1.000000 & 174.8963 & 0        & 26.0    \\\\\n",
       "\t1.142857 & 188.5909 & 1        & 23.0    \\\\\n",
       "\t1.285714 & 188.9169 & 1        & 22.2    \\\\\n",
       "\t1.428571 & 173.8142 & 0        & 20.3    \\\\\n",
       "\t1.571429 & 169.5152 & 0        & 26.1    \\\\\n",
       "\t1.714286 & 195.7288 & 1        & 19.6    \\\\\n",
       "\\end{tabular}\n"
      ],
      "text/plain": [
       "         Demand   WorkDay Temperature\n",
       "1.000000 174.8963 0       26.0       \n",
       "1.142857 188.5909 1       23.0       \n",
       "1.285714 188.9169 1       22.2       \n",
       "1.428571 173.8142 0       20.3       \n",
       "1.571429 169.5152 0       26.1       \n",
       "1.714286 195.7288 1       19.6       "
      ]
     },
     "metadata": {},
     "output_type": "display_data"
    }
   ],
   "source": [
    "head(daily20)"
   ]
  },
  {
   "cell_type": "code",
   "execution_count": 18,
   "metadata": {},
   "outputs": [],
   "source": [
    "fit.elecd <- tslm(Demand ~ Temperature, data=daily20)"
   ]
  },
  {
   "cell_type": "code",
   "execution_count": 21,
   "metadata": {},
   "outputs": [
    {
     "data": {
      "text/plain": [
       "\n",
       "Call:\n",
       "tslm(formula = Demand ~ Temperature, data = daily20)\n",
       "\n",
       "Coefficients:\n",
       "(Intercept)  Temperature  \n",
       "     39.212        6.757  \n"
      ]
     },
     "metadata": {},
     "output_type": "display_data"
    }
   ],
   "source": [
    "fit.elecd"
   ]
  },
  {
   "cell_type": "code",
   "execution_count": 19,
   "metadata": {},
   "outputs": [
    {
     "data": {
      "text/plain": [
       "\n",
       "Call:\n",
       "tslm(formula = Demand ~ Temperature, data = daily20)\n",
       "\n",
       "Residuals:\n",
       "    Min      1Q  Median      3Q     Max \n",
       "-46.060  -7.117  -1.437  17.484  27.102 \n",
       "\n",
       "Coefficients:\n",
       "            Estimate Std. Error t value Pr(>|t|)    \n",
       "(Intercept)  39.2117    17.9915   2.179   0.0428 *  \n",
       "Temperature   6.7572     0.6114  11.052 1.88e-09 ***\n",
       "---\n",
       "Signif. codes:  0 '***' 0.001 '**' 0.01 '*' 0.05 '.' 0.1 ' ' 1\n",
       "\n",
       "Residual standard error: 22 on 18 degrees of freedom\n",
       "Multiple R-squared:  0.8716,\tAdjusted R-squared:  0.8644 \n",
       "F-statistic: 122.1 on 1 and 18 DF,  p-value: 1.876e-09\n"
      ]
     },
     "metadata": {},
     "output_type": "display_data"
    }
   ],
   "source": [
    "summary(fit.elecd)"
   ]
  },
  {
   "cell_type": "code",
   "execution_count": 20,
   "metadata": {},
   "outputs": [
    {
     "data": {
      "text/plain": [
       "\n",
       "\tBreusch-Godfrey test for serial correlation of order up to 5\n",
       "\n",
       "data:  Residuals from Linear regression model\n",
       "LM test = 3.8079, df = 5, p-value = 0.5774\n"
      ]
     },
     "metadata": {},
     "output_type": "display_data"
    },
    {
     "data": {
      "image/png": "[encoded data removed]",
      "text/plain": [
       "plot without title"
      ]
     },
     "metadata": {},
     "output_type": "display_data"
    }
   ],
   "source": [
    "checkresiduals(fit.elecd)"
   ]
  },
  {
   "cell_type": "code",
   "execution_count": 32,
   "metadata": {},
   "outputs": [
    {
     "data": {
      "text/plain": [
       "         Point Forecast    Lo 80    Hi 80     Lo 95    Hi 95\n",
       "3.857143       140.5701 108.6810 172.4591  90.21166 190.9285\n",
       "4.000000       275.7146 245.2278 306.2014 227.57056 323.8586"
      ]
     },
     "metadata": {},
     "output_type": "display_data"
    }
   ],
   "source": [
    "forecast(fit.elecd, newdata=data.frame(Temperature=c(15,35)))"
   ]
  },
  {
   "cell_type": "code",
   "execution_count": 33,
   "metadata": {
    "scrolled": false
   },
   "outputs": [
    {
     "data": {
      "image/png": "[encoded data removed]",
      "text/plain": [
       "plot without title"
      ]
     },
     "metadata": {},
     "output_type": "display_data"
    },
    {
     "data": {
      "image/png": "[encoded data removed]",
      "text/plain": [
       "plot without title"
      ]
     },
     "metadata": {},
     "output_type": "display_data"
    },
    {
     "data": {
      "text/plain": [
       "\n",
       "\tBreusch-Godfrey test for serial correlation of order up to 5\n",
       "\n",
       "data:  Residuals from Linear regression model\n",
       "LM test = 3.8079, df = 5, p-value = 0.5774\n"
      ]
     },
     "metadata": {},
     "output_type": "display_data"
    },
    {
     "data": {
      "text/plain": [
       "         Point Forecast    Lo 80    Hi 80     Lo 95    Hi 95\n",
       "3.857143       140.5701 108.6810 172.4591  90.21166 190.9285\n",
       "4.000000       275.7146 245.2278 306.2014 227.57056 323.8586"
      ]
     },
     "metadata": {},
     "output_type": "display_data"
    },
    {
     "data": {
      "image/png": "[encoded data removed]",
      "text/plain": [
       "plot without title"
      ]
     },
     "metadata": {},
     "output_type": "display_data"
    }
   ],
   "source": [
    "autoplot(daily20, facets=TRUE)\n",
    "daily20 %>%\n",
    "  as.data.frame() %>%\n",
    "  ggplot(aes(x=Temperature, y=Demand)) +\n",
    "  geom_point() +\n",
    "  geom_smooth(method=\"lm\", se=FALSE)\n",
    "\n",
    "\n",
    "fit <- tslm(Demand ~ Temperature, data=daily20)\n",
    "checkresiduals(fit)\n",
    "forecast(fit, newdata=data.frame(Temperature=c(15,35)))"
   ]
  },
  {
   "cell_type": "code",
   "execution_count": null,
   "metadata": {},
   "outputs": [],
   "source": []
  },
  {
   "cell_type": "code",
   "execution_count": null,
   "metadata": {},
   "outputs": [],
   "source": [
    "elecdaily"
   ]
  },
  {
   "cell_type": "code",
   "execution_count": 34,
   "metadata": {},
   "outputs": [
    {
     "ename": "ERROR",
     "evalue": "Error: `data` must be a data frame, or other object coercible by `fortify()`, not an S3 object with class uneval\nDid you accidentally pass `aes()` to the `data` argument?\n",
     "output_type": "error",
     "traceback": [
      "Error: `data` must be a data frame, or other object coercible by `fortify()`, not an S3 object with class uneval\nDid you accidentally pass `aes()` to the `data` argument?\nTraceback:\n",
      "1. ggplot(aes(x = Temperature, y = Demand))",
      "2. ggplot.default(aes(x = Temperature, y = Demand))",
      "3. fortify(data, ...)",
      "4. fortify.default(data, ...)",
      "5. stop(msg, call. = FALSE)"
     ]
    }
   ],
   "source": [
    "ggplot(aes(x=Temperature, y=Demand))\n"
   ]
  },
  {
   "cell_type": "code",
   "execution_count": 35,
   "metadata": {},
   "outputs": [
    {
     "data": {
      "image/png": "[encoded data removed]",
      "text/plain": [
       "plot without title"
      ]
     },
     "metadata": {},
     "output_type": "display_data"
    }
   ],
   "source": [
    "elecdaily %>%\n",
    "  as.data.frame() %>%\n",
    "  ggplot(aes(x=Temperature, y=Demand)) +\n",
    "  geom_point() +\n",
    "  geom_smooth(method=\"lm\", se=FALSE)"
   ]
  },
  {
   "cell_type": "code",
   "execution_count": null,
   "metadata": {},
   "outputs": [],
   "source": []
  },
  {
   "cell_type": "markdown",
   "metadata": {},
   "source": [
    "# 2."
   ]
  },
  {
   "cell_type": "code",
   "execution_count": 36,
   "metadata": {},
   "outputs": [
    {
     "data": {
      "image/png": "[encoded data removed]",
      "text/plain": [
       "plot without title"
      ]
     },
     "metadata": {},
     "output_type": "display_data"
    }
   ],
   "source": [
    "autoplot(mens400)"
   ]
  },
  {
   "cell_type": "code",
   "execution_count": 38,
   "metadata": {},
   "outputs": [
    {
     "name": "stderr",
     "output_type": "stream",
     "text": [
      "ERROR while rich displaying an object: Error in if (many_rows) {: argument is of length zero\n",
      "\n",
      "Traceback:\n",
      "1. FUN(X[[i]], ...)\n",
      "2. tryCatch(withCallingHandlers({\n",
      " .     if (!mime %in% names(repr::mime2repr)) \n",
      " .         stop(\"No repr_* for mimetype \", mime, \" in repr::mime2repr\")\n",
      " .     rpr <- repr::mime2repr[[mime]](obj)\n",
      " .     if (is.null(rpr)) \n",
      " .         return(NULL)\n",
      " .     prepare_content(is.raw(rpr), rpr)\n",
      " . }, error = error_handler), error = outer_handler)\n",
      "3. tryCatchList(expr, classes, parentenv, handlers)\n",
      "4. tryCatchOne(expr, names, parentenv, handlers[[1L]])\n",
      "5. doTryCatch(return(expr), name, parentenv, handler)\n",
      "6. withCallingHandlers({\n",
      " .     if (!mime %in% names(repr::mime2repr)) \n",
      " .         stop(\"No repr_* for mimetype \", mime, \" in repr::mime2repr\")\n",
      " .     rpr <- repr::mime2repr[[mime]](obj)\n",
      " .     if (is.null(rpr)) \n",
      " .         return(NULL)\n",
      " .     prepare_content(is.raw(rpr), rpr)\n",
      " . }, error = error_handler)\n",
      "7. repr::mime2repr[[mime]](obj)\n",
      "8. repr_text.ts(obj)\n",
      "9. repr_ts_generic(obj, repr_text.matrix, ...)\n",
      "10. repr_func(m, ..., rows = nrow(m), cols = ncol(m))\n",
      "11. ellip_limit_arr(obj, ...)\n",
      "12. arr_partition(a, rows, cols)\n"
     ]
    }
   ],
   "source": [
    "head(mens400)"
   ]
  },
  {
   "cell_type": "code",
   "execution_count": null,
   "metadata": {},
   "outputs": [],
   "source": []
  },
  {
   "cell_type": "code",
   "execution_count": 50,
   "metadata": {},
   "outputs": [
    {
     "name": "stderr",
     "output_type": "stream",
     "text": [
      "Warning message:\n",
      "\"In lm.fit(x, y, offset = offset, singular.ok = singular.ok, ...) :\n",
      " extra argument 'na.rm' will be disregarded\""
     ]
    }
   ],
   "source": [
    "fit.mens400 <- tslm(mens400 ~ trend)"
   ]
  },
  {
   "cell_type": "code",
   "execution_count": 51,
   "metadata": {},
   "outputs": [
    {
     "data": {
      "text/plain": [
       "\n",
       "Call:\n",
       "tslm(formula = mens400 ~ trend, na.rm = TRUE)\n",
       "\n",
       "Coefficients:\n",
       "(Intercept)        trend  \n",
       "    50.3078      -0.2583  \n"
      ]
     },
     "metadata": {},
     "output_type": "display_data"
    }
   ],
   "source": [
    "fit.mens400"
   ]
  },
  {
   "cell_type": "code",
   "execution_count": 52,
   "metadata": {},
   "outputs": [
    {
     "name": "stderr",
     "output_type": "stream",
     "text": [
      "ERROR while rich displaying an object: Error in quantile.default(resid): missing values and NaN's not allowed if 'na.rm' is FALSE\n",
      "\n",
      "Traceback:\n",
      "1. FUN(X[[i]], ...)\n",
      "2. tryCatch(withCallingHandlers({\n",
      " .     if (!mime %in% names(repr::mime2repr)) \n",
      " .         stop(\"No repr_* for mimetype \", mime, \" in repr::mime2repr\")\n",
      " .     rpr <- repr::mime2repr[[mime]](obj)\n",
      " .     if (is.null(rpr)) \n",
      " .         return(NULL)\n",
      " .     prepare_content(is.raw(rpr), rpr)\n",
      " . }, error = error_handler), error = outer_handler)\n",
      "3. tryCatchList(expr, classes, parentenv, handlers)\n",
      "4. tryCatchOne(expr, names, parentenv, handlers[[1L]])\n",
      "5. doTryCatch(return(expr), name, parentenv, handler)\n",
      "6. withCallingHandlers({\n",
      " .     if (!mime %in% names(repr::mime2repr)) \n",
      " .         stop(\"No repr_* for mimetype \", mime, \" in repr::mime2repr\")\n",
      " .     rpr <- repr::mime2repr[[mime]](obj)\n",
      " .     if (is.null(rpr)) \n",
      " .         return(NULL)\n",
      " .     prepare_content(is.raw(rpr), rpr)\n",
      " . }, error = error_handler)\n",
      "7. repr::mime2repr[[mime]](obj)\n",
      "8. repr_text.default(obj)\n",
      "9. paste(capture.output(print(obj)), collapse = \"\\n\")\n",
      "10. capture.output(print(obj))\n",
      "11. evalVis(expr)\n",
      "12. withVisible(eval(expr, pf))\n",
      "13. eval(expr, pf)\n",
      "14. eval(expr, pf)\n",
      "15. print(obj)\n",
      "16. print.summary.lm(obj)\n",
      "17. zapsmall(quantile(resid), digits + 1L)\n",
      "18. quantile(resid)\n",
      "19. quantile.default(resid)\n",
      "20. stop(\"missing values and NaN's not allowed if 'na.rm' is FALSE\")\n"
     ]
    }
   ],
   "source": [
    "summary(fit.mens400)"
   ]
  },
  {
   "cell_type": "code",
   "execution_count": null,
   "metadata": {},
   "outputs": [],
   "source": []
  },
  {
   "cell_type": "code",
   "execution_count": 53,
   "metadata": {},
   "outputs": [
    {
     "data": {
      "image/png": "[encoded data removed]",
      "text/plain": [
       "plot without title"
      ]
     },
     "metadata": {},
     "output_type": "display_data"
    }
   ],
   "source": [
    "autoplot(mens400, series=\"Data\") +\n",
    "  autolayer(fitted(fit.mens400), series=\"Fitted\") +\n",
    "  xlab(\"Year\") + ylab(\"\") +\n",
    "  ggtitle(\"Percent change in US consumption expenditure\") +\n",
    "  guides(colour=guide_legend(title=\" \"))"
   ]
  },
  {
   "cell_type": "code",
   "execution_count": 55,
   "metadata": {},
   "outputs": [
    {
     "data": {
      "text/plain": [
       "\n",
       "\tBreusch-Godfrey test for serial correlation of order up to 6\n",
       "\n",
       "data:  Residuals from Linear regression model\n",
       "LM test = 3.6082, df = 6, p-value = 0.7295\n"
      ]
     },
     "metadata": {},
     "output_type": "display_data"
    },
    {
     "data": {
      "image/png": "[encoded data removed]",
      "text/plain": [
       "plot without title"
      ]
     },
     "metadata": {},
     "output_type": "display_data"
    }
   ],
   "source": [
    "checkresiduals(  fit.mens400)"
   ]
  },
  {
   "cell_type": "code",
   "execution_count": 56,
   "metadata": {},
   "outputs": [],
   "source": [
    "fcast  <- forecast(fit.mens400 )"
   ]
  },
  {
   "cell_type": "code",
   "execution_count": 57,
   "metadata": {},
   "outputs": [
    {
     "data": {
      "text/plain": [
       "     Point Forecast    Lo 80    Hi 80    Lo 95    Hi 95\n",
       "2020       42.04231 40.44975 43.63487 39.55286 44.53176\n",
       "2024       41.78402 40.18198 43.38605 39.27976 44.28827\n",
       "2028       41.52572 39.91368 43.13775 39.00583 44.04561\n",
       "2032       41.26742 39.64486 42.88999 38.73108 43.80377\n",
       "2036       41.00913 39.37552 42.64273 38.45552 43.56274\n",
       "2040       40.75083 39.10568 42.39598 38.17918 43.32249\n",
       "2044       40.49254 38.83535 42.14973 37.90206 43.08302\n",
       "2048       40.23424 38.56453 41.90396 37.62419 42.84430\n",
       "2052       39.97595 38.29324 41.65866 37.34558 42.60632\n",
       "2056       39.71765 38.02148 41.41382 37.06625 42.36906"
      ]
     },
     "metadata": {},
     "output_type": "display_data"
    }
   ],
   "source": [
    "fcast"
   ]
  },
  {
   "cell_type": "code",
   "execution_count": null,
   "metadata": {},
   "outputs": [],
   "source": []
  },
  {
   "cell_type": "code",
   "execution_count": null,
   "metadata": {},
   "outputs": [],
   "source": []
  },
  {
   "cell_type": "markdown",
   "metadata": {},
   "source": [
    "# 3."
   ]
  },
  {
   "cell_type": "code",
   "execution_count": 61,
   "metadata": {},
   "outputs": [
    {
     "name": "stderr",
     "output_type": "stream",
     "text": [
      "ERROR while rich displaying an object: Error in repr_matrix_generic(obj, \"\\n%s%s\\n\", sprintf(\"|%%s\\n|%s|\\n\", : formal argument \"cols\" matched by multiple actual arguments\n",
      "\n",
      "Traceback:\n",
      "1. FUN(X[[i]], ...)\n",
      "2. tryCatch(withCallingHandlers({\n",
      " .     if (!mime %in% names(repr::mime2repr)) \n",
      " .         stop(\"No repr_* for mimetype \", mime, \" in repr::mime2repr\")\n",
      " .     rpr <- repr::mime2repr[[mime]](obj)\n",
      " .     if (is.null(rpr)) \n",
      " .         return(NULL)\n",
      " .     prepare_content(is.raw(rpr), rpr)\n",
      " . }, error = error_handler), error = outer_handler)\n",
      "3. tryCatchList(expr, classes, parentenv, handlers)\n",
      "4. tryCatchOne(expr, names, parentenv, handlers[[1L]])\n",
      "5. doTryCatch(return(expr), name, parentenv, handler)\n",
      "6. withCallingHandlers({\n",
      " .     if (!mime %in% names(repr::mime2repr)) \n",
      " .         stop(\"No repr_* for mimetype \", mime, \" in repr::mime2repr\")\n",
      " .     rpr <- repr::mime2repr[[mime]](obj)\n",
      " .     if (is.null(rpr)) \n",
      " .         return(NULL)\n",
      " .     prepare_content(is.raw(rpr), rpr)\n",
      " . }, error = error_handler)\n",
      "7. repr::mime2repr[[mime]](obj)\n",
      "8. repr_markdown.ts(obj)\n",
      "9. repr_ts_generic(obj, repr_markdown.matrix, ...)\n",
      "10. repr_func(m, ..., rows = nrow(m), cols = ncol(m))\n"
     ]
    },
    {
     "data": {
      "text/html": [
       "<table>\n",
       "<thead><tr><th></th><th scope=col>Qtr1</th><th scope=col>Qtr2</th><th scope=col>Qtr3</th><th scope=col>Qtr4</th></tr></thead>\n",
       "<tbody>\n",
       "\t<tr><th scope=row>1956</th><td>284</td><td>213</td><td>227</td><td>308</td></tr>\n",
       "\t<tr><th scope=row>1957</th><td>262</td><td>228</td><td>236</td><td>320</td></tr>\n",
       "\t<tr><th scope=row>1958</th><td>272</td><td>233</td><td>237</td><td>313</td></tr>\n",
       "\t<tr><th scope=row>1959</th><td>261</td><td>227</td><td>250</td><td>314</td></tr>\n",
       "\t<tr><th scope=row>1960</th><td>286</td><td>227</td><td>260</td><td>311</td></tr>\n",
       "\t<tr><th scope=row>1961</th><td>295</td><td>233</td><td>257</td><td>339</td></tr>\n",
       "\t<tr><th scope=row>1962</th><td>279</td><td>250</td><td>270</td><td>346</td></tr>\n",
       "\t<tr><th scope=row>1963</th><td>294</td><td>255</td><td>278</td><td>363</td></tr>\n",
       "\t<tr><th scope=row>1964</th><td>313</td><td>273</td><td>300</td><td>370</td></tr>\n",
       "\t<tr><th scope=row>1965</th><td>331</td><td>288</td><td>306</td><td>386</td></tr>\n",
       "\t<tr><th scope=row>1966</th><td>335</td><td>288</td><td>308</td><td>402</td></tr>\n",
       "\t<tr><th scope=row>1967</th><td>353</td><td>316</td><td>325</td><td>405</td></tr>\n",
       "\t<tr><th scope=row>1968</th><td>393</td><td>319</td><td>327</td><td>442</td></tr>\n",
       "\t<tr><th scope=row>1969</th><td>383</td><td>332</td><td>361</td><td>446</td></tr>\n",
       "\t<tr><th scope=row>1970</th><td>387</td><td>357</td><td>374</td><td>466</td></tr>\n",
       "\t<tr><th scope=row>1971</th><td>410</td><td>370</td><td>379</td><td>487</td></tr>\n",
       "\t<tr><th scope=row>1972</th><td>419</td><td>378</td><td>393</td><td>506</td></tr>\n",
       "\t<tr><th scope=row>1973</th><td>458</td><td>387</td><td>427</td><td>565</td></tr>\n",
       "\t<tr><th scope=row>1974</th><td>465</td><td>445</td><td>450</td><td>556</td></tr>\n",
       "\t<tr><th scope=row>1975</th><td>500</td><td>452</td><td>435</td><td>554</td></tr>\n",
       "\t<tr><th scope=row>1976</th><td>510</td><td>433</td><td>453</td><td>548</td></tr>\n",
       "\t<tr><th scope=row>1977</th><td>486</td><td>453</td><td>457</td><td>566</td></tr>\n",
       "\t<tr><th scope=row>1978</th><td>515</td><td>464</td><td>431</td><td>588</td></tr>\n",
       "\t<tr><th scope=row>1979</th><td>503</td><td>443</td><td>448</td><td>555</td></tr>\n",
       "\t<tr><th scope=row>1980</th><td>513</td><td>427</td><td>473</td><td>526</td></tr>\n",
       "\t<tr><th scope=row>1981</th><td>548</td><td>440</td><td>469</td><td>575</td></tr>\n",
       "\t<tr><th scope=row>1982</th><td>493</td><td>433</td><td>480</td><td>576</td></tr>\n",
       "\t<tr><th scope=row>1983</th><td>475</td><td>405</td><td>435</td><td>535</td></tr>\n",
       "\t<tr><th scope=row>1984</th><td>453</td><td>430</td><td>417</td><td>552</td></tr>\n",
       "\t<tr><th scope=row>1985</th><td>464</td><td>417</td><td>423</td><td>554</td></tr>\n",
       "\t<tr><th scope=row>1986</th><td>459</td><td>428</td><td>429</td><td>534</td></tr>\n",
       "\t<tr><th scope=row>1987</th><td>481</td><td>416</td><td>440</td><td>538</td></tr>\n",
       "\t<tr><th scope=row>1988</th><td>474</td><td>440</td><td>447</td><td>598</td></tr>\n",
       "\t<tr><th scope=row>1989</th><td>467</td><td>439</td><td>446</td><td>567</td></tr>\n",
       "\t<tr><th scope=row>1990</th><td>485</td><td>441</td><td>429</td><td>599</td></tr>\n",
       "\t<tr><th scope=row>1991</th><td>464</td><td>424</td><td>436</td><td>574</td></tr>\n",
       "\t<tr><th scope=row>1992</th><td>443</td><td>410</td><td>420</td><td>532</td></tr>\n",
       "\t<tr><th scope=row>1993</th><td>433</td><td>421</td><td>410</td><td>512</td></tr>\n",
       "\t<tr><th scope=row>1994</th><td>449</td><td>381</td><td>423</td><td>531</td></tr>\n",
       "\t<tr><th scope=row>1995</th><td>426</td><td>408</td><td>416</td><td>520</td></tr>\n",
       "\t<tr><th scope=row>1996</th><td>409</td><td>398</td><td>398</td><td>507</td></tr>\n",
       "\t<tr><th scope=row>1997</th><td>432</td><td>398</td><td>406</td><td>526</td></tr>\n",
       "\t<tr><th scope=row>1998</th><td>428</td><td>397</td><td>403</td><td>517</td></tr>\n",
       "\t<tr><th scope=row>1999</th><td>435</td><td>383</td><td>424</td><td>521</td></tr>\n",
       "\t<tr><th scope=row>2000</th><td>421</td><td>402</td><td>414</td><td>500</td></tr>\n",
       "\t<tr><th scope=row>2001</th><td>451</td><td>380</td><td>416</td><td>492</td></tr>\n",
       "\t<tr><th scope=row>2002</th><td>428</td><td>408</td><td>406</td><td>506</td></tr>\n",
       "\t<tr><th scope=row>2003</th><td>435</td><td>380</td><td>421</td><td>490</td></tr>\n",
       "\t<tr><th scope=row>2004</th><td>435</td><td>390</td><td>412</td><td>454</td></tr>\n",
       "\t<tr><th scope=row>2005</th><td>416</td><td>403</td><td>408</td><td>482</td></tr>\n",
       "\t<tr><th scope=row>2006</th><td>438</td><td>386</td><td>405</td><td>491</td></tr>\n",
       "\t<tr><th scope=row>2007</th><td>427</td><td>383</td><td>394</td><td>473</td></tr>\n",
       "\t<tr><th scope=row>2008</th><td>420</td><td>390</td><td>410</td><td>488</td></tr>\n",
       "\t<tr><th scope=row>2009</th><td>415</td><td>398</td><td>419</td><td>488</td></tr>\n",
       "\t<tr><th scope=row>2010</th><td>414</td><td>374</td><td>   </td><td>   </td></tr>\n",
       "</tbody>\n",
       "</table>\n"
      ],
      "text/latex": [
       "\\begin{tabular}{r|llll}\n",
       "  & Qtr1 & Qtr2 & Qtr3 & Qtr4\\\\\n",
       "\\hline\n",
       "\t1956 & 284 & 213 & 227 & 308\\\\\n",
       "\t1957 & 262 & 228 & 236 & 320\\\\\n",
       "\t1958 & 272 & 233 & 237 & 313\\\\\n",
       "\t1959 & 261 & 227 & 250 & 314\\\\\n",
       "\t1960 & 286 & 227 & 260 & 311\\\\\n",
       "\t1961 & 295 & 233 & 257 & 339\\\\\n",
       "\t1962 & 279 & 250 & 270 & 346\\\\\n",
       "\t1963 & 294 & 255 & 278 & 363\\\\\n",
       "\t1964 & 313 & 273 & 300 & 370\\\\\n",
       "\t1965 & 331 & 288 & 306 & 386\\\\\n",
       "\t1966 & 335 & 288 & 308 & 402\\\\\n",
       "\t1967 & 353 & 316 & 325 & 405\\\\\n",
       "\t1968 & 393 & 319 & 327 & 442\\\\\n",
       "\t1969 & 383 & 332 & 361 & 446\\\\\n",
       "\t1970 & 387 & 357 & 374 & 466\\\\\n",
       "\t1971 & 410 & 370 & 379 & 487\\\\\n",
       "\t1972 & 419 & 378 & 393 & 506\\\\\n",
       "\t1973 & 458 & 387 & 427 & 565\\\\\n",
       "\t1974 & 465 & 445 & 450 & 556\\\\\n",
       "\t1975 & 500 & 452 & 435 & 554\\\\\n",
       "\t1976 & 510 & 433 & 453 & 548\\\\\n",
       "\t1977 & 486 & 453 & 457 & 566\\\\\n",
       "\t1978 & 515 & 464 & 431 & 588\\\\\n",
       "\t1979 & 503 & 443 & 448 & 555\\\\\n",
       "\t1980 & 513 & 427 & 473 & 526\\\\\n",
       "\t1981 & 548 & 440 & 469 & 575\\\\\n",
       "\t1982 & 493 & 433 & 480 & 576\\\\\n",
       "\t1983 & 475 & 405 & 435 & 535\\\\\n",
       "\t1984 & 453 & 430 & 417 & 552\\\\\n",
       "\t1985 & 464 & 417 & 423 & 554\\\\\n",
       "\t1986 & 459 & 428 & 429 & 534\\\\\n",
       "\t1987 & 481 & 416 & 440 & 538\\\\\n",
       "\t1988 & 474 & 440 & 447 & 598\\\\\n",
       "\t1989 & 467 & 439 & 446 & 567\\\\\n",
       "\t1990 & 485 & 441 & 429 & 599\\\\\n",
       "\t1991 & 464 & 424 & 436 & 574\\\\\n",
       "\t1992 & 443 & 410 & 420 & 532\\\\\n",
       "\t1993 & 433 & 421 & 410 & 512\\\\\n",
       "\t1994 & 449 & 381 & 423 & 531\\\\\n",
       "\t1995 & 426 & 408 & 416 & 520\\\\\n",
       "\t1996 & 409 & 398 & 398 & 507\\\\\n",
       "\t1997 & 432 & 398 & 406 & 526\\\\\n",
       "\t1998 & 428 & 397 & 403 & 517\\\\\n",
       "\t1999 & 435 & 383 & 424 & 521\\\\\n",
       "\t2000 & 421 & 402 & 414 & 500\\\\\n",
       "\t2001 & 451 & 380 & 416 & 492\\\\\n",
       "\t2002 & 428 & 408 & 406 & 506\\\\\n",
       "\t2003 & 435 & 380 & 421 & 490\\\\\n",
       "\t2004 & 435 & 390 & 412 & 454\\\\\n",
       "\t2005 & 416 & 403 & 408 & 482\\\\\n",
       "\t2006 & 438 & 386 & 405 & 491\\\\\n",
       "\t2007 & 427 & 383 & 394 & 473\\\\\n",
       "\t2008 & 420 & 390 & 410 & 488\\\\\n",
       "\t2009 & 415 & 398 & 419 & 488\\\\\n",
       "\t2010 & 414 & 374 &     &    \\\\\n",
       "\\end{tabular}\n"
      ],
      "text/plain": [
       "     Qtr1 Qtr2 Qtr3 Qtr4\n",
       "1956 284  213  227  308 \n",
       "1957 262  228  236  320 \n",
       "1958 272  233  237  313 \n",
       "1959 261  227  250  314 \n",
       "1960 286  227  260  311 \n",
       "1961 295  233  257  339 \n",
       "1962 279  250  270  346 \n",
       "1963 294  255  278  363 \n",
       "1964 313  273  300  370 \n",
       "1965 331  288  306  386 \n",
       "1966 335  288  308  402 \n",
       "1967 353  316  325  405 \n",
       "1968 393  319  327  442 \n",
       "1969 383  332  361  446 \n",
       "1970 387  357  374  466 \n",
       "1971 410  370  379  487 \n",
       "1972 419  378  393  506 \n",
       "1973 458  387  427  565 \n",
       "1974 465  445  450  556 \n",
       "1975 500  452  435  554 \n",
       "1976 510  433  453  548 \n",
       "1977 486  453  457  566 \n",
       "1978 515  464  431  588 \n",
       "1979 503  443  448  555 \n",
       "1980 513  427  473  526 \n",
       "1981 548  440  469  575 \n",
       "1982 493  433  480  576 \n",
       "1983 475  405  435  535 \n",
       "1984 453  430  417  552 \n",
       "1985 464  417  423  554 \n",
       "1986 459  428  429  534 \n",
       "1987 481  416  440  538 \n",
       "1988 474  440  447  598 \n",
       "1989 467  439  446  567 \n",
       "1990 485  441  429  599 \n",
       "1991 464  424  436  574 \n",
       "1992 443  410  420  532 \n",
       "1993 433  421  410  512 \n",
       "1994 449  381  423  531 \n",
       "1995 426  408  416  520 \n",
       "1996 409  398  398  507 \n",
       "1997 432  398  406  526 \n",
       "1998 428  397  403  517 \n",
       "1999 435  383  424  521 \n",
       "2000 421  402  414  500 \n",
       "2001 451  380  416  492 \n",
       "2002 428  408  406  506 \n",
       "2003 435  380  421  490 \n",
       "2004 435  390  412  454 \n",
       "2005 416  403  408  482 \n",
       "2006 438  386  405  491 \n",
       "2007 427  383  394  473 \n",
       "2008 420  390  410  488 \n",
       "2009 415  398  419  488 \n",
       "2010 414  374           "
      ]
     },
     "metadata": {},
     "output_type": "display_data"
    }
   ],
   "source": [
    "ausbeer"
   ]
  },
  {
   "cell_type": "code",
   "execution_count": 58,
   "metadata": {},
   "outputs": [
    {
     "name": "stderr",
     "output_type": "stream",
     "text": [
      "ERROR while rich displaying an object: Error in repr_matrix_generic(obj, \"\\n%s%s\\n\", sprintf(\"|%%s\\n|%s|\\n\", : formal argument \"cols\" matched by multiple actual arguments\n",
      "\n",
      "Traceback:\n",
      "1. FUN(X[[i]], ...)\n",
      "2. tryCatch(withCallingHandlers({\n",
      " .     if (!mime %in% names(repr::mime2repr)) \n",
      " .         stop(\"No repr_* for mimetype \", mime, \" in repr::mime2repr\")\n",
      " .     rpr <- repr::mime2repr[[mime]](obj)\n",
      " .     if (is.null(rpr)) \n",
      " .         return(NULL)\n",
      " .     prepare_content(is.raw(rpr), rpr)\n",
      " . }, error = error_handler), error = outer_handler)\n",
      "3. tryCatchList(expr, classes, parentenv, handlers)\n",
      "4. tryCatchOne(expr, names, parentenv, handlers[[1L]])\n",
      "5. doTryCatch(return(expr), name, parentenv, handler)\n",
      "6. withCallingHandlers({\n",
      " .     if (!mime %in% names(repr::mime2repr)) \n",
      " .         stop(\"No repr_* for mimetype \", mime, \" in repr::mime2repr\")\n",
      " .     rpr <- repr::mime2repr[[mime]](obj)\n",
      " .     if (is.null(rpr)) \n",
      " .         return(NULL)\n",
      " .     prepare_content(is.raw(rpr), rpr)\n",
      " . }, error = error_handler)\n",
      "7. repr::mime2repr[[mime]](obj)\n",
      "8. repr_markdown.ts(obj)\n",
      "9. repr_ts_generic(obj, repr_markdown.matrix, ...)\n",
      "10. repr_func(m, ..., rows = nrow(m), cols = ncol(m))\n"
     ]
    },
    {
     "data": {
      "text/html": [
       "<table>\n",
       "<thead><tr><th></th><th scope=col>Qtr1</th><th scope=col>Qtr2</th><th scope=col>Qtr3</th><th scope=col>Qtr4</th></tr></thead>\n",
       "<tbody>\n",
       "\t<tr><th scope=row>1956</th><td>0.67</td><td>0.33</td><td>0.00</td><td>0.00</td></tr>\n",
       "\t<tr><th scope=row>1957</th><td>0.00</td><td>1.00</td><td>0.00</td><td>0.00</td></tr>\n",
       "\t<tr><th scope=row>1958</th><td>0.00</td><td>1.00</td><td>0.00</td><td>0.00</td></tr>\n",
       "\t<tr><th scope=row>1959</th><td>1.00</td><td>0.00</td><td>0.00</td><td>0.00</td></tr>\n",
       "\t<tr><th scope=row>1960</th><td>0.00</td><td>1.00</td><td>0.00</td><td>0.00</td></tr>\n",
       "\t<tr><th scope=row>1961</th><td>0.33</td><td>0.67</td><td>0.00</td><td>0.00</td></tr>\n",
       "\t<tr><th scope=row>1962</th><td>0.00</td><td>1.00</td><td>0.00</td><td>0.00</td></tr>\n",
       "\t<tr><th scope=row>1963</th><td>0.00</td><td>1.00</td><td>0.00</td><td>0.00</td></tr>\n",
       "\t<tr><th scope=row>1964</th><td>1.00</td><td>0.00</td><td>0.00</td><td>0.00</td></tr>\n",
       "\t<tr><th scope=row>1965</th><td>0.00</td><td>1.00</td><td>0.00</td><td>0.00</td></tr>\n",
       "\t<tr><th scope=row>1966</th><td>0.00</td><td>1.00</td><td>0.00</td><td>0.00</td></tr>\n",
       "\t<tr><th scope=row>1967</th><td>1.00</td><td>0.00</td><td>0.00</td><td>0.00</td></tr>\n",
       "\t<tr><th scope=row>1968</th><td>0.00</td><td>1.00</td><td>0.00</td><td>0.00</td></tr>\n",
       "\t<tr><th scope=row>1969</th><td>0.00</td><td>1.00</td><td>0.00</td><td>0.00</td></tr>\n",
       "\t<tr><th scope=row>1970</th><td>1.00</td><td>0.00</td><td>0.00</td><td>0.00</td></tr>\n",
       "\t<tr><th scope=row>1971</th><td>0.00</td><td>1.00</td><td>0.00</td><td>0.00</td></tr>\n",
       "\t<tr><th scope=row>1972</th><td>0.33</td><td>0.67</td><td>0.00</td><td>0.00</td></tr>\n",
       "\t<tr><th scope=row>1973</th><td>0.00</td><td>1.00</td><td>0.00</td><td>0.00</td></tr>\n",
       "\t<tr><th scope=row>1974</th><td>0.00</td><td>1.00</td><td>0.00</td><td>0.00</td></tr>\n",
       "\t<tr><th scope=row>1975</th><td>1.00</td><td>0.00</td><td>0.00</td><td>0.00</td></tr>\n",
       "\t<tr><th scope=row>1976</th><td>0.00</td><td>1.00</td><td>0.00</td><td>0.00</td></tr>\n",
       "\t<tr><th scope=row>1977</th><td>0.00</td><td>1.00</td><td>0.00</td><td>0.00</td></tr>\n",
       "\t<tr><th scope=row>1978</th><td>1.00</td><td>0.00</td><td>0.00</td><td>0.00</td></tr>\n",
       "\t<tr><th scope=row>1979</th><td>0.00</td><td>1.00</td><td>0.00</td><td>0.00</td></tr>\n",
       "\t<tr><th scope=row>1980</th><td>0.00</td><td>1.00</td><td>0.00</td><td>0.00</td></tr>\n",
       "\t<tr><th scope=row>1981</th><td>0.00</td><td>1.00</td><td>0.00</td><td>0.00</td></tr>\n",
       "\t<tr><th scope=row>1982</th><td>0.00</td><td>1.00</td><td>0.00</td><td>0.00</td></tr>\n",
       "\t<tr><th scope=row>1983</th><td>0.00</td><td>1.00</td><td>0.00</td><td>0.00</td></tr>\n",
       "\t<tr><th scope=row>1984</th><td>0.00</td><td>1.00</td><td>0.00</td><td>0.00</td></tr>\n",
       "\t<tr><th scope=row>1985</th><td>0.00</td><td>1.00</td><td>0.00</td><td>0.00</td></tr>\n",
       "\t<tr><th scope=row>1986</th><td>1.00</td><td>0.00</td><td>0.00</td><td>0.00</td></tr>\n",
       "\t<tr><th scope=row>1987</th><td>0.00</td><td>1.00</td><td>0.00</td><td>0.00</td></tr>\n",
       "\t<tr><th scope=row>1988</th><td>0.00</td><td>1.00</td><td>0.00</td><td>0.00</td></tr>\n",
       "\t<tr><th scope=row>1989</th><td>1.00</td><td>0.00</td><td>0.00</td><td>0.00</td></tr>\n",
       "\t<tr><th scope=row>1990</th><td>0.00</td><td>1.00</td><td>0.00</td><td>0.00</td></tr>\n",
       "\t<tr><th scope=row>1991</th><td>1.00</td><td>0.00</td><td>0.00</td><td>0.00</td></tr>\n",
       "\t<tr><th scope=row>1992</th><td>0.00</td><td>1.00</td><td>0.00</td><td>0.00</td></tr>\n",
       "\t<tr><th scope=row>1993</th><td>0.00</td><td>1.00</td><td>0.00</td><td>0.00</td></tr>\n",
       "\t<tr><th scope=row>1994</th><td>0.00</td><td>1.00</td><td>0.00</td><td>0.00</td></tr>\n",
       "\t<tr><th scope=row>1995</th><td>0.00</td><td>1.00</td><td>0.00</td><td>0.00</td></tr>\n",
       "\t<tr><th scope=row>1996</th><td>0.00</td><td>1.00</td><td>0.00</td><td>0.00</td></tr>\n",
       "\t<tr><th scope=row>1997</th><td>1.00</td><td>0.00</td><td>0.00</td><td>0.00</td></tr>\n",
       "\t<tr><th scope=row>1998</th><td>0.00</td><td>1.00</td><td>0.00</td><td>0.00</td></tr>\n",
       "\t<tr><th scope=row>1999</th><td>0.00</td><td>1.00</td><td>0.00</td><td>0.00</td></tr>\n",
       "\t<tr><th scope=row>2000</th><td>0.00</td><td>1.00</td><td>0.00</td><td>0.00</td></tr>\n",
       "\t<tr><th scope=row>2001</th><td>0.00</td><td>1.00</td><td>0.00</td><td>0.00</td></tr>\n",
       "\t<tr><th scope=row>2002</th><td>1.00</td><td>0.00</td><td>0.00</td><td>0.00</td></tr>\n",
       "\t<tr><th scope=row>2003</th><td>0.00</td><td>1.00</td><td>0.00</td><td>0.00</td></tr>\n",
       "\t<tr><th scope=row>2004</th><td>0.00</td><td>1.00</td><td>0.00</td><td>0.00</td></tr>\n",
       "\t<tr><th scope=row>2005</th><td>1.00</td><td>0.00</td><td>0.00</td><td>0.00</td></tr>\n",
       "\t<tr><th scope=row>2006</th><td>0.00</td><td>1.00</td><td>0.00</td><td>0.00</td></tr>\n",
       "\t<tr><th scope=row>2007</th><td>0.00</td><td>1.00</td><td>0.00</td><td>0.00</td></tr>\n",
       "\t<tr><th scope=row>2008</th><td>1.00</td><td>0.00</td><td>0.00</td><td>0.00</td></tr>\n",
       "\t<tr><th scope=row>2009</th><td>0.00</td><td>1.00</td><td>0.00</td><td>0.00</td></tr>\n",
       "\t<tr><th scope=row>2010</th><td>0.00</td><td>1.00</td><td>    </td><td>    </td></tr>\n",
       "</tbody>\n",
       "</table>\n"
      ],
      "text/latex": [
       "\\begin{tabular}{r|llll}\n",
       "  & Qtr1 & Qtr2 & Qtr3 & Qtr4\\\\\n",
       "\\hline\n",
       "\t1956 & 0.67 & 0.33 & 0.00 & 0.00\\\\\n",
       "\t1957 & 0.00 & 1.00 & 0.00 & 0.00\\\\\n",
       "\t1958 & 0.00 & 1.00 & 0.00 & 0.00\\\\\n",
       "\t1959 & 1.00 & 0.00 & 0.00 & 0.00\\\\\n",
       "\t1960 & 0.00 & 1.00 & 0.00 & 0.00\\\\\n",
       "\t1961 & 0.33 & 0.67 & 0.00 & 0.00\\\\\n",
       "\t1962 & 0.00 & 1.00 & 0.00 & 0.00\\\\\n",
       "\t1963 & 0.00 & 1.00 & 0.00 & 0.00\\\\\n",
       "\t1964 & 1.00 & 0.00 & 0.00 & 0.00\\\\\n",
       "\t1965 & 0.00 & 1.00 & 0.00 & 0.00\\\\\n",
       "\t1966 & 0.00 & 1.00 & 0.00 & 0.00\\\\\n",
       "\t1967 & 1.00 & 0.00 & 0.00 & 0.00\\\\\n",
       "\t1968 & 0.00 & 1.00 & 0.00 & 0.00\\\\\n",
       "\t1969 & 0.00 & 1.00 & 0.00 & 0.00\\\\\n",
       "\t1970 & 1.00 & 0.00 & 0.00 & 0.00\\\\\n",
       "\t1971 & 0.00 & 1.00 & 0.00 & 0.00\\\\\n",
       "\t1972 & 0.33 & 0.67 & 0.00 & 0.00\\\\\n",
       "\t1973 & 0.00 & 1.00 & 0.00 & 0.00\\\\\n",
       "\t1974 & 0.00 & 1.00 & 0.00 & 0.00\\\\\n",
       "\t1975 & 1.00 & 0.00 & 0.00 & 0.00\\\\\n",
       "\t1976 & 0.00 & 1.00 & 0.00 & 0.00\\\\\n",
       "\t1977 & 0.00 & 1.00 & 0.00 & 0.00\\\\\n",
       "\t1978 & 1.00 & 0.00 & 0.00 & 0.00\\\\\n",
       "\t1979 & 0.00 & 1.00 & 0.00 & 0.00\\\\\n",
       "\t1980 & 0.00 & 1.00 & 0.00 & 0.00\\\\\n",
       "\t1981 & 0.00 & 1.00 & 0.00 & 0.00\\\\\n",
       "\t1982 & 0.00 & 1.00 & 0.00 & 0.00\\\\\n",
       "\t1983 & 0.00 & 1.00 & 0.00 & 0.00\\\\\n",
       "\t1984 & 0.00 & 1.00 & 0.00 & 0.00\\\\\n",
       "\t1985 & 0.00 & 1.00 & 0.00 & 0.00\\\\\n",
       "\t1986 & 1.00 & 0.00 & 0.00 & 0.00\\\\\n",
       "\t1987 & 0.00 & 1.00 & 0.00 & 0.00\\\\\n",
       "\t1988 & 0.00 & 1.00 & 0.00 & 0.00\\\\\n",
       "\t1989 & 1.00 & 0.00 & 0.00 & 0.00\\\\\n",
       "\t1990 & 0.00 & 1.00 & 0.00 & 0.00\\\\\n",
       "\t1991 & 1.00 & 0.00 & 0.00 & 0.00\\\\\n",
       "\t1992 & 0.00 & 1.00 & 0.00 & 0.00\\\\\n",
       "\t1993 & 0.00 & 1.00 & 0.00 & 0.00\\\\\n",
       "\t1994 & 0.00 & 1.00 & 0.00 & 0.00\\\\\n",
       "\t1995 & 0.00 & 1.00 & 0.00 & 0.00\\\\\n",
       "\t1996 & 0.00 & 1.00 & 0.00 & 0.00\\\\\n",
       "\t1997 & 1.00 & 0.00 & 0.00 & 0.00\\\\\n",
       "\t1998 & 0.00 & 1.00 & 0.00 & 0.00\\\\\n",
       "\t1999 & 0.00 & 1.00 & 0.00 & 0.00\\\\\n",
       "\t2000 & 0.00 & 1.00 & 0.00 & 0.00\\\\\n",
       "\t2001 & 0.00 & 1.00 & 0.00 & 0.00\\\\\n",
       "\t2002 & 1.00 & 0.00 & 0.00 & 0.00\\\\\n",
       "\t2003 & 0.00 & 1.00 & 0.00 & 0.00\\\\\n",
       "\t2004 & 0.00 & 1.00 & 0.00 & 0.00\\\\\n",
       "\t2005 & 1.00 & 0.00 & 0.00 & 0.00\\\\\n",
       "\t2006 & 0.00 & 1.00 & 0.00 & 0.00\\\\\n",
       "\t2007 & 0.00 & 1.00 & 0.00 & 0.00\\\\\n",
       "\t2008 & 1.00 & 0.00 & 0.00 & 0.00\\\\\n",
       "\t2009 & 0.00 & 1.00 & 0.00 & 0.00\\\\\n",
       "\t2010 & 0.00 & 1.00 &      &     \\\\\n",
       "\\end{tabular}\n"
      ],
      "text/plain": [
       "     Qtr1 Qtr2 Qtr3 Qtr4\n",
       "1956 0.67 0.33 0.00 0.00\n",
       "1957 0.00 1.00 0.00 0.00\n",
       "1958 0.00 1.00 0.00 0.00\n",
       "1959 1.00 0.00 0.00 0.00\n",
       "1960 0.00 1.00 0.00 0.00\n",
       "1961 0.33 0.67 0.00 0.00\n",
       "1962 0.00 1.00 0.00 0.00\n",
       "1963 0.00 1.00 0.00 0.00\n",
       "1964 1.00 0.00 0.00 0.00\n",
       "1965 0.00 1.00 0.00 0.00\n",
       "1966 0.00 1.00 0.00 0.00\n",
       "1967 1.00 0.00 0.00 0.00\n",
       "1968 0.00 1.00 0.00 0.00\n",
       "1969 0.00 1.00 0.00 0.00\n",
       "1970 1.00 0.00 0.00 0.00\n",
       "1971 0.00 1.00 0.00 0.00\n",
       "1972 0.33 0.67 0.00 0.00\n",
       "1973 0.00 1.00 0.00 0.00\n",
       "1974 0.00 1.00 0.00 0.00\n",
       "1975 1.00 0.00 0.00 0.00\n",
       "1976 0.00 1.00 0.00 0.00\n",
       "1977 0.00 1.00 0.00 0.00\n",
       "1978 1.00 0.00 0.00 0.00\n",
       "1979 0.00 1.00 0.00 0.00\n",
       "1980 0.00 1.00 0.00 0.00\n",
       "1981 0.00 1.00 0.00 0.00\n",
       "1982 0.00 1.00 0.00 0.00\n",
       "1983 0.00 1.00 0.00 0.00\n",
       "1984 0.00 1.00 0.00 0.00\n",
       "1985 0.00 1.00 0.00 0.00\n",
       "1986 1.00 0.00 0.00 0.00\n",
       "1987 0.00 1.00 0.00 0.00\n",
       "1988 0.00 1.00 0.00 0.00\n",
       "1989 1.00 0.00 0.00 0.00\n",
       "1990 0.00 1.00 0.00 0.00\n",
       "1991 1.00 0.00 0.00 0.00\n",
       "1992 0.00 1.00 0.00 0.00\n",
       "1993 0.00 1.00 0.00 0.00\n",
       "1994 0.00 1.00 0.00 0.00\n",
       "1995 0.00 1.00 0.00 0.00\n",
       "1996 0.00 1.00 0.00 0.00\n",
       "1997 1.00 0.00 0.00 0.00\n",
       "1998 0.00 1.00 0.00 0.00\n",
       "1999 0.00 1.00 0.00 0.00\n",
       "2000 0.00 1.00 0.00 0.00\n",
       "2001 0.00 1.00 0.00 0.00\n",
       "2002 1.00 0.00 0.00 0.00\n",
       "2003 0.00 1.00 0.00 0.00\n",
       "2004 0.00 1.00 0.00 0.00\n",
       "2005 1.00 0.00 0.00 0.00\n",
       "2006 0.00 1.00 0.00 0.00\n",
       "2007 0.00 1.00 0.00 0.00\n",
       "2008 1.00 0.00 0.00 0.00\n",
       "2009 0.00 1.00 0.00 0.00\n",
       "2010 0.00 1.00          "
      ]
     },
     "metadata": {},
     "output_type": "display_data"
    }
   ],
   "source": [
    "easter(ausbeer)"
   ]
  },
  {
   "cell_type": "code",
   "execution_count": 60,
   "metadata": {},
   "outputs": [
    {
     "data": {
      "image/png": "[encoded data removed]",
      "text/plain": [
       "plot without title"
      ]
     },
     "metadata": {},
     "output_type": "display_data"
    }
   ],
   "source": [
    "autoplot(ausbeer)"
   ]
  },
  {
   "cell_type": "code",
   "execution_count": 62,
   "metadata": {},
   "outputs": [
    {
     "data": {
      "image/png": "[encoded data removed]",
      "text/plain": [
       "plot without title"
      ]
     },
     "metadata": {},
     "output_type": "display_data"
    }
   ],
   "source": [
    "autoplot(easter(ausbeer))"
   ]
  },
  {
   "cell_type": "code",
   "execution_count": null,
   "metadata": {},
   "outputs": [],
   "source": []
  },
  {
   "cell_type": "code",
   "execution_count": null,
   "metadata": {},
   "outputs": [],
   "source": []
  },
  {
   "cell_type": "markdown",
   "metadata": {},
   "source": [
    "# 4."
   ]
  },
  {
   "cell_type": "code",
   "execution_count": null,
   "metadata": {},
   "outputs": [],
   "source": []
  },
  {
   "cell_type": "code",
   "execution_count": null,
   "metadata": {},
   "outputs": [],
   "source": []
  },
  {
   "cell_type": "code",
   "execution_count": null,
   "metadata": {},
   "outputs": [],
   "source": []
  },
  {
   "cell_type": "code",
   "execution_count": null,
   "metadata": {},
   "outputs": [],
   "source": []
  },
  {
   "cell_type": "code",
   "execution_count": null,
   "metadata": {},
   "outputs": [],
   "source": []
  }
 ],
 "metadata": {
  "kernelspec": {
   "display_name": "R",
   "language": "R",
   "name": "ir"
  },
  "language_info": {
   "codemirror_mode": "r",
   "file_extension": ".r",
   "mimetype": "text/x-r-source",
   "name": "R",
   "pygments_lexer": "r",
   "version": "3.6.1"
  }
 },
 "nbformat": 4,
 "nbformat_minor": 2
}
