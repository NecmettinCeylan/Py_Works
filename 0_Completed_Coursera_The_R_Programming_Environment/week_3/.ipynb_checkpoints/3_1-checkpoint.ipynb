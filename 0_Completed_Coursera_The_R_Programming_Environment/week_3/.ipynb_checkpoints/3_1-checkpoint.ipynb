{
 "cells": [
  {
   "cell_type": "code",
   "execution_count": null,
   "metadata": {},
   "outputs": [],
   "source": []
  },
  {
   "cell_type": "code",
   "execution_count": null,
   "metadata": {},
   "outputs": [],
   "source": [
    "lapply, sapply, apply, tapply, mapply, split"
   ]
  },
  {
   "cell_type": "code",
   "execution_count": 6,
   "metadata": {},
   "outputs": [
    {
     "data": {
      "text/html": [
       "<dl>\n",
       "\t<dt>$a</dt>\n",
       "\t\t<dd>3</dd>\n",
       "\t<dt>$b</dt>\n",
       "\t\t<dd>0.164525497714247</dd>\n",
       "</dl>\n"
      ],
      "text/latex": [
       "\\begin{description}\n",
       "\\item[\\$a] 3\n",
       "\\item[\\$b] 0.164525497714247\n",
       "\\end{description}\n"
      ],
      "text/markdown": [
       "$a\n",
       ":   3\n",
       "$b\n",
       ":   0.164525497714247\n",
       "\n",
       "\n"
      ],
      "text/plain": [
       "$a\n",
       "[1] 3\n",
       "\n",
       "$b\n",
       "[1] 0.1645255\n"
      ]
     },
     "metadata": {},
     "output_type": "display_data"
    }
   ],
   "source": [
    "x<- list( a=1:5, b= rnorm(10))\n",
    "lapply(x, mean)\n"
   ]
  },
  {
   "cell_type": "code",
   "execution_count": 2,
   "metadata": {},
   "outputs": [
    {
     "data": {
      "text/html": [
       "<ol>\n",
       "\t<li>0.451561856549233</li>\n",
       "\t<li><ol class=list-inline>\n",
       "\t<li>0.234145681606606</li>\n",
       "\t<li>0.00884165684692562</li>\n",
       "</ol>\n",
       "</li>\n",
       "\t<li><ol class=list-inline>\n",
       "\t<li>0.891765804961324</li>\n",
       "\t<li>0.8183529577218</li>\n",
       "\t<li>0.512866267003119</li>\n",
       "</ol>\n",
       "</li>\n",
       "\t<li><ol class=list-inline>\n",
       "\t<li>0.486041194759309</li>\n",
       "\t<li>0.0751230644527823</li>\n",
       "\t<li>0.530663707526401</li>\n",
       "\t<li>0.81583887245506</li>\n",
       "</ol>\n",
       "</li>\n",
       "</ol>\n"
      ],
      "text/latex": [
       "\\begin{enumerate}\n",
       "\\item 0.451561856549233\n",
       "\\item \\begin{enumerate*}\n",
       "\\item 0.234145681606606\n",
       "\\item 0.00884165684692562\n",
       "\\end{enumerate*}\n",
       "\n",
       "\\item \\begin{enumerate*}\n",
       "\\item 0.891765804961324\n",
       "\\item 0.8183529577218\n",
       "\\item 0.512866267003119\n",
       "\\end{enumerate*}\n",
       "\n",
       "\\item \\begin{enumerate*}\n",
       "\\item 0.486041194759309\n",
       "\\item 0.0751230644527823\n",
       "\\item 0.530663707526401\n",
       "\\item 0.81583887245506\n",
       "\\end{enumerate*}\n",
       "\n",
       "\\end{enumerate}\n"
      ],
      "text/markdown": [
       "1. 0.451561856549233\n",
       "2. 1. 0.234145681606606\n",
       "2. 0.00884165684692562\n",
       "\n",
       "\n",
       "\n",
       "3. 1. 0.891765804961324\n",
       "2. 0.8183529577218\n",
       "3. 0.512866267003119\n",
       "\n",
       "\n",
       "\n",
       "4. 1. 0.486041194759309\n",
       "2. 0.0751230644527823\n",
       "3. 0.530663707526401\n",
       "4. 0.81583887245506\n",
       "\n",
       "\n",
       "\n",
       "\n",
       "\n"
      ],
      "text/plain": [
       "[[1]]\n",
       "[1] 0.4515619\n",
       "\n",
       "[[2]]\n",
       "[1] 0.234145682 0.008841657\n",
       "\n",
       "[[3]]\n",
       "[1] 0.8917658 0.8183530 0.5128663\n",
       "\n",
       "[[4]]\n",
       "[1] 0.48604119 0.07512306 0.53066371 0.81583887\n"
      ]
     },
     "metadata": {},
     "output_type": "display_data"
    }
   ],
   "source": [
    "x<-1:4\n",
    "lapply(x, runif)\n"
   ]
  },
  {
   "cell_type": "code",
   "execution_count": 3,
   "metadata": {},
   "outputs": [],
   "source": [
    "help(runif)"
   ]
  },
  {
   "cell_type": "code",
   "execution_count": 4,
   "metadata": {},
   "outputs": [
    {
     "data": {
      "text/html": [
       "<ol>\n",
       "\t<li>5.99827553844079</li>\n",
       "\t<li><ol class=list-inline>\n",
       "\t<li>6.18591597536579</li>\n",
       "\t<li>5.84892727201805</li>\n",
       "</ol>\n",
       "</li>\n",
       "\t<li><ol class=list-inline>\n",
       "\t<li>2.82573902979493</li>\n",
       "\t<li>5.34564143978059</li>\n",
       "\t<li>6.50592955527827</li>\n",
       "</ol>\n",
       "</li>\n",
       "\t<li><ol class=list-inline>\n",
       "\t<li>8.11724193859845</li>\n",
       "\t<li>8.1043794634752</li>\n",
       "\t<li>7.61425135424361</li>\n",
       "\t<li>6.27153532346711</li>\n",
       "</ol>\n",
       "</li>\n",
       "</ol>\n"
      ],
      "text/latex": [
       "\\begin{enumerate}\n",
       "\\item 5.99827553844079\n",
       "\\item \\begin{enumerate*}\n",
       "\\item 6.18591597536579\n",
       "\\item 5.84892727201805\n",
       "\\end{enumerate*}\n",
       "\n",
       "\\item \\begin{enumerate*}\n",
       "\\item 2.82573902979493\n",
       "\\item 5.34564143978059\n",
       "\\item 6.50592955527827\n",
       "\\end{enumerate*}\n",
       "\n",
       "\\item \\begin{enumerate*}\n",
       "\\item 8.11724193859845\n",
       "\\item 8.1043794634752\n",
       "\\item 7.61425135424361\n",
       "\\item 6.27153532346711\n",
       "\\end{enumerate*}\n",
       "\n",
       "\\end{enumerate}\n"
      ],
      "text/markdown": [
       "1. 5.99827553844079\n",
       "2. 1. 6.18591597536579\n",
       "2. 5.84892727201805\n",
       "\n",
       "\n",
       "\n",
       "3. 1. 2.82573902979493\n",
       "2. 5.34564143978059\n",
       "3. 6.50592955527827\n",
       "\n",
       "\n",
       "\n",
       "4. 1. 8.11724193859845\n",
       "2. 8.1043794634752\n",
       "3. 7.61425135424361\n",
       "4. 6.27153532346711\n",
       "\n",
       "\n",
       "\n",
       "\n",
       "\n"
      ],
      "text/plain": [
       "[[1]]\n",
       "[1] 5.998276\n",
       "\n",
       "[[2]]\n",
       "[1] 6.185916 5.848927\n",
       "\n",
       "[[3]]\n",
       "[1] 2.825739 5.345641 6.505930\n",
       "\n",
       "[[4]]\n",
       "[1] 8.117242 8.104379 7.614251 6.271535\n"
      ]
     },
     "metadata": {},
     "output_type": "display_data"
    }
   ],
   "source": [
    "x<-1:4\n",
    "lapply(x, runif, min =0, max=10)"
   ]
  },
  {
   "cell_type": "code",
   "execution_count": 5,
   "metadata": {},
   "outputs": [
    {
     "data": {
      "text/html": [
       "<dl>\n",
       "\t<dt>$a</dt>\n",
       "\t\t<dd><ol class=list-inline>\n",
       "\t<li>1</li>\n",
       "\t<li>2</li>\n",
       "</ol>\n",
       "</dd>\n",
       "\t<dt>$b</dt>\n",
       "\t\t<dd><ol class=list-inline>\n",
       "\t<li>1</li>\n",
       "\t<li>2</li>\n",
       "\t<li>3</li>\n",
       "</ol>\n",
       "</dd>\n",
       "</dl>\n"
      ],
      "text/latex": [
       "\\begin{description}\n",
       "\\item[\\$a] \\begin{enumerate*}\n",
       "\\item 1\n",
       "\\item 2\n",
       "\\end{enumerate*}\n",
       "\n",
       "\\item[\\$b] \\begin{enumerate*}\n",
       "\\item 1\n",
       "\\item 2\n",
       "\\item 3\n",
       "\\end{enumerate*}\n",
       "\n",
       "\\end{description}\n"
      ],
      "text/markdown": [
       "$a\n",
       ":   1. 1\n",
       "2. 2\n",
       "\n",
       "\n",
       "\n",
       "$b\n",
       ":   1. 1\n",
       "2. 2\n",
       "3. 3\n",
       "\n",
       "\n",
       "\n",
       "\n",
       "\n"
      ],
      "text/plain": [
       "$a\n",
       "[1] 1 2\n",
       "\n",
       "$b\n",
       "[1] 1 2 3\n"
      ]
     },
     "metadata": {},
     "output_type": "display_data"
    }
   ],
   "source": [
    "x<- list( a= matrix(1:4,2,2) , b=  matrix(1:6,3,2) )\n",
    "lapply(x, function(elt) elt[,1])\n"
   ]
  },
  {
   "cell_type": "code",
   "execution_count": 7,
   "metadata": {},
   "outputs": [
    {
     "data": {
      "text/html": [
       "<dl class=dl-horizontal>\n",
       "\t<dt>a</dt>\n",
       "\t\t<dd>3</dd>\n",
       "\t<dt>b</dt>\n",
       "\t\t<dd>0.164525497714247</dd>\n",
       "</dl>\n"
      ],
      "text/latex": [
       "\\begin{description*}\n",
       "\\item[a] 3\n",
       "\\item[b] 0.164525497714247\n",
       "\\end{description*}\n"
      ],
      "text/markdown": [
       "a\n",
       ":   3b\n",
       ":   0.164525497714247\n",
       "\n"
      ],
      "text/plain": [
       "        a         b \n",
       "3.0000000 0.1645255 "
      ]
     },
     "metadata": {},
     "output_type": "display_data"
    }
   ],
   "source": [
    "sapply(x, mean)"
   ]
  },
  {
   "cell_type": "markdown",
   "metadata": {},
   "source": [
    "# apply"
   ]
  },
  {
   "cell_type": "code",
   "execution_count": 25,
   "metadata": {},
   "outputs": [
    {
     "name": "stdout",
     "output_type": "stream",
     "text": [
      "function (X, MARGIN, FUN, ...)  \n"
     ]
    }
   ],
   "source": [
    "str(apply)"
   ]
  },
  {
   "cell_type": "code",
   "execution_count": 26,
   "metadata": {},
   "outputs": [
    {
     "data": {
      "text/html": [
       "<ol class=list-inline>\n",
       "\t<li>0.259783801767431</li>\n",
       "\t<li>0.18694624726346</li>\n",
       "\t<li>-0.139566192717551</li>\n",
       "\t<li>0.150971985687344</li>\n",
       "\t<li>-0.284501952623773</li>\n",
       "\t<li>-0.13157613421955</li>\n",
       "\t<li>-0.459097969617746</li>\n",
       "\t<li>-0.178191497895201</li>\n",
       "\t<li>-0.294130399436068</li>\n",
       "\t<li>0.0102417172374775</li>\n",
       "</ol>\n"
      ],
      "text/latex": [
       "\\begin{enumerate*}\n",
       "\\item 0.259783801767431\n",
       "\\item 0.18694624726346\n",
       "\\item -0.139566192717551\n",
       "\\item 0.150971985687344\n",
       "\\item -0.284501952623773\n",
       "\\item -0.13157613421955\n",
       "\\item -0.459097969617746\n",
       "\\item -0.178191497895201\n",
       "\\item -0.294130399436068\n",
       "\\item 0.0102417172374775\n",
       "\\end{enumerate*}\n"
      ],
      "text/markdown": [
       "1. 0.259783801767431\n",
       "2. 0.18694624726346\n",
       "3. -0.139566192717551\n",
       "4. 0.150971985687344\n",
       "5. -0.284501952623773\n",
       "6. -0.13157613421955\n",
       "7. -0.459097969617746\n",
       "8. -0.178191497895201\n",
       "9. -0.294130399436068\n",
       "10. 0.0102417172374775\n",
       "\n",
       "\n"
      ],
      "text/plain": [
       " [1]  0.25978380  0.18694625 -0.13956619  0.15097199 -0.28450195 -0.13157613\n",
       " [7] -0.45909797 -0.17819150 -0.29413040  0.01024172"
      ]
     },
     "metadata": {},
     "output_type": "display_data"
    }
   ],
   "source": [
    "x <- matrix(rnorm(200),20,10)\n",
    "apply(x,2, mean)"
   ]
  },
  {
   "cell_type": "code",
   "execution_count": 33,
   "metadata": {},
   "outputs": [
    {
     "data": {
      "text/html": [
       "<ol class=list-inline>\n",
       "\t<li>0.153987642609366</li>\n",
       "\t<li>3.59714325771382</li>\n",
       "\t<li>0.841501748381522</li>\n",
       "\t<li>0.643135494743662</li>\n",
       "\t<li>-3.10708945461569</li>\n",
       "\t<li>-0.966170298227043</li>\n",
       "\t<li>-3.03045662624482</li>\n",
       "\t<li>-3.73891711851688</li>\n",
       "\t<li>-4.0418310415036</li>\n",
       "\t<li>-0.462266953592584</li>\n",
       "\t<li>-2.51017981106159</li>\n",
       "\t<li>0.218153521650351</li>\n",
       "\t<li>1.26005196462843</li>\n",
       "\t<li>-0.073861603097208</li>\n",
       "\t<li>1.21614690948723</li>\n",
       "\t<li>-1.00543552265626</li>\n",
       "\t<li>2.0273371366888</li>\n",
       "\t<li>-5.76666208219725</li>\n",
       "\t<li>-2.12611873755724</li>\n",
       "\t<li>-0.71087631771653</li>\n",
       "</ol>\n"
      ],
      "text/latex": [
       "\\begin{enumerate*}\n",
       "\\item 0.153987642609366\n",
       "\\item 3.59714325771382\n",
       "\\item 0.841501748381522\n",
       "\\item 0.643135494743662\n",
       "\\item -3.10708945461569\n",
       "\\item -0.966170298227043\n",
       "\\item -3.03045662624482\n",
       "\\item -3.73891711851688\n",
       "\\item -4.0418310415036\n",
       "\\item -0.462266953592584\n",
       "\\item -2.51017981106159\n",
       "\\item 0.218153521650351\n",
       "\\item 1.26005196462843\n",
       "\\item -0.073861603097208\n",
       "\\item 1.21614690948723\n",
       "\\item -1.00543552265626\n",
       "\\item 2.0273371366888\n",
       "\\item -5.76666208219725\n",
       "\\item -2.12611873755724\n",
       "\\item -0.71087631771653\n",
       "\\end{enumerate*}\n"
      ],
      "text/markdown": [
       "1. 0.153987642609366\n",
       "2. 3.59714325771382\n",
       "3. 0.841501748381522\n",
       "4. 0.643135494743662\n",
       "5. -3.10708945461569\n",
       "6. -0.966170298227043\n",
       "7. -3.03045662624482\n",
       "8. -3.73891711851688\n",
       "9. -4.0418310415036\n",
       "10. -0.462266953592584\n",
       "11. -2.51017981106159\n",
       "12. 0.218153521650351\n",
       "13. 1.26005196462843\n",
       "14. -0.073861603097208\n",
       "15. 1.21614690948723\n",
       "16. -1.00543552265626\n",
       "17. 2.0273371366888\n",
       "18. -5.76666208219725\n",
       "19. -2.12611873755724\n",
       "20. -0.71087631771653\n",
       "\n",
       "\n"
      ],
      "text/plain": [
       " [1]  0.1539876  3.5971433  0.8415017  0.6431355 -3.1070895 -0.9661703\n",
       " [7] -3.0304566 -3.7389171 -4.0418310 -0.4622670 -2.5101798  0.2181535\n",
       "[13]  1.2600520 -0.0738616  1.2161469 -1.0054355  2.0273371 -5.7666621\n",
       "[19] -2.1261187 -0.7108763"
      ]
     },
     "metadata": {},
     "output_type": "display_data"
    }
   ],
   "source": [
    "apply(x,1, sum)"
   ]
  },
  {
   "cell_type": "code",
   "execution_count": null,
   "metadata": {},
   "outputs": [],
   "source": []
  },
  {
   "cell_type": "code",
   "execution_count": 34,
   "metadata": {},
   "outputs": [
    {
     "ename": "ERROR",
     "evalue": "Error in quantile.default(newX[, i], ...): 'probs' outside [0,1]\n",
     "output_type": "error",
     "traceback": [
      "Error in quantile.default(newX[, i], ...): 'probs' outside [0,1]\nTraceback:\n",
      "1. apply(x, 1, quantile, probs = c(0.25, 0, 75))",
      "2. FUN(newX[, i], ...)",
      "3. quantile.default(newX[, i], ...)",
      "4. stop(\"'probs' outside [0,1]\")"
     ]
    }
   ],
   "source": [
    "9apply(x,1, quantile, probs = c(0.25, 0,75) )"
   ]
  },
  {
   "cell_type": "code",
   "execution_count": 35,
   "metadata": {},
   "outputs": [],
   "source": [
    "a  <- array(rnorm(2*2*10), c(2,2,10))"
   ]
  },
  {
   "cell_type": "code",
   "execution_count": 36,
   "metadata": {},
   "outputs": [
    {
     "data": {
      "text/html": [
       "<table>\n",
       "<tbody>\n",
       "\t<tr><td>0.42296881</td><td>-0.7496900</td></tr>\n",
       "\t<tr><td>0.04825027</td><td> 0.7240059</td></tr>\n",
       "</tbody>\n",
       "</table>\n"
      ],
      "text/latex": [
       "\\begin{tabular}{ll}\n",
       "\t 0.42296881 & -0.7496900\\\\\n",
       "\t 0.04825027 &  0.7240059\\\\\n",
       "\\end{tabular}\n"
      ],
      "text/markdown": [
       "\n",
       "| 0.42296881 | -0.7496900 |\n",
       "| 0.04825027 |  0.7240059 |\n",
       "\n"
      ],
      "text/plain": [
       "     [,1]       [,2]      \n",
       "[1,] 0.42296881 -0.7496900\n",
       "[2,] 0.04825027  0.7240059"
      ]
     },
     "metadata": {},
     "output_type": "display_data"
    }
   ],
   "source": [
    "apply(a,c(1,2), mean)"
   ]
  },
  {
   "cell_type": "code",
   "execution_count": 37,
   "metadata": {},
   "outputs": [
    {
     "data": {
      "text/html": [
       "<table>\n",
       "<tbody>\n",
       "\t<tr><td>0.42296881</td><td>-0.7496900</td></tr>\n",
       "\t<tr><td>0.04825027</td><td> 0.7240059</td></tr>\n",
       "</tbody>\n",
       "</table>\n"
      ],
      "text/latex": [
       "\\begin{tabular}{ll}\n",
       "\t 0.42296881 & -0.7496900\\\\\n",
       "\t 0.04825027 &  0.7240059\\\\\n",
       "\\end{tabular}\n"
      ],
      "text/markdown": [
       "\n",
       "| 0.42296881 | -0.7496900 |\n",
       "| 0.04825027 |  0.7240059 |\n",
       "\n"
      ],
      "text/plain": [
       "     [,1]       [,2]      \n",
       "[1,] 0.42296881 -0.7496900\n",
       "[2,] 0.04825027  0.7240059"
      ]
     },
     "metadata": {},
     "output_type": "display_data"
    }
   ],
   "source": [
    "rowMeans(a, dims=2)"
   ]
  },
  {
   "cell_type": "markdown",
   "metadata": {},
   "source": [
    "# mapply"
   ]
  },
  {
   "cell_type": "code",
   "execution_count": 38,
   "metadata": {},
   "outputs": [
    {
     "data": {
      "text/html": [
       "<ol>\n",
       "\t<li><ol class=list-inline>\n",
       "\t<li>1</li>\n",
       "\t<li>1</li>\n",
       "\t<li>1</li>\n",
       "\t<li>1</li>\n",
       "</ol>\n",
       "</li>\n",
       "\t<li><ol class=list-inline>\n",
       "\t<li>2</li>\n",
       "\t<li>2</li>\n",
       "\t<li>2</li>\n",
       "</ol>\n",
       "</li>\n",
       "\t<li><ol class=list-inline>\n",
       "\t<li>3</li>\n",
       "\t<li>3</li>\n",
       "</ol>\n",
       "</li>\n",
       "\t<li>4</li>\n",
       "</ol>\n"
      ],
      "text/latex": [
       "\\begin{enumerate}\n",
       "\\item \\begin{enumerate*}\n",
       "\\item 1\n",
       "\\item 1\n",
       "\\item 1\n",
       "\\item 1\n",
       "\\end{enumerate*}\n",
       "\n",
       "\\item \\begin{enumerate*}\n",
       "\\item 2\n",
       "\\item 2\n",
       "\\item 2\n",
       "\\end{enumerate*}\n",
       "\n",
       "\\item \\begin{enumerate*}\n",
       "\\item 3\n",
       "\\item 3\n",
       "\\end{enumerate*}\n",
       "\n",
       "\\item 4\n",
       "\\end{enumerate}\n"
      ],
      "text/markdown": [
       "1. 1. 1\n",
       "2. 1\n",
       "3. 1\n",
       "4. 1\n",
       "\n",
       "\n",
       "\n",
       "2. 1. 2\n",
       "2. 2\n",
       "3. 2\n",
       "\n",
       "\n",
       "\n",
       "3. 1. 3\n",
       "2. 3\n",
       "\n",
       "\n",
       "\n",
       "4. 4\n",
       "\n",
       "\n"
      ],
      "text/plain": [
       "[[1]]\n",
       "[1] 1 1 1 1\n",
       "\n",
       "[[2]]\n",
       "[1] 2 2 2\n",
       "\n",
       "[[3]]\n",
       "[1] 3 3\n",
       "\n",
       "[[4]]\n",
       "[1] 4\n"
      ]
     },
     "metadata": {},
     "output_type": "display_data"
    }
   ],
   "source": [
    "list( rep( 1, 4), rep(2 , 3), rep( 3, 2),rep( 4,1 ) )"
   ]
  },
  {
   "cell_type": "code",
   "execution_count": 39,
   "metadata": {},
   "outputs": [
    {
     "data": {
      "text/html": [
       "<ol>\n",
       "\t<li><ol class=list-inline>\n",
       "\t<li>1</li>\n",
       "\t<li>1</li>\n",
       "\t<li>1</li>\n",
       "\t<li>1</li>\n",
       "</ol>\n",
       "</li>\n",
       "\t<li><ol class=list-inline>\n",
       "\t<li>2</li>\n",
       "\t<li>2</li>\n",
       "\t<li>2</li>\n",
       "</ol>\n",
       "</li>\n",
       "\t<li><ol class=list-inline>\n",
       "\t<li>3</li>\n",
       "\t<li>3</li>\n",
       "</ol>\n",
       "</li>\n",
       "\t<li>4</li>\n",
       "</ol>\n"
      ],
      "text/latex": [
       "\\begin{enumerate}\n",
       "\\item \\begin{enumerate*}\n",
       "\\item 1\n",
       "\\item 1\n",
       "\\item 1\n",
       "\\item 1\n",
       "\\end{enumerate*}\n",
       "\n",
       "\\item \\begin{enumerate*}\n",
       "\\item 2\n",
       "\\item 2\n",
       "\\item 2\n",
       "\\end{enumerate*}\n",
       "\n",
       "\\item \\begin{enumerate*}\n",
       "\\item 3\n",
       "\\item 3\n",
       "\\end{enumerate*}\n",
       "\n",
       "\\item 4\n",
       "\\end{enumerate}\n"
      ],
      "text/markdown": [
       "1. 1. 1\n",
       "2. 1\n",
       "3. 1\n",
       "4. 1\n",
       "\n",
       "\n",
       "\n",
       "2. 1. 2\n",
       "2. 2\n",
       "3. 2\n",
       "\n",
       "\n",
       "\n",
       "3. 1. 3\n",
       "2. 3\n",
       "\n",
       "\n",
       "\n",
       "4. 4\n",
       "\n",
       "\n"
      ],
      "text/plain": [
       "[[1]]\n",
       "[1] 1 1 1 1\n",
       "\n",
       "[[2]]\n",
       "[1] 2 2 2\n",
       "\n",
       "[[3]]\n",
       "[1] 3 3\n",
       "\n",
       "[[4]]\n",
       "[1] 4\n"
      ]
     },
     "metadata": {},
     "output_type": "display_data"
    }
   ],
   "source": [
    "mapply( rep, 1:4, 4:1)"
   ]
  },
  {
   "cell_type": "markdown",
   "metadata": {},
   "source": [
    "# tapply"
   ]
  },
  {
   "cell_type": "code",
   "execution_count": 41,
   "metadata": {},
   "outputs": [],
   "source": [
    "x  <- c( rnorm(10), runif(10), rnorm(10,1) )\n",
    "f  <- gl(3,10)"
   ]
  },
  {
   "cell_type": "code",
   "execution_count": 42,
   "metadata": {
    "scrolled": true
   },
   "outputs": [
    {
     "data": {
      "text/html": [
       "<ol class=list-inline>\n",
       "\t<li>1</li>\n",
       "\t<li>1</li>\n",
       "\t<li>1</li>\n",
       "\t<li>1</li>\n",
       "\t<li>1</li>\n",
       "\t<li>1</li>\n",
       "\t<li>1</li>\n",
       "\t<li>1</li>\n",
       "\t<li>1</li>\n",
       "\t<li>1</li>\n",
       "\t<li>2</li>\n",
       "\t<li>2</li>\n",
       "\t<li>2</li>\n",
       "\t<li>2</li>\n",
       "\t<li>2</li>\n",
       "\t<li>2</li>\n",
       "\t<li>2</li>\n",
       "\t<li>2</li>\n",
       "\t<li>2</li>\n",
       "\t<li>2</li>\n",
       "\t<li>3</li>\n",
       "\t<li>3</li>\n",
       "\t<li>3</li>\n",
       "\t<li>3</li>\n",
       "\t<li>3</li>\n",
       "\t<li>3</li>\n",
       "\t<li>3</li>\n",
       "\t<li>3</li>\n",
       "\t<li>3</li>\n",
       "\t<li>3</li>\n",
       "</ol>\n",
       "\n",
       "<details>\n",
       "\t<summary style=display:list-item;cursor:pointer>\n",
       "\t\t<strong>Levels</strong>:\n",
       "\t</summary>\n",
       "\t<ol class=list-inline>\n",
       "\t\t<li>'1'</li>\n",
       "\t\t<li>'2'</li>\n",
       "\t\t<li>'3'</li>\n",
       "\t</ol>\n",
       "</details>"
      ],
      "text/latex": [
       "\\begin{enumerate*}\n",
       "\\item 1\n",
       "\\item 1\n",
       "\\item 1\n",
       "\\item 1\n",
       "\\item 1\n",
       "\\item 1\n",
       "\\item 1\n",
       "\\item 1\n",
       "\\item 1\n",
       "\\item 1\n",
       "\\item 2\n",
       "\\item 2\n",
       "\\item 2\n",
       "\\item 2\n",
       "\\item 2\n",
       "\\item 2\n",
       "\\item 2\n",
       "\\item 2\n",
       "\\item 2\n",
       "\\item 2\n",
       "\\item 3\n",
       "\\item 3\n",
       "\\item 3\n",
       "\\item 3\n",
       "\\item 3\n",
       "\\item 3\n",
       "\\item 3\n",
       "\\item 3\n",
       "\\item 3\n",
       "\\item 3\n",
       "\\end{enumerate*}\n",
       "\n",
       "\\emph{Levels}: \\begin{enumerate*}\n",
       "\\item '1'\n",
       "\\item '2'\n",
       "\\item '3'\n",
       "\\end{enumerate*}\n"
      ],
      "text/markdown": [
       "1. 1\n",
       "2. 1\n",
       "3. 1\n",
       "4. 1\n",
       "5. 1\n",
       "6. 1\n",
       "7. 1\n",
       "8. 1\n",
       "9. 1\n",
       "10. 1\n",
       "11. 2\n",
       "12. 2\n",
       "13. 2\n",
       "14. 2\n",
       "15. 2\n",
       "16. 2\n",
       "17. 2\n",
       "18. 2\n",
       "19. 2\n",
       "20. 2\n",
       "21. 3\n",
       "22. 3\n",
       "23. 3\n",
       "24. 3\n",
       "25. 3\n",
       "26. 3\n",
       "27. 3\n",
       "28. 3\n",
       "29. 3\n",
       "30. 3\n",
       "\n",
       "\n",
       "\n",
       "**Levels**: 1. '1'\n",
       "2. '2'\n",
       "3. '3'\n",
       "\n",
       "\n"
      ],
      "text/plain": [
       " [1] 1 1 1 1 1 1 1 1 1 1 2 2 2 2 2 2 2 2 2 2 3 3 3 3 3 3 3 3 3 3\n",
       "Levels: 1 2 3"
      ]
     },
     "metadata": {},
     "output_type": "display_data"
    }
   ],
   "source": [
    "f"
   ]
  },
  {
   "cell_type": "code",
   "execution_count": 43,
   "metadata": {},
   "outputs": [
    {
     "data": {
      "text/html": [
       "<dl class=dl-horizontal>\n",
       "\t<dt>1</dt>\n",
       "\t\t<dd>-0.168387508109422</dd>\n",
       "\t<dt>2</dt>\n",
       "\t\t<dd>0.360669409600087</dd>\n",
       "\t<dt>3</dt>\n",
       "\t\t<dd>0.910410118168631</dd>\n",
       "</dl>\n"
      ],
      "text/latex": [
       "\\begin{description*}\n",
       "\\item[1] -0.168387508109422\n",
       "\\item[2] 0.360669409600087\n",
       "\\item[3] 0.910410118168631\n",
       "\\end{description*}\n"
      ],
      "text/markdown": [
       "1\n",
       ":   -0.1683875081094222\n",
       ":   0.3606694096000873\n",
       ":   0.910410118168631\n",
       "\n"
      ],
      "text/plain": [
       "         1          2          3 \n",
       "-0.1683875  0.3606694  0.9104101 "
      ]
     },
     "metadata": {},
     "output_type": "display_data"
    }
   ],
   "source": [
    "tapply( x, f , mean, simplyfy = FALSE)"
   ]
  },
  {
   "cell_type": "code",
   "execution_count": 44,
   "metadata": {},
   "outputs": [
    {
     "data": {
      "text/html": [
       "<dl>\n",
       "\t<dt>$`1`</dt>\n",
       "\t\t<dd><ol class=list-inline>\n",
       "\t<li>-1.02879432530924</li>\n",
       "\t<li>0.942675708353895</li>\n",
       "</ol>\n",
       "</dd>\n",
       "\t<dt>$`2`</dt>\n",
       "\t\t<dd><ol class=list-inline>\n",
       "\t<li>0.015714914072305</li>\n",
       "\t<li>0.833512616576627</li>\n",
       "</ol>\n",
       "</dd>\n",
       "\t<dt>$`3`</dt>\n",
       "\t\t<dd><ol class=list-inline>\n",
       "\t<li>-0.100047604649279</li>\n",
       "\t<li>2.13071912766276</li>\n",
       "</ol>\n",
       "</dd>\n",
       "</dl>\n"
      ],
      "text/latex": [
       "\\begin{description}\n",
       "\\item[\\$`1`] \\begin{enumerate*}\n",
       "\\item -1.02879432530924\n",
       "\\item 0.942675708353895\n",
       "\\end{enumerate*}\n",
       "\n",
       "\\item[\\$`2`] \\begin{enumerate*}\n",
       "\\item 0.015714914072305\n",
       "\\item 0.833512616576627\n",
       "\\end{enumerate*}\n",
       "\n",
       "\\item[\\$`3`] \\begin{enumerate*}\n",
       "\\item -0.100047604649279\n",
       "\\item 2.13071912766276\n",
       "\\end{enumerate*}\n",
       "\n",
       "\\end{description}\n"
      ],
      "text/markdown": [
       "$`1`\n",
       ":   1. -1.02879432530924\n",
       "2. 0.942675708353895\n",
       "\n",
       "\n",
       "\n",
       "$`2`\n",
       ":   1. 0.015714914072305\n",
       "2. 0.833512616576627\n",
       "\n",
       "\n",
       "\n",
       "$`3`\n",
       ":   1. -0.100047604649279\n",
       "2. 2.13071912766276\n",
       "\n",
       "\n",
       "\n",
       "\n",
       "\n"
      ],
      "text/plain": [
       "$`1`\n",
       "[1] -1.0287943  0.9426757\n",
       "\n",
       "$`2`\n",
       "[1] 0.01571491 0.83351262\n",
       "\n",
       "$`3`\n",
       "[1] -0.1000476  2.1307191\n"
      ]
     },
     "metadata": {},
     "output_type": "display_data"
    }
   ],
   "source": [
    "tapply( x, f , range)"
   ]
  },
  {
   "cell_type": "markdown",
   "metadata": {},
   "source": [
    " # Split"
   ]
  },
  {
   "cell_type": "code",
   "execution_count": null,
   "metadata": {},
   "outputs": [],
   "source": []
  },
  {
   "cell_type": "code",
   "execution_count": 45,
   "metadata": {},
   "outputs": [
    {
     "data": {
      "text/html": [
       "<dl>\n",
       "\t<dt>$`1`</dt>\n",
       "\t\t<dd><ol class=list-inline>\n",
       "\t<li>0.774279658548356</li>\n",
       "\t<li>-0.323917144022761</li>\n",
       "\t<li>0.942675708353895</li>\n",
       "\t<li>-1.02879432530924</li>\n",
       "\t<li>-0.00839232403937531</li>\n",
       "\t<li>-0.707988305502253</li>\n",
       "\t<li>0.0719487087031709</li>\n",
       "\t<li>0.469964783074883</li>\n",
       "\t<li>-0.997305477467489</li>\n",
       "\t<li>-0.876346363433416</li>\n",
       "</ol>\n",
       "</dd>\n",
       "\t<dt>$`2`</dt>\n",
       "\t\t<dd><ol class=list-inline>\n",
       "\t<li>0.291598260169849</li>\n",
       "\t<li>0.792857427615672</li>\n",
       "\t<li>0.833512616576627</li>\n",
       "\t<li>0.139225735561922</li>\n",
       "\t<li>0.438668798422441</li>\n",
       "\t<li>0.108298381092027</li>\n",
       "\t<li>0.015714914072305</li>\n",
       "\t<li>0.383712733630091</li>\n",
       "\t<li>0.335790523793548</li>\n",
       "\t<li>0.267314705066383</li>\n",
       "</ol>\n",
       "</dd>\n",
       "\t<dt>$`3`</dt>\n",
       "\t\t<dd><ol class=list-inline>\n",
       "\t<li>1.13635326136043</li>\n",
       "\t<li>1.30129745139232</li>\n",
       "\t<li>1.16246407198054</li>\n",
       "\t<li>0.692300607685672</li>\n",
       "\t<li>2.13071912766276</li>\n",
       "\t<li>0.536929322159987</li>\n",
       "\t<li>-0.100047604649279</li>\n",
       "\t<li>0.806185328426761</li>\n",
       "\t<li>1.42798536242919</li>\n",
       "\t<li>0.00991425323792083</li>\n",
       "</ol>\n",
       "</dd>\n",
       "</dl>\n"
      ],
      "text/latex": [
       "\\begin{description}\n",
       "\\item[\\$`1`] \\begin{enumerate*}\n",
       "\\item 0.774279658548356\n",
       "\\item -0.323917144022761\n",
       "\\item 0.942675708353895\n",
       "\\item -1.02879432530924\n",
       "\\item -0.00839232403937531\n",
       "\\item -0.707988305502253\n",
       "\\item 0.0719487087031709\n",
       "\\item 0.469964783074883\n",
       "\\item -0.997305477467489\n",
       "\\item -0.876346363433416\n",
       "\\end{enumerate*}\n",
       "\n",
       "\\item[\\$`2`] \\begin{enumerate*}\n",
       "\\item 0.291598260169849\n",
       "\\item 0.792857427615672\n",
       "\\item 0.833512616576627\n",
       "\\item 0.139225735561922\n",
       "\\item 0.438668798422441\n",
       "\\item 0.108298381092027\n",
       "\\item 0.015714914072305\n",
       "\\item 0.383712733630091\n",
       "\\item 0.335790523793548\n",
       "\\item 0.267314705066383\n",
       "\\end{enumerate*}\n",
       "\n",
       "\\item[\\$`3`] \\begin{enumerate*}\n",
       "\\item 1.13635326136043\n",
       "\\item 1.30129745139232\n",
       "\\item 1.16246407198054\n",
       "\\item 0.692300607685672\n",
       "\\item 2.13071912766276\n",
       "\\item 0.536929322159987\n",
       "\\item -0.100047604649279\n",
       "\\item 0.806185328426761\n",
       "\\item 1.42798536242919\n",
       "\\item 0.00991425323792083\n",
       "\\end{enumerate*}\n",
       "\n",
       "\\end{description}\n"
      ],
      "text/markdown": [
       "$`1`\n",
       ":   1. 0.774279658548356\n",
       "2. -0.323917144022761\n",
       "3. 0.942675708353895\n",
       "4. -1.02879432530924\n",
       "5. -0.00839232403937531\n",
       "6. -0.707988305502253\n",
       "7. 0.0719487087031709\n",
       "8. 0.469964783074883\n",
       "9. -0.997305477467489\n",
       "10. -0.876346363433416\n",
       "\n",
       "\n",
       "\n",
       "$`2`\n",
       ":   1. 0.291598260169849\n",
       "2. 0.792857427615672\n",
       "3. 0.833512616576627\n",
       "4. 0.139225735561922\n",
       "5. 0.438668798422441\n",
       "6. 0.108298381092027\n",
       "7. 0.015714914072305\n",
       "8. 0.383712733630091\n",
       "9. 0.335790523793548\n",
       "10. 0.267314705066383\n",
       "\n",
       "\n",
       "\n",
       "$`3`\n",
       ":   1. 1.13635326136043\n",
       "2. 1.30129745139232\n",
       "3. 1.16246407198054\n",
       "4. 0.692300607685672\n",
       "5. 2.13071912766276\n",
       "6. 0.536929322159987\n",
       "7. -0.100047604649279\n",
       "8. 0.806185328426761\n",
       "9. 1.42798536242919\n",
       "10. 0.00991425323792083\n",
       "\n",
       "\n",
       "\n",
       "\n",
       "\n"
      ],
      "text/plain": [
       "$`1`\n",
       " [1]  0.774279659 -0.323917144  0.942675708 -1.028794325 -0.008392324\n",
       " [6] -0.707988306  0.071948709  0.469964783 -0.997305477 -0.876346363\n",
       "\n",
       "$`2`\n",
       " [1] 0.29159826 0.79285743 0.83351262 0.13922574 0.43866880 0.10829838\n",
       " [7] 0.01571491 0.38371273 0.33579052 0.26731471\n",
       "\n",
       "$`3`\n",
       " [1]  1.136353261  1.301297451  1.162464072  0.692300608  2.130719128\n",
       " [6]  0.536929322 -0.100047605  0.806185328  1.427985362  0.009914253\n"
      ]
     },
     "metadata": {},
     "output_type": "display_data"
    }
   ],
   "source": [
    "split(x, f)"
   ]
  },
  {
   "cell_type": "code",
   "execution_count": 46,
   "metadata": {},
   "outputs": [
    {
     "data": {
      "text/html": [
       "<dl>\n",
       "\t<dt>$`1`</dt>\n",
       "\t\t<dd>-0.168387508109422</dd>\n",
       "\t<dt>$`2`</dt>\n",
       "\t\t<dd>0.360669409600087</dd>\n",
       "\t<dt>$`3`</dt>\n",
       "\t\t<dd>0.910410118168631</dd>\n",
       "</dl>\n"
      ],
      "text/latex": [
       "\\begin{description}\n",
       "\\item[\\$`1`] -0.168387508109422\n",
       "\\item[\\$`2`] 0.360669409600087\n",
       "\\item[\\$`3`] 0.910410118168631\n",
       "\\end{description}\n"
      ],
      "text/markdown": [
       "$`1`\n",
       ":   -0.168387508109422\n",
       "$`2`\n",
       ":   0.360669409600087\n",
       "$`3`\n",
       ":   0.910410118168631\n",
       "\n",
       "\n"
      ],
      "text/plain": [
       "$`1`\n",
       "[1] -0.1683875\n",
       "\n",
       "$`2`\n",
       "[1] 0.3606694\n",
       "\n",
       "$`3`\n",
       "[1] 0.9104101\n"
      ]
     },
     "metadata": {},
     "output_type": "display_data"
    }
   ],
   "source": [
    "lapply(split(x,f), mean)"
   ]
  },
  {
   "cell_type": "code",
   "execution_count": 47,
   "metadata": {},
   "outputs": [],
   "source": [
    "library(datasets)"
   ]
  },
  {
   "cell_type": "code",
   "execution_count": 48,
   "metadata": {},
   "outputs": [
    {
     "data": {
      "text/html": [
       "<table>\n",
       "<thead><tr><th scope=col>Ozone</th><th scope=col>Solar.R</th><th scope=col>Wind</th><th scope=col>Temp</th><th scope=col>Month</th><th scope=col>Day</th></tr></thead>\n",
       "<tbody>\n",
       "\t<tr><td>41  </td><td>190 </td><td> 7.4</td><td>67  </td><td>5   </td><td>1   </td></tr>\n",
       "\t<tr><td>36  </td><td>118 </td><td> 8.0</td><td>72  </td><td>5   </td><td>2   </td></tr>\n",
       "\t<tr><td>12  </td><td>149 </td><td>12.6</td><td>74  </td><td>5   </td><td>3   </td></tr>\n",
       "\t<tr><td>18  </td><td>313 </td><td>11.5</td><td>62  </td><td>5   </td><td>4   </td></tr>\n",
       "\t<tr><td>NA  </td><td> NA </td><td>14.3</td><td>56  </td><td>5   </td><td>5   </td></tr>\n",
       "\t<tr><td>28  </td><td> NA </td><td>14.9</td><td>66  </td><td>5   </td><td>6   </td></tr>\n",
       "</tbody>\n",
       "</table>\n"
      ],
      "text/latex": [
       "\\begin{tabular}{r|llllll}\n",
       " Ozone & Solar.R & Wind & Temp & Month & Day\\\\\n",
       "\\hline\n",
       "\t 41   & 190  &  7.4 & 67   & 5    & 1   \\\\\n",
       "\t 36   & 118  &  8.0 & 72   & 5    & 2   \\\\\n",
       "\t 12   & 149  & 12.6 & 74   & 5    & 3   \\\\\n",
       "\t 18   & 313  & 11.5 & 62   & 5    & 4   \\\\\n",
       "\t NA   &  NA  & 14.3 & 56   & 5    & 5   \\\\\n",
       "\t 28   &  NA  & 14.9 & 66   & 5    & 6   \\\\\n",
       "\\end{tabular}\n"
      ],
      "text/markdown": [
       "\n",
       "| Ozone | Solar.R | Wind | Temp | Month | Day |\n",
       "|---|---|---|---|---|---|\n",
       "| 41   | 190  |  7.4 | 67   | 5    | 1    |\n",
       "| 36   | 118  |  8.0 | 72   | 5    | 2    |\n",
       "| 12   | 149  | 12.6 | 74   | 5    | 3    |\n",
       "| 18   | 313  | 11.5 | 62   | 5    | 4    |\n",
       "| NA   |  NA  | 14.3 | 56   | 5    | 5    |\n",
       "| 28   |  NA  | 14.9 | 66   | 5    | 6    |\n",
       "\n"
      ],
      "text/plain": [
       "  Ozone Solar.R Wind Temp Month Day\n",
       "1 41    190      7.4 67   5     1  \n",
       "2 36    118      8.0 72   5     2  \n",
       "3 12    149     12.6 74   5     3  \n",
       "4 18    313     11.5 62   5     4  \n",
       "5 NA     NA     14.3 56   5     5  \n",
       "6 28     NA     14.9 66   5     6  "
      ]
     },
     "metadata": {},
     "output_type": "display_data"
    }
   ],
   "source": [
    "head(airquality)"
   ]
  },
  {
   "cell_type": "code",
   "execution_count": null,
   "metadata": {},
   "outputs": [],
   "source": []
  },
  {
   "cell_type": "code",
   "execution_count": 51,
   "metadata": {},
   "outputs": [],
   "source": [
    "s  <-  split(airquality, airquality$Month)\n"
   ]
  },
  {
   "cell_type": "code",
   "execution_count": 52,
   "metadata": {},
   "outputs": [
    {
     "data": {
      "text/html": [
       "<dl>\n",
       "\t<dt>$`5`</dt>\n",
       "\t\t<dd><dl class=dl-horizontal>\n",
       "\t<dt>Ozone</dt>\n",
       "\t\t<dd>&lt;NA&gt;</dd>\n",
       "\t<dt>Solar.R</dt>\n",
       "\t\t<dd>&lt;NA&gt;</dd>\n",
       "\t<dt>Wind</dt>\n",
       "\t\t<dd>11.6225806451613</dd>\n",
       "</dl>\n",
       "</dd>\n",
       "\t<dt>$`6`</dt>\n",
       "\t\t<dd><dl class=dl-horizontal>\n",
       "\t<dt>Ozone</dt>\n",
       "\t\t<dd>&lt;NA&gt;</dd>\n",
       "\t<dt>Solar.R</dt>\n",
       "\t\t<dd>190.166666666667</dd>\n",
       "\t<dt>Wind</dt>\n",
       "\t\t<dd>10.2666666666667</dd>\n",
       "</dl>\n",
       "</dd>\n",
       "\t<dt>$`7`</dt>\n",
       "\t\t<dd><dl class=dl-horizontal>\n",
       "\t<dt>Ozone</dt>\n",
       "\t\t<dd>&lt;NA&gt;</dd>\n",
       "\t<dt>Solar.R</dt>\n",
       "\t\t<dd>216.483870967742</dd>\n",
       "\t<dt>Wind</dt>\n",
       "\t\t<dd>8.94193548387097</dd>\n",
       "</dl>\n",
       "</dd>\n",
       "\t<dt>$`8`</dt>\n",
       "\t\t<dd><dl class=dl-horizontal>\n",
       "\t<dt>Ozone</dt>\n",
       "\t\t<dd>&lt;NA&gt;</dd>\n",
       "\t<dt>Solar.R</dt>\n",
       "\t\t<dd>&lt;NA&gt;</dd>\n",
       "\t<dt>Wind</dt>\n",
       "\t\t<dd>8.79354838709677</dd>\n",
       "</dl>\n",
       "</dd>\n",
       "\t<dt>$`9`</dt>\n",
       "\t\t<dd><dl class=dl-horizontal>\n",
       "\t<dt>Ozone</dt>\n",
       "\t\t<dd>&lt;NA&gt;</dd>\n",
       "\t<dt>Solar.R</dt>\n",
       "\t\t<dd>167.433333333333</dd>\n",
       "\t<dt>Wind</dt>\n",
       "\t\t<dd>10.18</dd>\n",
       "</dl>\n",
       "</dd>\n",
       "</dl>\n"
      ],
      "text/latex": [
       "\\begin{description}\n",
       "\\item[\\$`5`] \\begin{description*}\n",
       "\\item[Ozone] <NA>\n",
       "\\item[Solar.R] <NA>\n",
       "\\item[Wind] 11.6225806451613\n",
       "\\end{description*}\n",
       "\n",
       "\\item[\\$`6`] \\begin{description*}\n",
       "\\item[Ozone] <NA>\n",
       "\\item[Solar.R] 190.166666666667\n",
       "\\item[Wind] 10.2666666666667\n",
       "\\end{description*}\n",
       "\n",
       "\\item[\\$`7`] \\begin{description*}\n",
       "\\item[Ozone] <NA>\n",
       "\\item[Solar.R] 216.483870967742\n",
       "\\item[Wind] 8.94193548387097\n",
       "\\end{description*}\n",
       "\n",
       "\\item[\\$`8`] \\begin{description*}\n",
       "\\item[Ozone] <NA>\n",
       "\\item[Solar.R] <NA>\n",
       "\\item[Wind] 8.79354838709677\n",
       "\\end{description*}\n",
       "\n",
       "\\item[\\$`9`] \\begin{description*}\n",
       "\\item[Ozone] <NA>\n",
       "\\item[Solar.R] 167.433333333333\n",
       "\\item[Wind] 10.18\n",
       "\\end{description*}\n",
       "\n",
       "\\end{description}\n"
      ],
      "text/markdown": [
       "$`5`\n",
       ":   Ozone\n",
       ":   &lt;NA&gt;Solar.R\n",
       ":   &lt;NA&gt;Wind\n",
       ":   11.6225806451613\n",
       "\n",
       "\n",
       "$`6`\n",
       ":   Ozone\n",
       ":   &lt;NA&gt;Solar.R\n",
       ":   190.166666666667Wind\n",
       ":   10.2666666666667\n",
       "\n",
       "\n",
       "$`7`\n",
       ":   Ozone\n",
       ":   &lt;NA&gt;Solar.R\n",
       ":   216.483870967742Wind\n",
       ":   8.94193548387097\n",
       "\n",
       "\n",
       "$`8`\n",
       ":   Ozone\n",
       ":   &lt;NA&gt;Solar.R\n",
       ":   &lt;NA&gt;Wind\n",
       ":   8.79354838709677\n",
       "\n",
       "\n",
       "$`9`\n",
       ":   Ozone\n",
       ":   &lt;NA&gt;Solar.R\n",
       ":   167.433333333333Wind\n",
       ":   10.18\n",
       "\n",
       "\n",
       "\n",
       "\n"
      ],
      "text/plain": [
       "$`5`\n",
       "   Ozone  Solar.R     Wind \n",
       "      NA       NA 11.62258 \n",
       "\n",
       "$`6`\n",
       "    Ozone   Solar.R      Wind \n",
       "       NA 190.16667  10.26667 \n",
       "\n",
       "$`7`\n",
       "     Ozone    Solar.R       Wind \n",
       "        NA 216.483871   8.941935 \n",
       "\n",
       "$`8`\n",
       "   Ozone  Solar.R     Wind \n",
       "      NA       NA 8.793548 \n",
       "\n",
       "$`9`\n",
       "   Ozone  Solar.R     Wind \n",
       "      NA 167.4333  10.1800 \n"
      ]
     },
     "metadata": {},
     "output_type": "display_data"
    }
   ],
   "source": [
    "lapply(s, function(x) colMeans( x[ , c('Ozone', 'Solar.R', 'Wind')]))"
   ]
  },
  {
   "cell_type": "code",
   "execution_count": 53,
   "metadata": {},
   "outputs": [
    {
     "data": {
      "text/html": [
       "<table>\n",
       "<thead><tr><th></th><th scope=col>5</th><th scope=col>6</th><th scope=col>7</th><th scope=col>8</th><th scope=col>9</th></tr></thead>\n",
       "<tbody>\n",
       "\t<tr><th scope=row>Ozone</th><td>      NA  </td><td>       NA </td><td>        NA</td><td>      NA  </td><td>      NA  </td></tr>\n",
       "\t<tr><th scope=row>Solar.R</th><td>      NA  </td><td>190.16667 </td><td>216.483871</td><td>      NA  </td><td>167.4333  </td></tr>\n",
       "\t<tr><th scope=row>Wind</th><td>11.62258  </td><td> 10.26667 </td><td>  8.941935</td><td>8.793548  </td><td> 10.1800  </td></tr>\n",
       "</tbody>\n",
       "</table>\n"
      ],
      "text/latex": [
       "\\begin{tabular}{r|lllll}\n",
       "  & 5 & 6 & 7 & 8 & 9\\\\\n",
       "\\hline\n",
       "\tOzone &       NA   &        NA  &         NA &       NA   &       NA  \\\\\n",
       "\tSolar.R &       NA   & 190.16667  & 216.483871 &       NA   & 167.4333  \\\\\n",
       "\tWind & 11.62258   &  10.26667  &   8.941935 & 8.793548   &  10.1800  \\\\\n",
       "\\end{tabular}\n"
      ],
      "text/markdown": [
       "\n",
       "| <!--/--> | 5 | 6 | 7 | 8 | 9 |\n",
       "|---|---|---|---|---|---|\n",
       "| Ozone |       NA   |        NA  |         NA |       NA   |       NA   |\n",
       "| Solar.R |       NA   | 190.16667  | 216.483871 |       NA   | 167.4333   |\n",
       "| Wind | 11.62258   |  10.26667  |   8.941935 | 8.793548   |  10.1800   |\n",
       "\n"
      ],
      "text/plain": [
       "        5        6         7          8        9       \n",
       "Ozone         NA        NA         NA       NA       NA\n",
       "Solar.R       NA 190.16667 216.483871       NA 167.4333\n",
       "Wind    11.62258  10.26667   8.941935 8.793548  10.1800"
      ]
     },
     "metadata": {},
     "output_type": "display_data"
    }
   ],
   "source": [
    "sapply(s, function(x) colMeans( x[ , c('Ozone', 'Solar.R', 'Wind')]))"
   ]
  },
  {
   "cell_type": "code",
   "execution_count": 54,
   "metadata": {},
   "outputs": [
    {
     "data": {
      "text/html": [
       "<table>\n",
       "<thead><tr><th></th><th scope=col>5</th><th scope=col>6</th><th scope=col>7</th><th scope=col>8</th><th scope=col>9</th></tr></thead>\n",
       "<tbody>\n",
       "\t<tr><th scope=row>Ozone</th><td> 23.61538 </td><td> 29.44444 </td><td> 59.115385</td><td> 59.961538</td><td> 31.44828 </td></tr>\n",
       "\t<tr><th scope=row>Solar.R</th><td>181.29630 </td><td>190.16667 </td><td>216.483871</td><td>171.857143</td><td>167.43333 </td></tr>\n",
       "\t<tr><th scope=row>Wind</th><td> 11.62258 </td><td> 10.26667 </td><td>  8.941935</td><td>  8.793548</td><td> 10.18000 </td></tr>\n",
       "</tbody>\n",
       "</table>\n"
      ],
      "text/latex": [
       "\\begin{tabular}{r|lllll}\n",
       "  & 5 & 6 & 7 & 8 & 9\\\\\n",
       "\\hline\n",
       "\tOzone &  23.61538  &  29.44444  &  59.115385 &  59.961538 &  31.44828 \\\\\n",
       "\tSolar.R & 181.29630  & 190.16667  & 216.483871 & 171.857143 & 167.43333 \\\\\n",
       "\tWind &  11.62258  &  10.26667  &   8.941935 &   8.793548 &  10.18000 \\\\\n",
       "\\end{tabular}\n"
      ],
      "text/markdown": [
       "\n",
       "| <!--/--> | 5 | 6 | 7 | 8 | 9 |\n",
       "|---|---|---|---|---|---|\n",
       "| Ozone |  23.61538  |  29.44444  |  59.115385 |  59.961538 |  31.44828  |\n",
       "| Solar.R | 181.29630  | 190.16667  | 216.483871 | 171.857143 | 167.43333  |\n",
       "| Wind |  11.62258  |  10.26667  |   8.941935 |   8.793548 |  10.18000  |\n",
       "\n"
      ],
      "text/plain": [
       "        5         6         7          8          9        \n",
       "Ozone    23.61538  29.44444  59.115385  59.961538  31.44828\n",
       "Solar.R 181.29630 190.16667 216.483871 171.857143 167.43333\n",
       "Wind     11.62258  10.26667   8.941935   8.793548  10.18000"
      ]
     },
     "metadata": {},
     "output_type": "display_data"
    }
   ],
   "source": [
    "sapply(s, function(x) colMeans( x[ , c('Ozone', 'Solar.R', 'Wind')], na.rm = TRUE  ))"
   ]
  },
  {
   "cell_type": "code",
   "execution_count": null,
   "metadata": {},
   "outputs": [],
   "source": []
  },
  {
   "cell_type": "code",
   "execution_count": 55,
   "metadata": {},
   "outputs": [
    {
     "data": {
      "text/html": [
       "<ol class=list-inline>\n",
       "\t<li>1</li>\n",
       "\t<li>1</li>\n",
       "\t<li>1</li>\n",
       "\t<li>1</li>\n",
       "\t<li>1</li>\n",
       "\t<li>2</li>\n",
       "\t<li>2</li>\n",
       "\t<li>2</li>\n",
       "\t<li>2</li>\n",
       "\t<li>2</li>\n",
       "</ol>\n",
       "\n",
       "<details>\n",
       "\t<summary style=display:list-item;cursor:pointer>\n",
       "\t\t<strong>Levels</strong>:\n",
       "\t</summary>\n",
       "\t<ol class=list-inline>\n",
       "\t\t<li>'1'</li>\n",
       "\t\t<li>'2'</li>\n",
       "\t</ol>\n",
       "</details>"
      ],
      "text/latex": [
       "\\begin{enumerate*}\n",
       "\\item 1\n",
       "\\item 1\n",
       "\\item 1\n",
       "\\item 1\n",
       "\\item 1\n",
       "\\item 2\n",
       "\\item 2\n",
       "\\item 2\n",
       "\\item 2\n",
       "\\item 2\n",
       "\\end{enumerate*}\n",
       "\n",
       "\\emph{Levels}: \\begin{enumerate*}\n",
       "\\item '1'\n",
       "\\item '2'\n",
       "\\end{enumerate*}\n"
      ],
      "text/markdown": [
       "1. 1\n",
       "2. 1\n",
       "3. 1\n",
       "4. 1\n",
       "5. 1\n",
       "6. 2\n",
       "7. 2\n",
       "8. 2\n",
       "9. 2\n",
       "10. 2\n",
       "\n",
       "\n",
       "\n",
       "**Levels**: 1. '1'\n",
       "2. '2'\n",
       "\n",
       "\n"
      ],
      "text/plain": [
       " [1] 1 1 1 1 1 2 2 2 2 2\n",
       "Levels: 1 2"
      ]
     },
     "metadata": {},
     "output_type": "display_data"
    }
   ],
   "source": [
    "x  <- rnorm(10)\n",
    "f1 <- gl(2,5)\n",
    "f2  <- gl(5,2)\n",
    "f1"
   ]
  },
  {
   "cell_type": "code",
   "execution_count": 56,
   "metadata": {},
   "outputs": [
    {
     "data": {
      "text/html": [
       "<ol class=list-inline>\n",
       "\t<li>1</li>\n",
       "\t<li>1</li>\n",
       "\t<li>2</li>\n",
       "\t<li>2</li>\n",
       "\t<li>3</li>\n",
       "\t<li>3</li>\n",
       "\t<li>4</li>\n",
       "\t<li>4</li>\n",
       "\t<li>5</li>\n",
       "\t<li>5</li>\n",
       "</ol>\n",
       "\n",
       "<details>\n",
       "\t<summary style=display:list-item;cursor:pointer>\n",
       "\t\t<strong>Levels</strong>:\n",
       "\t</summary>\n",
       "\t<ol class=list-inline>\n",
       "\t\t<li>'1'</li>\n",
       "\t\t<li>'2'</li>\n",
       "\t\t<li>'3'</li>\n",
       "\t\t<li>'4'</li>\n",
       "\t\t<li>'5'</li>\n",
       "\t</ol>\n",
       "</details>"
      ],
      "text/latex": [
       "\\begin{enumerate*}\n",
       "\\item 1\n",
       "\\item 1\n",
       "\\item 2\n",
       "\\item 2\n",
       "\\item 3\n",
       "\\item 3\n",
       "\\item 4\n",
       "\\item 4\n",
       "\\item 5\n",
       "\\item 5\n",
       "\\end{enumerate*}\n",
       "\n",
       "\\emph{Levels}: \\begin{enumerate*}\n",
       "\\item '1'\n",
       "\\item '2'\n",
       "\\item '3'\n",
       "\\item '4'\n",
       "\\item '5'\n",
       "\\end{enumerate*}\n"
      ],
      "text/markdown": [
       "1. 1\n",
       "2. 1\n",
       "3. 2\n",
       "4. 2\n",
       "5. 3\n",
       "6. 3\n",
       "7. 4\n",
       "8. 4\n",
       "9. 5\n",
       "10. 5\n",
       "\n",
       "\n",
       "\n",
       "**Levels**: 1. '1'\n",
       "2. '2'\n",
       "3. '3'\n",
       "4. '4'\n",
       "5. '5'\n",
       "\n",
       "\n"
      ],
      "text/plain": [
       " [1] 1 1 2 2 3 3 4 4 5 5\n",
       "Levels: 1 2 3 4 5"
      ]
     },
     "metadata": {},
     "output_type": "display_data"
    }
   ],
   "source": [
    "f2"
   ]
  },
  {
   "cell_type": "code",
   "execution_count": 57,
   "metadata": {},
   "outputs": [
    {
     "data": {
      "text/html": [
       "<ol class=list-inline>\n",
       "\t<li>1.1</li>\n",
       "\t<li>1.1</li>\n",
       "\t<li>1.2</li>\n",
       "\t<li>1.2</li>\n",
       "\t<li>1.3</li>\n",
       "\t<li>2.3</li>\n",
       "\t<li>2.4</li>\n",
       "\t<li>2.4</li>\n",
       "\t<li>2.5</li>\n",
       "\t<li>2.5</li>\n",
       "</ol>\n",
       "\n",
       "<details>\n",
       "\t<summary style=display:list-item;cursor:pointer>\n",
       "\t\t<strong>Levels</strong>:\n",
       "\t</summary>\n",
       "\t<ol class=list-inline>\n",
       "\t\t<li>'1.1'</li>\n",
       "\t\t<li>'2.1'</li>\n",
       "\t\t<li>'1.2'</li>\n",
       "\t\t<li>'2.2'</li>\n",
       "\t\t<li>'1.3'</li>\n",
       "\t\t<li>'2.3'</li>\n",
       "\t\t<li>'1.4'</li>\n",
       "\t\t<li>'2.4'</li>\n",
       "\t\t<li>'1.5'</li>\n",
       "\t\t<li>'2.5'</li>\n",
       "\t</ol>\n",
       "</details>"
      ],
      "text/latex": [
       "\\begin{enumerate*}\n",
       "\\item 1.1\n",
       "\\item 1.1\n",
       "\\item 1.2\n",
       "\\item 1.2\n",
       "\\item 1.3\n",
       "\\item 2.3\n",
       "\\item 2.4\n",
       "\\item 2.4\n",
       "\\item 2.5\n",
       "\\item 2.5\n",
       "\\end{enumerate*}\n",
       "\n",
       "\\emph{Levels}: \\begin{enumerate*}\n",
       "\\item '1.1'\n",
       "\\item '2.1'\n",
       "\\item '1.2'\n",
       "\\item '2.2'\n",
       "\\item '1.3'\n",
       "\\item '2.3'\n",
       "\\item '1.4'\n",
       "\\item '2.4'\n",
       "\\item '1.5'\n",
       "\\item '2.5'\n",
       "\\end{enumerate*}\n"
      ],
      "text/markdown": [
       "1. 1.1\n",
       "2. 1.1\n",
       "3. 1.2\n",
       "4. 1.2\n",
       "5. 1.3\n",
       "6. 2.3\n",
       "7. 2.4\n",
       "8. 2.4\n",
       "9. 2.5\n",
       "10. 2.5\n",
       "\n",
       "\n",
       "\n",
       "**Levels**: 1. '1.1'\n",
       "2. '2.1'\n",
       "3. '1.2'\n",
       "4. '2.2'\n",
       "5. '1.3'\n",
       "6. '2.3'\n",
       "7. '1.4'\n",
       "8. '2.4'\n",
       "9. '1.5'\n",
       "10. '2.5'\n",
       "\n",
       "\n"
      ],
      "text/plain": [
       " [1] 1.1 1.1 1.2 1.2 1.3 2.3 2.4 2.4 2.5 2.5\n",
       "Levels: 1.1 2.1 1.2 2.2 1.3 2.3 1.4 2.4 1.5 2.5"
      ]
     },
     "metadata": {},
     "output_type": "display_data"
    }
   ],
   "source": [
    "interaction(f1,f2)"
   ]
  },
  {
   "cell_type": "code",
   "execution_count": 58,
   "metadata": {},
   "outputs": [
    {
     "name": "stdout",
     "output_type": "stream",
     "text": [
      "List of 10\n",
      " $ 1.1: num [1:2] -0.429 1.402\n",
      " $ 2.1: num(0) \n",
      " $ 1.2: num [1:2] -1.0157 0.0189\n",
      " $ 2.2: num(0) \n",
      " $ 1.3: num -0.392\n",
      " $ 2.3: num -0.0254\n",
      " $ 1.4: num(0) \n",
      " $ 2.4: num [1:2] 1.02 -0.903\n",
      " $ 1.5: num(0) \n",
      " $ 2.5: num [1:2] 0.565 -1.655\n"
     ]
    }
   ],
   "source": [
    "str( split(x, list(f1,f2)) )"
   ]
  },
  {
   "cell_type": "code",
   "execution_count": 60,
   "metadata": {},
   "outputs": [
    {
     "name": "stdout",
     "output_type": "stream",
     "text": [
      "List of 6\n",
      " $ 1.1: num [1:2] -0.429 1.402\n",
      " $ 1.2: num [1:2] -1.0157 0.0189\n",
      " $ 1.3: num -0.392\n",
      " $ 2.3: num -0.0254\n",
      " $ 2.4: num [1:2] 1.02 -0.903\n",
      " $ 2.5: num [1:2] 0.565 -1.655\n"
     ]
    }
   ],
   "source": [
    "str( split(x, list(f1,f2), drop= TRUE ) )"
   ]
  },
  {
   "cell_type": "markdown",
   "metadata": {},
   "source": [
    "# Debugging"
   ]
  },
  {
   "cell_type": "code",
   "execution_count": null,
   "metadata": {},
   "outputs": [],
   "source": [
    "traceback, debug, browser, trace, recover"
   ]
  },
  {
   "cell_type": "code",
   "execution_count": null,
   "metadata": {},
   "outputs": [],
   "source": []
  },
  {
   "cell_type": "code",
   "execution_count": 62,
   "metadata": {},
   "outputs": [
    {
     "ename": "ERROR",
     "evalue": "Error in mean(X): object 'X' not found\n",
     "output_type": "error",
     "traceback": [
      "Error in mean(X): object 'X' not found\nTraceback:\n",
      "1. mean(X)"
     ]
    }
   ],
   "source": [
    "mean(X)"
   ]
  },
  {
   "cell_type": "code",
   "execution_count": 64,
   "metadata": {},
   "outputs": [
    {
     "ename": "ERROR",
     "evalue": "Error in mean(X): object 'X' not found\n",
     "output_type": "error",
     "traceback": [
      "Error in mean(X): object 'X' not found\nTraceback:\n",
      "1. traceback(mean(X))",
      "2. .traceback(x)",
      "3. mean(X)"
     ]
    }
   ],
   "source": [
    "traceback(mean(X))"
   ]
  },
  {
   "cell_type": "code",
   "execution_count": null,
   "metadata": {},
   "outputs": [],
   "source": []
  },
  {
   "cell_type": "code",
   "execution_count": null,
   "metadata": {},
   "outputs": [],
   "source": []
  },
  {
   "cell_type": "code",
   "execution_count": null,
   "metadata": {},
   "outputs": [],
   "source": []
  },
  {
   "cell_type": "code",
   "execution_count": null,
   "metadata": {},
   "outputs": [],
   "source": []
  },
  {
   "cell_type": "code",
   "execution_count": null,
   "metadata": {},
   "outputs": [],
   "source": []
  },
  {
   "cell_type": "code",
   "execution_count": null,
   "metadata": {},
   "outputs": [],
   "source": []
  },
  {
   "cell_type": "code",
   "execution_count": null,
   "metadata": {},
   "outputs": [],
   "source": []
  },
  {
   "cell_type": "code",
   "execution_count": null,
   "metadata": {},
   "outputs": [],
   "source": []
  },
  {
   "cell_type": "code",
   "execution_count": null,
   "metadata": {},
   "outputs": [],
   "source": []
  },
  {
   "cell_type": "code",
   "execution_count": null,
   "metadata": {},
   "outputs": [],
   "source": []
  },
  {
   "cell_type": "code",
   "execution_count": null,
   "metadata": {},
   "outputs": [],
   "source": []
  },
  {
   "cell_type": "code",
   "execution_count": null,
   "metadata": {},
   "outputs": [],
   "source": []
  },
  {
   "cell_type": "code",
   "execution_count": null,
   "metadata": {},
   "outputs": [],
   "source": []
  }
 ],
 "metadata": {
  "kernelspec": {
   "display_name": "R",
   "language": "R",
   "name": "ir"
  },
  "language_info": {
   "codemirror_mode": "r",
   "file_extension": ".r",
   "mimetype": "text/x-r-source",
   "name": "R",
   "pygments_lexer": "r",
   "version": "3.6.1"
  }
 },
 "nbformat": 4,
 "nbformat_minor": 2
}
