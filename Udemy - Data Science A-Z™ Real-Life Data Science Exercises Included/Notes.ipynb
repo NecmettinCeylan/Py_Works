{
 "cells": [
  {
   "cell_type": "code",
   "execution_count": 1,
   "metadata": {},
   "outputs": [
    {
     "data": {
      "text/plain": [
       "'\\n\\nDomains\\nStatistics \\nvisualisation\\ndata mining\\ndataframe & data proess\\npattern recognition\\nmachine learning\\nneuroplasticity\\n\\n'"
      ]
     },
     "execution_count": 1,
     "metadata": {},
     "output_type": "execute_result"
    }
   ],
   "source": [
    "\"\"\"\n",
    "\n",
    "Domains\n",
    "Statistics \n",
    "visualisation\n",
    "data mining\n",
    "dataframe & data proess\n",
    "pattern recognition\n",
    "machine learning\n",
    "neuroplasticity\n",
    "------------------------\n",
    "Communication\n",
    "Presentation\n",
    "Domain Knowledge\n",
    "Real life practice\n",
    "Programming\n",
    "Creativity\n",
    "\n",
    "\n",
    "\"\"\""
   ]
  },
  {
   "cell_type": "code",
   "execution_count": null,
   "metadata": {},
   "outputs": [],
   "source": []
  }
 ],
 "metadata": {
  "kernelspec": {
   "display_name": "Python 3",
   "language": "python",
   "name": "python3"
  },
  "language_info": {
   "codemirror_mode": {
    "name": "ipython",
    "version": 3
   },
   "file_extension": ".py",
   "mimetype": "text/x-python",
   "name": "python",
   "nbconvert_exporter": "python",
   "pygments_lexer": "ipython3",
   "version": "3.7.3"
  }
 },
 "nbformat": 4,
 "nbformat_minor": 2
}
