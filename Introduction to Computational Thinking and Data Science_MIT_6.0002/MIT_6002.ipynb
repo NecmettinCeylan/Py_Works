{
 "cells": [
  {
   "cell_type": "code",
   "execution_count": 13,
   "metadata": {},
   "outputs": [],
   "source": [
    "class Food(object):\n",
    "    def __init__(self, n, v, w):\n",
    "        self.name = n\n",
    "        self.value = v\n",
    "        self.calories = w\n",
    "    \n",
    "    def getValue(self):\n",
    "        return self.value\n",
    "    \n",
    "    def getCost(self):\n",
    "        return self.calories\n",
    "    \n",
    "    def density(self):\n",
    "        return self.getValue()/self.getCost()\n",
    "    \n",
    "    def __str__(self):\n",
    "        return self.name + \": <\" + str(self.value) + \",\" + str(self.calories) + \" > \""
   ]
  },
  {
   "cell_type": "code",
   "execution_count": 14,
   "metadata": {},
   "outputs": [],
   "source": [
    "\n",
    "def buildMenu(names, values, calories):\n",
    "    \"\"\"names, values, calories lists of same length.\n",
    "       name a list of strings\n",
    "       values and calories lists of numbers\n",
    "       returns list of Foods\"\"\"\n",
    "    menu = []\n",
    "    for i in range(len(values)):\n",
    "        menu.append(Food(names[i], values[i],\n",
    "                          calories[i]))\n",
    "    return menu\n"
   ]
  },
  {
   "cell_type": "code",
   "execution_count": 15,
   "metadata": {},
   "outputs": [],
   "source": [
    "\n",
    "def greedy(items, maxCost, keyFunction):\n",
    "    \"\"\"Assumes items a list, maxCost >= 0,\n",
    "         keyFunction maps elements of items to numbers\"\"\"\n",
    "    itemsCopy = sorted(items, key = keyFunction,\n",
    "                       reverse = True)\n",
    "    result = []\n",
    "    totalValue, totalCost = 0.0, 0.0\n",
    "    for i in range(len(itemsCopy)):\n",
    "        if (totalCost+itemsCopy[i].getCost()) <= maxCost:\n",
    "            result.append(itemsCopy[i])\n",
    "            totalCost += itemsCopy[i].getCost()\n",
    "            totalValue += itemsCopy[i].getValue()\n",
    "    return (result, totalValue)\n"
   ]
  },
  {
   "cell_type": "code",
   "execution_count": 16,
   "metadata": {},
   "outputs": [],
   "source": [
    "\n",
    "def testGreedy(items, constraint, keyFunction):\n",
    "    taken, val = greedy(items, constraint, keyFunction)\n",
    "    print('Total value of items taken =', val)\n",
    "    for item in taken:\n",
    "        print('   ', item)\n"
   ]
  },
  {
   "cell_type": "code",
   "execution_count": 17,
   "metadata": {},
   "outputs": [],
   "source": [
    "\n",
    "def testGreedys(foods, maxUnits):\n",
    "    print('Use greedy by value to allocate', maxUnits,\n",
    "          'calories')\n",
    "    testGreedy(foods, maxUnits, Food.getValue)\n",
    "    print('\\nUse greedy by cost to allocate', maxUnits,\n",
    "          'calories')\n",
    "    testGreedy(foods, maxUnits,\n",
    "               lambda x: 1/Food.getCost(x))\n",
    "    print('\\nUse greedy by density to allocate', maxUnits,\n",
    "          'calories')\n",
    "    testGreedy(foods, maxUnits, Food.density)\n",
    "\n"
   ]
  },
  {
   "cell_type": "code",
   "execution_count": 18,
   "metadata": {},
   "outputs": [
    {
     "name": "stdout",
     "output_type": "stream",
     "text": [
      "Use greedy by value to allocate 1000 calories\n",
      "Total value of items taken = 424.0\n",
      "    burger: <100,354 > \n",
      "    pizza: <95,258 > \n",
      "    beer: <90,154 > \n",
      "    wine: <89,123 > \n",
      "    apple: <50,95 > \n",
      "\n",
      "Use greedy by cost to allocate 1000 calories\n",
      "Total value of items taken = 413.0\n",
      "    apple: <50,95 > \n",
      "    wine: <89,123 > \n",
      "    cola: <79,150 > \n",
      "    beer: <90,154 > \n",
      "    donut: <10,195 > \n",
      "    pizza: <95,258 > \n",
      "\n",
      "Use greedy by density to allocate 1000 calories\n",
      "Total value of items taken = 413.0\n",
      "    wine: <89,123 > \n",
      "    beer: <90,154 > \n",
      "    cola: <79,150 > \n",
      "    apple: <50,95 > \n",
      "    pizza: <95,258 > \n",
      "    donut: <10,195 > \n"
     ]
    }
   ],
   "source": [
    "\n",
    "names = ['wine', 'beer', 'pizza', 'burger', 'fries',\n",
    "         'cola', 'apple', 'donut', 'cake']\n",
    "values = [89,90,95,100,90,79,50,10]\n",
    "calories = [123,154,258,354,365,150,95,195]\n",
    "foods = buildMenu(names, values, calories)\n",
    "testGreedys(foods, 1000)\n"
   ]
  },
  {
   "cell_type": "markdown",
   "metadata": {},
   "source": [
    "Find data science books and check if they have algorithms inside.\n",
    "With greedy algoriths u can get stuck at local optimal point not the global optimal"
   ]
  },
  {
   "cell_type": "markdown",
   "metadata": {},
   "source": [
    "Greedy algorithm.\n",
    "Brute force algorithm: often not practical. way too long time to computing.\n"
   ]
  },
  {
   "cell_type": "code",
   "execution_count": 19,
   "metadata": {},
   "outputs": [],
   "source": [
    "def maxVal(toConsider, avail):\n",
    "    \"\"\"Assumes toConsider a list of items, avail a weight\n",
    "       Returns a tuple of the total value of a solution to the\n",
    "         0/1 knapsack problem and the items of that solution\"\"\"\n",
    "    if toConsider == [] or avail == 0:\n",
    "        result = (0, ())\n",
    "    elif toConsider[0].getCost() > avail:\n",
    "        #Explore right branch only\n",
    "        result = maxVal(toConsider[1:], avail)\n",
    "    else:\n",
    "        nextItem = toConsider[0]\n",
    "        #Explore left branch\n",
    "        withVal, withToTake = maxVal(toConsider[1:],\n",
    "                                     avail - nextItem.getCost())\n",
    "        withVal += nextItem.getValue()\n",
    "        #Explore right branch\n",
    "        withoutVal, withoutToTake = maxVal(toConsider[1:], avail)\n",
    "        #Choose better branch\n",
    "        if withVal > withoutVal:\n",
    "            result = (withVal, withToTake + (nextItem,))\n",
    "        else:\n",
    "            result = (withoutVal, withoutToTake)\n",
    "    return result"
   ]
  },
  {
   "cell_type": "code",
   "execution_count": 20,
   "metadata": {},
   "outputs": [],
   "source": [
    "\n",
    "def testMaxVal(foods, maxUnits, printItems = True):\n",
    "    print('Use search tree to allocate', maxUnits,\n",
    "          'calories')\n",
    "    val, taken = maxVal(foods, maxUnits)\n",
    "    print('Total value of items taken =', val)\n",
    "    if printItems:\n",
    "        for item in taken:\n",
    "            print('   ', item)\n"
   ]
  },
  {
   "cell_type": "code",
   "execution_count": 21,
   "metadata": {},
   "outputs": [
    {
     "name": "stdout",
     "output_type": "stream",
     "text": [
      "Use greedy by value to allocate 750 calories\n",
      "Total value of items taken = 284.0\n",
      "    burger: <100,354 > \n",
      "    pizza: <95,258 > \n",
      "    wine: <89,123 > \n",
      "\n",
      "Use greedy by cost to allocate 750 calories\n",
      "Total value of items taken = 318.0\n",
      "    apple: <50,95 > \n",
      "    wine: <89,123 > \n",
      "    cola: <79,150 > \n",
      "    beer: <90,154 > \n",
      "    donut: <10,195 > \n",
      "\n",
      "Use greedy by density to allocate 750 calories\n",
      "Total value of items taken = 318.0\n",
      "    wine: <89,123 > \n",
      "    beer: <90,154 > \n",
      "    cola: <79,150 > \n",
      "    apple: <50,95 > \n",
      "    donut: <10,195 > \n",
      "\n",
      "Use search tree to allocate 750 calories\n",
      "Total value of items taken = 353\n",
      "    cola: <79,150 > \n",
      "    pizza: <95,258 > \n",
      "    beer: <90,154 > \n",
      "    wine: <89,123 > \n"
     ]
    }
   ],
   "source": [
    "\n",
    "names = ['wine', 'beer', 'pizza', 'burger', 'fries',\n",
    "         'cola', 'apple', 'donut', 'cake']\n",
    "values = [89,90,95,100,90,79,50,10]\n",
    "calories = [123,154,258,354,365,150,95,195]\n",
    "foods = buildMenu(names, values, calories)\n",
    "\n",
    "testGreedys(foods, 750)\n",
    "print('')\n",
    "testMaxVal(foods, 750)"
   ]
  },
  {
   "cell_type": "markdown",
   "metadata": {},
   "source": [
    "# Comment the uncommented code of others to understand better"
   ]
  },
  {
   "cell_type": "code",
   "execution_count": 22,
   "metadata": {},
   "outputs": [],
   "source": [
    "\n",
    "import random\n",
    "\n",
    "def buildLargeMenu(numItems, maxVal, maxCost):\n",
    "    items = []\n",
    "    for i in range(numItems):\n",
    "        items.append(Food(str(i),\n",
    "                          random.randint(1, maxVal),\n",
    "                          random.randint(1, maxCost)))\n",
    "    return items\n",
    "\n",
    "#for numItems in (5, 10, 15, 20, 25, 30, 35, 40, 45):\n",
    "#    print('Try a menu with', numItems, 'items')\n",
    "#    items = buildLargeMenu(numItems, 90, 250)\n",
    "#    testMaxVal(items, 750, False)  \n",
    "\n",
    "def fib(n):\n",
    "    if n == 0 or n == 1:\n",
    "        return 1\n",
    "    else:\n",
    "        return fib(n - 1) + fib(n - 2)\n",
    "\n",
    "#for i in range(121):\n",
    "#    print('fib(' + str(i) + ') =', fib(i))\n",
    "\n",
    "\n",
    "def fastFib(n, memo = {}):\n",
    "    \"\"\"Assumes n is an int >= 0, memo used only by recursive calls\n",
    "       Returns Fibonacci of n\"\"\"\n",
    "    if n == 0 or n == 1:\n",
    "        return 1\n",
    "    try:\n",
    "        return memo[n]\n",
    "    except KeyError:\n",
    "        result = fastFib(n-1, memo) + fastFib(n-2, memo)\n",
    "        memo[n] = result\n",
    "        return result\n",
    "\n",
    "#for i in range(121):\n",
    "#    print('fib(' + str(i) + ') =', fastFib(i))\n",
    "\n",
    "def fastMaxVal(toConsider, avail, memo = {}):\n",
    "    \"\"\"Assumes toConsider a list of subjects, avail a weight\n",
    "         memo supplied by recursive calls\n",
    "       Returns a tuple of the total value of a solution to the\n",
    "         0/1 knapsack problem and the subjects of that solution\"\"\"\n",
    "    if (len(toConsider), avail) in memo:\n",
    "        result = memo[(len(toConsider), avail)]\n",
    "    elif toConsider == [] or avail == 0:\n",
    "        result = (0, ())\n",
    "    elif toConsider[0].getCost() > avail:\n",
    "        #Explore right branch only\n",
    "        result = fastMaxVal(toConsider[1:], avail, memo)\n",
    "    else:\n",
    "        nextItem = toConsider[0]\n",
    "        #Explore left branch\n",
    "        withVal, withToTake =\\\n",
    "                 fastMaxVal(toConsider[1:],\n",
    "                            avail - nextItem.getCost(), memo)\n",
    "        withVal += nextItem.getValue()\n",
    "        #Explore right branch\n",
    "        withoutVal, withoutToTake = fastMaxVal(toConsider[1:],\n",
    "                                                avail, memo)\n",
    "        #Choose better branch\n",
    "        if withVal > withoutVal:\n",
    "            result = (withVal, withToTake + (nextItem,))\n",
    "        else:\n",
    "            result = (withoutVal, withoutToTake)\n",
    "    memo[(len(toConsider), avail)] = result\n",
    "    return result\n",
    "\n",
    "def testMaxVal(foods, maxUnits, algorithm, printItems = True):\n",
    "    print('Menu contains', len(foods), 'items')\n",
    "    print('Use search tree to allocate', maxUnits,\n",
    "          'calories')\n",
    "    val, taken = algorithm(foods, maxUnits)\n",
    "    if printItems:\n",
    "        print('Total value of items taken =', val)\n",
    "        for item in taken:\n",
    "            print('   ', item)\n",
    "          \n",
    "#for numItems in (5, 10, 15, 20, 25, 30, 35, 40, 45, 50):\n",
    "#    items = buildLargeMenu(numItems, 90, 250)\n",
    "#    testMaxVal(items, 750, fastMaxVal, True)"
   ]
  },
  {
   "cell_type": "code",
   "execution_count": 23,
   "metadata": {},
   "outputs": [
    {
     "name": "stdout",
     "output_type": "stream",
     "text": [
      "Try a menu with 5 items\n",
      "Menu contains 5 items\n",
      "Use search tree to allocate 750 calories\n"
     ]
    },
    {
     "ename": "TypeError",
     "evalue": "'bool' object is not callable",
     "output_type": "error",
     "traceback": [
      "\u001b[1;31m---------------------------------------------------------------------------\u001b[0m",
      "\u001b[1;31mTypeError\u001b[0m                                 Traceback (most recent call last)",
      "\u001b[1;32m<ipython-input-23-5961617c8dd2>\u001b[0m in \u001b[0;36m<module>\u001b[1;34m\u001b[0m\n\u001b[0;32m      2\u001b[0m     \u001b[0mprint\u001b[0m\u001b[1;33m(\u001b[0m\u001b[1;34m'Try a menu with'\u001b[0m\u001b[1;33m,\u001b[0m \u001b[0mnumItems\u001b[0m\u001b[1;33m,\u001b[0m \u001b[1;34m'items'\u001b[0m\u001b[1;33m)\u001b[0m\u001b[1;33m\u001b[0m\u001b[1;33m\u001b[0m\u001b[0m\n\u001b[0;32m      3\u001b[0m     \u001b[0mitems\u001b[0m \u001b[1;33m=\u001b[0m \u001b[0mbuildLargeMenu\u001b[0m\u001b[1;33m(\u001b[0m\u001b[0mnumItems\u001b[0m\u001b[1;33m,\u001b[0m \u001b[1;36m90\u001b[0m\u001b[1;33m,\u001b[0m \u001b[1;36m250\u001b[0m\u001b[1;33m)\u001b[0m\u001b[1;33m\u001b[0m\u001b[1;33m\u001b[0m\u001b[0m\n\u001b[1;32m----> 4\u001b[1;33m     \u001b[0mtestMaxVal\u001b[0m\u001b[1;33m(\u001b[0m\u001b[0mitems\u001b[0m\u001b[1;33m,\u001b[0m \u001b[1;36m750\u001b[0m\u001b[1;33m,\u001b[0m \u001b[1;32mFalse\u001b[0m\u001b[1;33m)\u001b[0m\u001b[1;33m\u001b[0m\u001b[1;33m\u001b[0m\u001b[0m\n\u001b[0m",
      "\u001b[1;32m<ipython-input-22-82248994dbbb>\u001b[0m in \u001b[0;36mtestMaxVal\u001b[1;34m(foods, maxUnits, algorithm, printItems)\u001b[0m\n\u001b[0;32m     74\u001b[0m     print('Use search tree to allocate', maxUnits,\n\u001b[0;32m     75\u001b[0m           'calories')\n\u001b[1;32m---> 76\u001b[1;33m     \u001b[0mval\u001b[0m\u001b[1;33m,\u001b[0m \u001b[0mtaken\u001b[0m \u001b[1;33m=\u001b[0m \u001b[0malgorithm\u001b[0m\u001b[1;33m(\u001b[0m\u001b[0mfoods\u001b[0m\u001b[1;33m,\u001b[0m \u001b[0mmaxUnits\u001b[0m\u001b[1;33m)\u001b[0m\u001b[1;33m\u001b[0m\u001b[1;33m\u001b[0m\u001b[0m\n\u001b[0m\u001b[0;32m     77\u001b[0m     \u001b[1;32mif\u001b[0m \u001b[0mprintItems\u001b[0m\u001b[1;33m:\u001b[0m\u001b[1;33m\u001b[0m\u001b[1;33m\u001b[0m\u001b[0m\n\u001b[0;32m     78\u001b[0m         \u001b[0mprint\u001b[0m\u001b[1;33m(\u001b[0m\u001b[1;34m'Total value of items taken ='\u001b[0m\u001b[1;33m,\u001b[0m \u001b[0mval\u001b[0m\u001b[1;33m)\u001b[0m\u001b[1;33m\u001b[0m\u001b[1;33m\u001b[0m\u001b[0m\n",
      "\u001b[1;31mTypeError\u001b[0m: 'bool' object is not callable"
     ]
    }
   ],
   "source": [
    "for numItems in (5, 10, 15, 20, 25, 30, 35, 40, 45):\n",
    "    print('Try a menu with', numItems, 'items')\n",
    "    items = buildLargeMenu(numItems, 90, 250)\n",
    "    testMaxVal(items, 750, False) "
   ]
  },
  {
   "cell_type": "code",
   "execution_count": 24,
   "metadata": {},
   "outputs": [
    {
     "name": "stdout",
     "output_type": "stream",
     "text": [
      "Menu contains 5 items\n",
      "Use search tree to allocate 750 calories\n",
      "Total value of items taken = 281\n",
      "    4: <34,234 > \n",
      "    3: <61,114 > \n",
      "    2: <34,116 > \n",
      "    1: <88,161 > \n",
      "    0: <64,14 > \n",
      "Menu contains 10 items\n",
      "Use search tree to allocate 750 calories\n",
      "Total value of items taken = 459\n",
      "    7: <74,8 > \n",
      "    6: <90,121 > \n",
      "    4: <74,148 > \n",
      "    3: <74,147 > \n",
      "    1: <68,124 > \n",
      "    0: <79,174 > \n",
      "Menu contains 15 items\n",
      "Use search tree to allocate 750 calories\n",
      "Total value of items taken = 700\n",
      "    9: <21,30 > \n",
      "    7: <74,8 > \n",
      "    6: <90,121 > \n",
      "    5: <40,47 > \n",
      "    4: <74,148 > \n",
      "    8: <34,24 > \n",
      "    7: <63,9 > \n",
      "    6: <1,18 > \n",
      "    5: <34,34 > \n",
      "    4: <70,13 > \n",
      "    3: <68,17 > \n",
      "    2: <59,116 > \n",
      "    0: <72,68 > \n",
      "Menu contains 20 items\n",
      "Use search tree to allocate 750 calories\n",
      "Total value of items taken = 700\n",
      "    9: <21,30 > \n",
      "    7: <74,8 > \n",
      "    6: <90,121 > \n",
      "    5: <40,47 > \n",
      "    4: <74,148 > \n",
      "    8: <34,24 > \n",
      "    7: <63,9 > \n",
      "    6: <1,18 > \n",
      "    5: <34,34 > \n",
      "    4: <70,13 > \n",
      "    3: <68,17 > \n",
      "    2: <59,116 > \n",
      "    0: <72,68 > \n",
      "Menu contains 25 items\n",
      "Use search tree to allocate 750 calories\n",
      "Total value of items taken = 700\n",
      "    9: <21,30 > \n",
      "    7: <74,8 > \n",
      "    6: <90,121 > \n",
      "    5: <40,47 > \n",
      "    4: <74,148 > \n",
      "    8: <34,24 > \n",
      "    7: <63,9 > \n",
      "    6: <1,18 > \n",
      "    5: <34,34 > \n",
      "    4: <70,13 > \n",
      "    3: <68,17 > \n",
      "    2: <59,116 > \n",
      "    0: <72,68 > \n",
      "Menu contains 30 items\n",
      "Use search tree to allocate 750 calories\n",
      "Total value of items taken = 916\n",
      "    9: <21,30 > \n",
      "    7: <74,8 > \n",
      "    6: <90,121 > \n",
      "    5: <40,47 > \n",
      "    4: <74,148 > \n",
      "    7: <63,9 > \n",
      "    6: <1,18 > \n",
      "    5: <34,34 > \n",
      "    4: <70,13 > \n",
      "    8: <52,13 > \n",
      "    7: <58,126 > \n",
      "    3: <55,29 > \n",
      "    7: <83,8 > \n",
      "    6: <61,14 > \n",
      "    5: <48,24 > \n",
      "    4: <41,100 > \n",
      "    3: <51,8 > \n",
      "Menu contains 35 items\n",
      "Use search tree to allocate 750 calories\n",
      "Total value of items taken = 916\n",
      "    9: <21,30 > \n",
      "    7: <74,8 > \n",
      "    6: <90,121 > \n",
      "    5: <40,47 > \n",
      "    4: <74,148 > \n",
      "    7: <63,9 > \n",
      "    6: <1,18 > \n",
      "    5: <34,34 > \n",
      "    4: <70,13 > \n",
      "    8: <52,13 > \n",
      "    7: <58,126 > \n",
      "    3: <55,29 > \n",
      "    7: <83,8 > \n",
      "    6: <61,14 > \n",
      "    5: <48,24 > \n",
      "    4: <41,100 > \n",
      "    3: <51,8 > \n",
      "Menu contains 40 items\n",
      "Use search tree to allocate 750 calories\n",
      "Total value of items taken = 1051\n",
      "    7: <74,8 > \n",
      "    6: <90,121 > \n",
      "    4: <74,148 > \n",
      "    7: <63,9 > \n",
      "    5: <34,34 > \n",
      "    4: <70,13 > \n",
      "    3: <68,17 > \n",
      "    2: <59,116 > \n",
      "    14: <69,109 > \n",
      "    15: <61,1 > \n",
      "    13: <83,28 > \n",
      "    16: <74,28 > \n",
      "    11: <30,15 > \n",
      "    10: <66,9 > \n",
      "    8: <80,54 > \n",
      "    0: <56,13 > \n",
      "Menu contains 45 items\n",
      "Use search tree to allocate 750 calories\n",
      "Total value of items taken = 1139\n",
      "    9: <21,30 > \n",
      "    7: <74,8 > \n",
      "    6: <90,121 > \n",
      "    10: <47,18 > \n",
      "    8: <34,24 > \n",
      "    7: <63,9 > \n",
      "    11: <76,49 > \n",
      "    10: <45,120 > \n",
      "    8: <52,13 > \n",
      "    15: <61,1 > \n",
      "    13: <83,28 > \n",
      "    16: <74,28 > \n",
      "    11: <30,15 > \n",
      "    10: <66,9 > \n",
      "    14: <68,17 > \n",
      "    10: <24,29 > \n",
      "    8: <44,11 > \n",
      "    6: <50,41 > \n",
      "    3: <73,33 > \n",
      "    1: <45,22 > \n",
      "    0: <19,26 > \n",
      "Menu contains 50 items\n",
      "Use search tree to allocate 750 calories\n",
      "Total value of items taken = 1145\n",
      "    7: <74,8 > \n",
      "    6: <90,121 > \n",
      "    10: <47,18 > \n",
      "    13: <10,42 > \n",
      "    11: <76,49 > \n",
      "    8: <52,13 > \n",
      "    15: <61,1 > \n",
      "    13: <83,28 > \n",
      "    11: <46,51 > \n",
      "    11: <30,15 > \n",
      "    10: <66,9 > \n",
      "    8: <80,54 > \n",
      "    12: <75,75 > \n",
      "    8: <44,11 > \n",
      "    12: <80,127 > \n",
      "    10: <63,32 > \n",
      "    6: <75,10 > \n",
      "    1: <24,23 > \n",
      "    0: <69,60 > \n"
     ]
    }
   ],
   "source": [
    "for numItems in (5, 10, 15, 20, 25, 30, 35, 40, 45, 50):\n",
    "    items = buildLargeMenu(numItems, 90, 250)\n",
    "    testMaxVal(items, 750, fastMaxVal, True)"
   ]
  },
  {
   "cell_type": "markdown",
   "metadata": {},
   "source": [
    "## 3. Graph-theoretic Models\n"
   ]
  },
  {
   "cell_type": "code",
   "execution_count": 1,
   "metadata": {},
   "outputs": [],
   "source": [
    "class Node(object):\n",
    "    def __init__(self, name):\n",
    "        \"\"\"Assumes name is a string\"\"\"\n",
    "        self.name = name\n",
    "    def getName(self):\n",
    "        return self.name\n",
    "    def __str__(self):\n",
    "        return self.name"
   ]
  },
  {
   "cell_type": "code",
   "execution_count": 13,
   "metadata": {},
   "outputs": [],
   "source": [
    "class Edge(object):\n",
    "    def __init__(self, src, dest):\n",
    "        \"\"\"Assumes src and dest are nodes\"\"\"\n",
    "        self.src = src\n",
    "        self.dest = dest\n",
    "    def getSource(self):\n",
    "        return self.src\n",
    "    def getDestination(self):\n",
    "        return self.dest\n",
    "    def __str__(self):\n",
    "        return self.src.getName() + '->' + self.dest.getName()"
   ]
  },
  {
   "cell_type": "code",
   "execution_count": 14,
   "metadata": {},
   "outputs": [],
   "source": [
    "class Digraph(object):\n",
    "    \"\"\"edges is a dict mapping each node to a list of\n",
    "    its children\"\"\"\n",
    "    def __init__(self):\n",
    "        self.edges = {}\n",
    "    def addNode(self, node):\n",
    "        if node in self.edges:\n",
    "            raise ValueError('Duplicate node')\n",
    "        else:\n",
    "            self.edges[node] = []\n",
    "    def addEdge(self, edge):\n",
    "        src = edge.getSource()\n",
    "        dest = edge.getDestination()\n",
    "        if not (src in self.edges and dest in self.edges):\n",
    "            raise ValueError('Node not in graph')\n",
    "        self.edges[src].append(dest)\n",
    "    def childrenOf(self, node):\n",
    "        return self.edges[node]\n",
    "    def hasNode(self, node):\n",
    "        return node in self.edges\n",
    "    def getNode(self, name):\n",
    "        for n in self.edges:\n",
    "            if n.getName() == name:\n",
    "                return n\n",
    "        raise NameError(name)\n",
    "    def __str__(self):\n",
    "        result = ''\n",
    "        for src in self.edges:\n",
    "            for dest in self.edges[src]:\n",
    "                result = result + src.getName() + '->'\\\n",
    "                         + dest.getName() + '\\n'\n",
    "        return result[:-1] #omit final newline"
   ]
  },
  {
   "cell_type": "code",
   "execution_count": 16,
   "metadata": {},
   "outputs": [],
   "source": [
    "class Graph(Digraph):\n",
    "    def addEdge(self, edge):\n",
    "        Digraph.addEdge(self, edge)\n",
    "        rev = Edge(edge.getDestination(), edge.getSource())\n",
    "        Digraph.addEdge(self, rev)\n",
    "    \n",
    "def buildCityGraph(graphType):\n",
    "    g = graphType()\n",
    "    for name in ('Boston', 'Providence', 'New York', 'Chicago',\n",
    "                 'Denver', 'Phoenix', 'Los Angeles'): #Create 7 nodes\n",
    "        g.addNode(Node(name))\n",
    "    g.addEdge(Edge(g.getNode('Boston'), g.getNode('Providence')))\n",
    "    g.addEdge(Edge(g.getNode('Boston'), g.getNode('New York')))\n",
    "    g.addEdge(Edge(g.getNode('Providence'), g.getNode('Boston')))\n",
    "    g.addEdge(Edge(g.getNode('Providence'), g.getNode('New York')))\n",
    "    g.addEdge(Edge(g.getNode('New York'), g.getNode('Chicago')))\n",
    "    g.addEdge(Edge(g.getNode('Chicago'), g.getNode('Denver')))\n",
    "    g.addEdge(Edge(g.getNode('Chicago'), g.getNode('Phoenix')))\n",
    "    g.addEdge(Edge(g.getNode('Denver'), g.getNode('Phoenix')))\n",
    "    g.addEdge(Edge(g.getNode('Denver'), g.getNode('New York')))\n",
    "    g.addEdge(Edge(g.getNode('Los Angeles'), g.getNode('Boston')))\n",
    "    return g"
   ]
  },
  {
   "cell_type": "code",
   "execution_count": 17,
   "metadata": {},
   "outputs": [],
   "source": [
    "g = buildCityGraph(Digraph)"
   ]
  },
  {
   "cell_type": "code",
   "execution_count": 18,
   "metadata": {},
   "outputs": [
    {
     "name": "stdout",
     "output_type": "stream",
     "text": [
      "Boston->Providence\n",
      "Boston->New York\n",
      "Providence->Boston\n",
      "Providence->New York\n",
      "New York->Chicago\n",
      "Chicago->Denver\n",
      "Chicago->Phoenix\n",
      "Denver->Phoenix\n",
      "Denver->New York\n",
      "Los Angeles->Boston\n"
     ]
    }
   ],
   "source": [
    "print(g)"
   ]
  },
  {
   "cell_type": "code",
   "execution_count": 20,
   "metadata": {},
   "outputs": [],
   "source": [
    "def printPath(path):\n",
    "    \"\"\"Assumes path is a list of nodes\"\"\"\n",
    "    result = ''\n",
    "    for i in range(len(path)):\n",
    "        result = result + str(path[i])\n",
    "        if i != len(path) - 1:\n",
    "            result = result + '->'\n",
    "    return result \n",
    "\n",
    "def DFS(graph, start, end, path, shortest, toPrint = False):\n",
    "    \"\"\"Assumes graph is a Digraph; start and end are nodes;\n",
    "          path and shortest are lists of nodes\n",
    "       Returns a shortest path from start to end in graph\"\"\"\n",
    "    path = path + [start]\n",
    "    if toPrint:\n",
    "        print('Current DFS path:', printPath(path))\n",
    "    if start == end:\n",
    "        return path\n",
    "    for node in graph.childrenOf(start):\n",
    "        if node not in path: #avoid cycles\n",
    "            if shortest == None or len(path) < len(shortest):\n",
    "                newPath = DFS(graph, node, end, path, shortest,\n",
    "                              toPrint)\n",
    "                if newPath != None:\n",
    "                    shortest = newPath\n",
    "        elif toPrint:\n",
    "            print('Already visited', node)\n",
    "    return shortest\n",
    "\n",
    "def shortestPath(graph, start, end, toPrint = False):\n",
    "    \"\"\"Assumes graph is a Digraph; start and end are nodes\n",
    "       Returns a shortest path from start to end in graph\"\"\"\n",
    "    return DFS(graph, start, end, [], None, toPrint)"
   ]
  },
  {
   "cell_type": "code",
   "execution_count": 21,
   "metadata": {},
   "outputs": [
    {
     "name": "stdout",
     "output_type": "stream",
     "text": [
      "Current DFS path: Chicago\n",
      "Current DFS path: Chicago->Denver\n",
      "Current DFS path: Chicago->Denver->Phoenix\n",
      "Current DFS path: Chicago->Denver->New York\n",
      "Already visited Chicago\n",
      "Current DFS path: Chicago->Phoenix\n",
      "There is no path from Chicago to Boston\n",
      "\n"
     ]
    }
   ],
   "source": [
    "def testSP(source, destination):\n",
    "    g = buildCityGraph(Digraph)\n",
    "    sp = shortestPath(g, g.getNode(source), g.getNode(destination),\n",
    "                      toPrint = True)\n",
    "    if sp != None:\n",
    "        print('Shortest path from', source, 'to',\n",
    "              destination, 'is', printPath(sp))\n",
    "    else:\n",
    "        print('There is no path from', source, 'to', destination)\n",
    "\n",
    "testSP('Chicago', 'Boston')\n",
    "print()\n",
    "#testSP('Boston', 'Phoenix')\n",
    "#print()\n",
    "\n",
    "printQueue = True "
   ]
  },
  {
   "cell_type": "code",
   "execution_count": 23,
   "metadata": {},
   "outputs": [],
   "source": [
    "def BFS(graph, start, end, toPrint = False):\n",
    "    \"\"\"Assumes graph is a Digraph; start and end are nodes\n",
    "       Returns a shortest path from start to end in graph\"\"\"\n",
    "    initPath = [start]\n",
    "    pathQueue = [initPath]\n",
    "    while len(pathQueue) != 0:\n",
    "        #Get and remove oldest element in pathQueue\n",
    "        if printQueue:\n",
    "            print('Queue:', len(pathQueue))\n",
    "            for p in pathQueue:\n",
    "                print(printPath(p))\n",
    "        tmpPath = pathQueue.pop(0)\n",
    "        if toPrint:\n",
    "            print('Current BFS path:', printPath(tmpPath))\n",
    "            print()\n",
    "        lastNode = tmpPath[-1]\n",
    "        if lastNode == end:\n",
    "            return tmpPath\n",
    "        for nextNode in graph.childrenOf(lastNode):\n",
    "            if nextNode not in tmpPath:\n",
    "                newPath = tmpPath + [nextNode]\n",
    "                pathQueue.append(newPath)\n",
    "    return None\n",
    "\n",
    "def shortestPath(graph, start, end, toPrint = False):\n",
    "    \"\"\"Assumes graph is a Digraph; start and end are nodes\n",
    "       Returns a shortest path from start to end in graph\"\"\"\n",
    "    return BFS(graph, start, end, toPrint)\n",
    "    \n"
   ]
  },
  {
   "cell_type": "code",
   "execution_count": 24,
   "metadata": {},
   "outputs": [
    {
     "name": "stdout",
     "output_type": "stream",
     "text": [
      "Queue: 1\n",
      "Boston\n",
      "Current BFS path: Boston\n",
      "\n",
      "Queue: 2\n",
      "Boston->Providence\n",
      "Boston->New York\n",
      "Current BFS path: Boston->Providence\n",
      "\n",
      "Queue: 2\n",
      "Boston->New York\n",
      "Boston->Providence->New York\n",
      "Current BFS path: Boston->New York\n",
      "\n",
      "Queue: 2\n",
      "Boston->Providence->New York\n",
      "Boston->New York->Chicago\n",
      "Current BFS path: Boston->Providence->New York\n",
      "\n",
      "Queue: 2\n",
      "Boston->New York->Chicago\n",
      "Boston->Providence->New York->Chicago\n",
      "Current BFS path: Boston->New York->Chicago\n",
      "\n",
      "Queue: 3\n",
      "Boston->Providence->New York->Chicago\n",
      "Boston->New York->Chicago->Denver\n",
      "Boston->New York->Chicago->Phoenix\n",
      "Current BFS path: Boston->Providence->New York->Chicago\n",
      "\n",
      "Queue: 4\n",
      "Boston->New York->Chicago->Denver\n",
      "Boston->New York->Chicago->Phoenix\n",
      "Boston->Providence->New York->Chicago->Denver\n",
      "Boston->Providence->New York->Chicago->Phoenix\n",
      "Current BFS path: Boston->New York->Chicago->Denver\n",
      "\n",
      "Queue: 4\n",
      "Boston->New York->Chicago->Phoenix\n",
      "Boston->Providence->New York->Chicago->Denver\n",
      "Boston->Providence->New York->Chicago->Phoenix\n",
      "Boston->New York->Chicago->Denver->Phoenix\n",
      "Current BFS path: Boston->New York->Chicago->Phoenix\n",
      "\n",
      "Shortest path from Boston to Phoenix is Boston->New York->Chicago->Phoenix\n"
     ]
    }
   ],
   "source": [
    "testSP('Boston', 'Phoenix')"
   ]
  },
  {
   "cell_type": "markdown",
   "metadata": {},
   "source": [
    "## Q- Weighted shortest path ?"
   ]
  },
  {
   "cell_type": "markdown",
   "metadata": {},
   "source": [
    "# Lecture 4 - Stochastic Thinking"
   ]
  },
  {
   "cell_type": "code",
   "execution_count": 1,
   "metadata": {},
   "outputs": [],
   "source": [
    "import random\n",
    " \n",
    "def rollDie():\n",
    "    \"\"\"returns a random int between 1 and 6\"\"\"\n",
    "    return random.choice([1,2,3,4,5,6])\n",
    " \n",
    "def testRoll(n = 10):\n",
    "    result = ''\n",
    "    for i in range(n):\n",
    "        result = result + str(rollDie())\n",
    "    print(result)"
   ]
  },
  {
   "cell_type": "code",
   "execution_count": 4,
   "metadata": {},
   "outputs": [
    {
     "name": "stdout",
     "output_type": "stream",
     "text": [
      "25625\n"
     ]
    }
   ],
   "source": [
    "testRoll(5)\n"
   ]
  },
  {
   "cell_type": "code",
   "execution_count": 18,
   "metadata": {},
   "outputs": [],
   "source": [
    "random.seed(5)\n",
    "\n",
    "def runSim(goal, numTrials, txt):\n",
    "    total = 0\n",
    "    for i in range(numTrials):\n",
    "        result = ''\n",
    "        for j in range(len(goal)):\n",
    "            result += str(rollDie())\n",
    "        if result == goal:\n",
    "            total += 1\n",
    "    print('Actual probability of', txt, '=',\n",
    "          round(1/(6**len(goal)), 8)) \n",
    "    estProbability = round(total/numTrials, 8)\n",
    "    print('Estimated Probability of', txt, '=',\n",
    "          round(estProbability, 8))\n",
    "    \n"
   ]
  },
  {
   "cell_type": "code",
   "execution_count": 19,
   "metadata": {},
   "outputs": [
    {
     "name": "stdout",
     "output_type": "stream",
     "text": [
      "Actual probability of 11111 = 0.0001286\n",
      "Estimated Probability of 11111 = 0.0\n"
     ]
    }
   ],
   "source": [
    "runSim('11111', 1000, '11111')"
   ]
  },
  {
   "cell_type": "markdown",
   "metadata": {},
   "source": [
    "Estimated Probability is 0 because after 1000 times of simulation it never find 11111\n",
    "\n",
    "**random.seed(5) is useful when debugging and when u debug use more than one value of seed so that u see u werent lucky with the first seed.**"
   ]
  },
  {
   "cell_type": "code",
   "execution_count": 20,
   "metadata": {},
   "outputs": [
    {
     "name": "stdout",
     "output_type": "stream",
     "text": [
      "Actual probability of 11111 = 0.0001286\n",
      "Estimated Probability of 11111 = 0.000131\n"
     ]
    }
   ],
   "source": [
    "runSim('11111', 1000000, '11111')"
   ]
  },
  {
   "cell_type": "code",
   "execution_count": 24,
   "metadata": {},
   "outputs": [],
   "source": [
    "def sameDate(numPeople, numSame):\n",
    "#possibleDates = range(366)\n",
    "    possibleDates = 4*list(range(0, 57)) + [58]\\\n",
    "                    + 4*list(range(59, 366))\\\n",
    "                    + 4*list(range(180, 270))\n",
    "    birthdays = [0]*366\n",
    "    for p in range(numPeople):\n",
    "        birthDate = random.choice(possibleDates)\n",
    "        birthdays[birthDate] += 1\n",
    "    return max(birthdays) >= numSame\n"
   ]
  },
  {
   "cell_type": "code",
   "execution_count": 25,
   "metadata": {},
   "outputs": [
    {
     "name": "stdout",
     "output_type": "stream",
     "text": [
      "For 10 est. prob. of a shared birthday is 0.1253\n",
      "Actual prob. for N = 100 = 0.1166454118039999\n",
      "For 20 est. prob. of a shared birthday is 0.4512\n",
      "Actual prob. for N = 100 = 0.4105696370550831\n",
      "For 40 est. prob. of a shared birthday is 0.9176\n",
      "Actual prob. for N = 100 = 0.89054476188945\n",
      "For 100 est. prob. of a shared birthday is 1.0\n",
      "Actual prob. for N = 100 = 0.9999996784357714\n"
     ]
    }
   ],
   "source": [
    "def birthdayProb(numPeople, numSame, numTrials):\n",
    "    numHits = 0\n",
    "    for t in range(numTrials):\n",
    "        if sameDate(numPeople, numSame):\n",
    "            numHits += 1\n",
    "    return numHits/numTrials\n",
    "\n",
    "import math\n",
    "\n",
    "for numPeople in [10, 20, 40, 100]:\n",
    "    print('For', numPeople,\n",
    "          'est. prob. of a shared birthday is',\n",
    "          birthdayProb(numPeople, 2, 10000))\n",
    "    numerator = math.factorial(366)\n",
    "    denom = (366**numPeople)*math.factorial(366-numPeople)\n",
    "    print('Actual prob. for N = 100 =',\n",
    "          1 - numerator/denom)"
   ]
  },
  {
   "cell_type": "markdown",
   "metadata": {},
   "source": [
    "probabilty of 3 people share same birth day (eventhought this is matematiically not suited code for 3 people- needed different equation than two people share)"
   ]
  },
  {
   "cell_type": "code",
   "execution_count": 23,
   "metadata": {},
   "outputs": [
    {
     "name": "stdout",
     "output_type": "stream",
     "text": [
      "For 10 est. prob. of a shared birthday is 0.0009\n",
      "Actual prob. for N = 100 = 0.1166454118039999\n",
      "For 20 est. prob. of a shared birthday is 0.0075\n",
      "Actual prob. for N = 100 = 0.4105696370550831\n",
      "For 40 est. prob. of a shared birthday is 0.0671\n",
      "Actual prob. for N = 100 = 0.89054476188945\n",
      "For 100 est. prob. of a shared birthday is 0.643\n",
      "Actual prob. for N = 100 = 0.9999996784357714\n"
     ]
    }
   ],
   "source": [
    "for numPeople in [10, 20, 40, 100]:\n",
    "    print('For', numPeople,\n",
    "          'est. prob. of a shared birthday is',\n",
    "          birthdayProb(numPeople, 3, 10000))\n",
    "    numerator = math.factorial(366)\n",
    "    denom = (366**numPeople)*math.factorial(366-numPeople)\n",
    "    print('Actual prob. for N = 100 =',\n",
    "          1 - numerator/denom)"
   ]
  },
  {
   "cell_type": "markdown",
   "metadata": {},
   "source": [
    "# 5. Random Walks\n"
   ]
  },
  {
   "cell_type": "code",
   "execution_count": 2,
   "metadata": {},
   "outputs": [],
   "source": [
    "class Location(object):\n",
    "    def __init__(self, x, y):\n",
    "        \"\"\"x and y are numbers\"\"\"\n",
    "        self.x = x\n",
    "        self.y = y\n",
    "\n",
    "    def move(self, deltaX, deltaY):\n",
    "        \"\"\"deltaX and deltaY are numbers\"\"\"\n",
    "        return Location(self.x + deltaX, self.y + deltaY)\n",
    "\n",
    "    def getX(self):\n",
    "        return self.x\n",
    "\n",
    "    def getY(self):\n",
    "        return self.y\n",
    "\n",
    "    def distFrom(self, other):\n",
    "        xDist = self.x - other.getX()\n",
    "        yDist = self.y - other.getY()\n",
    "        return (xDist**2 + yDist**2)**0.5\n",
    "\n",
    "    def __str__(self):\n",
    "        return '<' + str(self.x) + ', ' + str(self.y) + '>'\n"
   ]
  },
  {
   "cell_type": "code",
   "execution_count": 3,
   "metadata": {},
   "outputs": [],
   "source": [
    "class Drunk(object):\n",
    "    def __init__(self, name = None):\n",
    "        \"\"\"Assumes name is a str\"\"\"\n",
    "        self.name = name\n",
    "\n",
    "    def __str__(self):\n",
    "        if self != None:\n",
    "            return self.name\n",
    "        return 'Anonymous'"
   ]
  },
  {
   "cell_type": "code",
   "execution_count": 5,
   "metadata": {},
   "outputs": [],
   "source": [
    "import random\n",
    "\n",
    "class UsualDrunk(Drunk):\n",
    "    def takeStep(self):\n",
    "        stepChoices = [(0,1), (0,-1), (1, 0), (-1, 0)]\n",
    "        return random.choice(stepChoices)\n",
    "\n",
    "class MasochistDrunk(Drunk):\n",
    "    def takeStep(self):\n",
    "        stepChoices = [(0.0,1.1), (0.0,-0.9),\n",
    "                       (1.0, 0.0), (-1.0, 0.0)]\n",
    "        return random.choice(stepChoices)"
   ]
  },
  {
   "cell_type": "code",
   "execution_count": 6,
   "metadata": {},
   "outputs": [],
   "source": [
    "class Field(object):\n",
    "    def __init__(self):\n",
    "        self.drunks = {}\n",
    "        \n",
    "    def addDrunk(self, drunk, loc):\n",
    "        if drunk in self.drunks:\n",
    "            raise ValueError('Duplicate drunk')\n",
    "        else:\n",
    "            self.drunks[drunk] = loc\n",
    "            \n",
    "    def moveDrunk(self, drunk):\n",
    "        if drunk not in self.drunks:\n",
    "            raise ValueError('Drunk not in field')\n",
    "        xDist, yDist = drunk.takeStep()\n",
    "        #use move method of Location to get new location\n",
    "        self.drunks[drunk] =\\\n",
    "            self.drunks[drunk].move(xDist, yDist)\n",
    "        \n",
    "    def getLoc(self, drunk):\n",
    "        if drunk not in self.drunks:\n",
    "            raise ValueError('Drunk not in field')\n",
    "        return self.drunks[drunk]"
   ]
  },
  {
   "cell_type": "code",
   "execution_count": 11,
   "metadata": {},
   "outputs": [],
   "source": [
    "def walk(f, d, numSteps):\n",
    "    \"\"\"Assumes: f a Field, d a Drunk in f, and numSteps an int >= 0.\n",
    "       Moves d numSteps times, and returns the distance between\n",
    "       the final location and the location at the start of the \n",
    "       walk.\"\"\"\n",
    "    start = f.getLoc(d)\n",
    "    for s in range(numSteps):\n",
    "        f.moveDrunk(d)\n",
    "    return start.distFrom(f.getLoc(d))\n",
    "    \n",
    "def simWalks(numSteps, numTrials, dClass):\n",
    "    \"\"\"Assumes numSteps an int >= 0, numTrials an int > 0,\n",
    "         dClass a subclass of Drunk\n",
    "       Simulates numTrials walks of numSteps steps each.\n",
    "       Returns a list of the final distances for each trial\"\"\"\n",
    "    Homer = dClass('Homer')\n",
    "    origin = Location(0, 0)\n",
    "    distances = []\n",
    "    for t in range(numTrials):\n",
    "        f = Field()\n",
    "        f.addDrunk(Homer, origin)\n",
    "        distances.append(round(walk(f, Homer,\n",
    "                                    numSteps), 1))\n",
    "    return distances"
   ]
  },
  {
   "cell_type": "code",
   "execution_count": 12,
   "metadata": {},
   "outputs": [],
   "source": [
    "def drunkTest(walkLengths, numTrials, dClass):\n",
    "    \"\"\"Assumes walkLengths a sequence of ints >= 0\n",
    "         numTrials an int > 0, dClass a subclass of Drunk\n",
    "       For each number of steps in walkLengths, runs simWalks with\n",
    "         numTrials walks and prints results\"\"\"\n",
    "    for numSteps in walkLengths:\n",
    "        distances = simWalks(numSteps, numTrials, dClass)\n",
    "        print(dClass.__name__, 'random walk of', numSteps, 'steps')\n",
    "        print(' Mean =', round(sum(distances)/len(distances), 4))\n",
    "        print(' Max =', max(distances), 'Min =', min(distances))"
   ]
  },
  {
   "cell_type": "code",
   "execution_count": 13,
   "metadata": {},
   "outputs": [
    {
     "name": "stdout",
     "output_type": "stream",
     "text": [
      "UsualDrunk random walk of 10 steps\n",
      " Mean = 2.863\n",
      " Max = 7.2 Min = 0.0\n",
      "UsualDrunk random walk of 100 steps\n",
      " Mean = 8.296\n",
      " Max = 21.6 Min = 1.4\n",
      "UsualDrunk random walk of 1000 steps\n",
      " Mean = 27.297\n",
      " Max = 66.3 Min = 4.2\n",
      "UsualDrunk random walk of 10000 steps\n",
      " Mean = 89.241\n",
      " Max = 226.5 Min = 10.0\n"
     ]
    }
   ],
   "source": [
    "random.seed(0)\n",
    "drunkTest((10, 100, 1000, 10000), 100, UsualDrunk)"
   ]
  },
  {
   "cell_type": "code",
   "execution_count": 14,
   "metadata": {},
   "outputs": [
    {
     "name": "stdout",
     "output_type": "stream",
     "text": [
      "UsualDrunk random walk of 0 steps\n",
      " Mean = 0.0\n",
      " Max = 0.0 Min = 0.0\n",
      "UsualDrunk random walk of 1 steps\n",
      " Mean = 1.0\n",
      " Max = 1.0 Min = 1.0\n",
      "UsualDrunk random walk of 2 steps\n",
      " Mean = 1.28\n",
      " Max = 2.0 Min = 0.0\n"
     ]
    }
   ],
   "source": [
    "drunkTest((0, 1, 2), 100, UsualDrunk)"
   ]
  },
  {
   "cell_type": "code",
   "execution_count": 15,
   "metadata": {},
   "outputs": [
    {
     "name": "stdout",
     "output_type": "stream",
     "text": [
      "UsualDrunk random walk of 1000 steps\n",
      " Mean = 28.318\n",
      " Max = 83.5 Min = 2.0\n",
      "UsualDrunk random walk of 10000 steps\n",
      " Mean = 81.776\n",
      " Max = 214.2 Min = 3.2\n",
      "MasochistDrunk random walk of 1000 steps\n",
      " Mean = 57.041\n",
      " Max = 109.8 Min = 15.3\n",
      "MasochistDrunk random walk of 10000 steps\n",
      " Mean = 503.508\n",
      " Max = 691.1 Min = 353.4\n"
     ]
    }
   ],
   "source": [
    "def simAll(drunkKinds, walkLengths, numTrials):\n",
    "    for dClass in drunkKinds:\n",
    "        drunkTest(walkLengths, numTrials, dClass)\n",
    "        \n",
    "#random.seed(0)\n",
    "simAll((UsualDrunk, MasochistDrunk),\n",
    "       (1000, 10000), 100)\n",
    "#        \n",
    "#xVals = [1, 2, 3, 4]\n",
    "#yVals1 = [1, 2, 3, 4]\n",
    "#pylab.plot(xVals, yVals1, 'b-', label = 'first')\n",
    "#yVals2 = [1, 7, 3, 5]\n",
    "#pylab.plot(xVals, yVals2, 'r--', label = 'second')\n",
    "#pylab.legend()"
   ]
  },
  {
   "cell_type": "code",
   "execution_count": 17,
   "metadata": {},
   "outputs": [],
   "source": [
    "import random, pylab\n",
    "\n",
    "#set line width\n",
    "pylab.rcParams['lines.linewidth'] = 4\n",
    "#set font size for titles \n",
    "pylab.rcParams['axes.titlesize'] = 20\n",
    "#set font size for labels on axes\n",
    "pylab.rcParams['axes.labelsize'] = 20\n",
    "#set size of numbers on x-axis\n",
    "pylab.rcParams['xtick.labelsize'] = 16\n",
    "#set size of numbers on y-axis\n",
    "pylab.rcParams['ytick.labelsize'] = 16\n",
    "#set size of ticks on x-axis\n",
    "pylab.rcParams['xtick.major.size'] = 7\n",
    "#set size of ticks on y-axis\n",
    "pylab.rcParams['ytick.major.size'] = 7\n",
    "#set size of markers, e.g., circles representing points\n",
    "#set numpoints for legend\n",
    "pylab.rcParams['legend.numpoints'] = 1"
   ]
  },
  {
   "cell_type": "code",
   "execution_count": 18,
   "metadata": {},
   "outputs": [
    {
     "data": {
      "text/plain": [
       "<matplotlib.legend.Legend at 0x8132ba8>"
      ]
     },
     "execution_count": 18,
     "metadata": {},
     "output_type": "execute_result"
    },
    {
     "data": {
      "image/png": "[encoded data removed]",
      "text/plain": [
       "<Figure size 432x288 with 1 Axes>"
      ]
     },
     "metadata": {
      "needs_background": "light"
     },
     "output_type": "display_data"
    }
   ],
   "source": [
    "xVals = [1, 2, 3, 4]\n",
    "yVals1 = [1, 2, 3, 4]\n",
    "pylab.plot(xVals, yVals1, 'b-', label = 'first')\n",
    "yVals2 = [1, 7, 3, 5]\n",
    "pylab.plot(xVals, yVals2, 'r--', label = 'second')\n",
    "pylab.legend()"
   ]
  },
  {
   "cell_type": "code",
   "execution_count": null,
   "metadata": {},
   "outputs": [],
   "source": []
  }
 ],
 "metadata": {
  "kernelspec": {
   "display_name": "Python 3",
   "language": "python",
   "name": "python3"
  },
  "language_info": {
   "codemirror_mode": {
    "name": "ipython",
    "version": 3
   },
   "file_extension": ".py",
   "mimetype": "text/x-python",
   "name": "python",
   "nbconvert_exporter": "python",
   "pygments_lexer": "ipython3",
   "version": "3.7.1"
  }
 },
 "nbformat": 4,
 "nbformat_minor": 2
}
