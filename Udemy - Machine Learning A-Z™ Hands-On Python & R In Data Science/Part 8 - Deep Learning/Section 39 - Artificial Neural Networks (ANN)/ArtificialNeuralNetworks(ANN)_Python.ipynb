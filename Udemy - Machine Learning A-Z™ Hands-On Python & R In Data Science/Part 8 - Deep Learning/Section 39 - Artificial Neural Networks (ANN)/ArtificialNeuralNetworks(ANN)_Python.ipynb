{
 "cells": [
  {
   "cell_type": "code",
   "execution_count": 1,
   "metadata": {},
   "outputs": [
    {
     "name": "stderr",
     "output_type": "stream",
     "text": [
      "Using TensorFlow backend.\n"
     ]
    }
   ],
   "source": [
    "from keras.models import Sequential\n"
   ]
  },
  {
   "cell_type": "code",
   "execution_count": 2,
   "metadata": {},
   "outputs": [],
   "source": [
    "# Classification template\n",
    "\n",
    "# Importing the libraries\n",
    "import numpy as np\n",
    "import matplotlib.pyplot as plt\n",
    "import pandas as pd\n",
    "\n"
   ]
  },
  {
   "cell_type": "code",
   "execution_count": 3,
   "metadata": {},
   "outputs": [],
   "source": [
    "# Importing the dataset\n",
    "dataset = pd.read_csv('Churn_Modelling.csv')\n",
    "\n"
   ]
  },
  {
   "cell_type": "code",
   "execution_count": 4,
   "metadata": {},
   "outputs": [
    {
     "data": {
      "text/html": [
       "<div>\n",
       "<style scoped>\n",
       "    .dataframe tbody tr th:only-of-type {\n",
       "        vertical-align: middle;\n",
       "    }\n",
       "\n",
       "    .dataframe tbody tr th {\n",
       "        vertical-align: top;\n",
       "    }\n",
       "\n",
       "    .dataframe thead th {\n",
       "        text-align: right;\n",
       "    }\n",
       "</style>\n",
       "<table border=\"1\" class=\"dataframe\">\n",
       "  <thead>\n",
       "    <tr style=\"text-align: right;\">\n",
       "      <th></th>\n",
       "      <th>RowNumber</th>\n",
       "      <th>CustomerId</th>\n",
       "      <th>Surname</th>\n",
       "      <th>CreditScore</th>\n",
       "      <th>Geography</th>\n",
       "      <th>Gender</th>\n",
       "      <th>Age</th>\n",
       "      <th>Tenure</th>\n",
       "      <th>Balance</th>\n",
       "      <th>NumOfProducts</th>\n",
       "      <th>HasCrCard</th>\n",
       "      <th>IsActiveMember</th>\n",
       "      <th>EstimatedSalary</th>\n",
       "      <th>Exited</th>\n",
       "    </tr>\n",
       "  </thead>\n",
       "  <tbody>\n",
       "    <tr>\n",
       "      <th>0</th>\n",
       "      <td>1</td>\n",
       "      <td>15634602</td>\n",
       "      <td>Hargrave</td>\n",
       "      <td>619</td>\n",
       "      <td>France</td>\n",
       "      <td>Female</td>\n",
       "      <td>42</td>\n",
       "      <td>2</td>\n",
       "      <td>0.00</td>\n",
       "      <td>1</td>\n",
       "      <td>1</td>\n",
       "      <td>1</td>\n",
       "      <td>101348.88</td>\n",
       "      <td>1</td>\n",
       "    </tr>\n",
       "    <tr>\n",
       "      <th>1</th>\n",
       "      <td>2</td>\n",
       "      <td>15647311</td>\n",
       "      <td>Hill</td>\n",
       "      <td>608</td>\n",
       "      <td>Spain</td>\n",
       "      <td>Female</td>\n",
       "      <td>41</td>\n",
       "      <td>1</td>\n",
       "      <td>83807.86</td>\n",
       "      <td>1</td>\n",
       "      <td>0</td>\n",
       "      <td>1</td>\n",
       "      <td>112542.58</td>\n",
       "      <td>0</td>\n",
       "    </tr>\n",
       "    <tr>\n",
       "      <th>2</th>\n",
       "      <td>3</td>\n",
       "      <td>15619304</td>\n",
       "      <td>Onio</td>\n",
       "      <td>502</td>\n",
       "      <td>France</td>\n",
       "      <td>Female</td>\n",
       "      <td>42</td>\n",
       "      <td>8</td>\n",
       "      <td>159660.80</td>\n",
       "      <td>3</td>\n",
       "      <td>1</td>\n",
       "      <td>0</td>\n",
       "      <td>113931.57</td>\n",
       "      <td>1</td>\n",
       "    </tr>\n",
       "    <tr>\n",
       "      <th>3</th>\n",
       "      <td>4</td>\n",
       "      <td>15701354</td>\n",
       "      <td>Boni</td>\n",
       "      <td>699</td>\n",
       "      <td>France</td>\n",
       "      <td>Female</td>\n",
       "      <td>39</td>\n",
       "      <td>1</td>\n",
       "      <td>0.00</td>\n",
       "      <td>2</td>\n",
       "      <td>0</td>\n",
       "      <td>0</td>\n",
       "      <td>93826.63</td>\n",
       "      <td>0</td>\n",
       "    </tr>\n",
       "    <tr>\n",
       "      <th>4</th>\n",
       "      <td>5</td>\n",
       "      <td>15737888</td>\n",
       "      <td>Mitchell</td>\n",
       "      <td>850</td>\n",
       "      <td>Spain</td>\n",
       "      <td>Female</td>\n",
       "      <td>43</td>\n",
       "      <td>2</td>\n",
       "      <td>125510.82</td>\n",
       "      <td>1</td>\n",
       "      <td>1</td>\n",
       "      <td>1</td>\n",
       "      <td>79084.10</td>\n",
       "      <td>0</td>\n",
       "    </tr>\n",
       "    <tr>\n",
       "      <th>5</th>\n",
       "      <td>6</td>\n",
       "      <td>15574012</td>\n",
       "      <td>Chu</td>\n",
       "      <td>645</td>\n",
       "      <td>Spain</td>\n",
       "      <td>Male</td>\n",
       "      <td>44</td>\n",
       "      <td>8</td>\n",
       "      <td>113755.78</td>\n",
       "      <td>2</td>\n",
       "      <td>1</td>\n",
       "      <td>0</td>\n",
       "      <td>149756.71</td>\n",
       "      <td>1</td>\n",
       "    </tr>\n",
       "    <tr>\n",
       "      <th>6</th>\n",
       "      <td>7</td>\n",
       "      <td>15592531</td>\n",
       "      <td>Bartlett</td>\n",
       "      <td>822</td>\n",
       "      <td>France</td>\n",
       "      <td>Male</td>\n",
       "      <td>50</td>\n",
       "      <td>7</td>\n",
       "      <td>0.00</td>\n",
       "      <td>2</td>\n",
       "      <td>1</td>\n",
       "      <td>1</td>\n",
       "      <td>10062.80</td>\n",
       "      <td>0</td>\n",
       "    </tr>\n",
       "    <tr>\n",
       "      <th>7</th>\n",
       "      <td>8</td>\n",
       "      <td>15656148</td>\n",
       "      <td>Obinna</td>\n",
       "      <td>376</td>\n",
       "      <td>Germany</td>\n",
       "      <td>Female</td>\n",
       "      <td>29</td>\n",
       "      <td>4</td>\n",
       "      <td>115046.74</td>\n",
       "      <td>4</td>\n",
       "      <td>1</td>\n",
       "      <td>0</td>\n",
       "      <td>119346.88</td>\n",
       "      <td>1</td>\n",
       "    </tr>\n",
       "    <tr>\n",
       "      <th>8</th>\n",
       "      <td>9</td>\n",
       "      <td>15792365</td>\n",
       "      <td>He</td>\n",
       "      <td>501</td>\n",
       "      <td>France</td>\n",
       "      <td>Male</td>\n",
       "      <td>44</td>\n",
       "      <td>4</td>\n",
       "      <td>142051.07</td>\n",
       "      <td>2</td>\n",
       "      <td>0</td>\n",
       "      <td>1</td>\n",
       "      <td>74940.50</td>\n",
       "      <td>0</td>\n",
       "    </tr>\n",
       "    <tr>\n",
       "      <th>9</th>\n",
       "      <td>10</td>\n",
       "      <td>15592389</td>\n",
       "      <td>H?</td>\n",
       "      <td>684</td>\n",
       "      <td>France</td>\n",
       "      <td>Male</td>\n",
       "      <td>27</td>\n",
       "      <td>2</td>\n",
       "      <td>134603.88</td>\n",
       "      <td>1</td>\n",
       "      <td>1</td>\n",
       "      <td>1</td>\n",
       "      <td>71725.73</td>\n",
       "      <td>0</td>\n",
       "    </tr>\n",
       "    <tr>\n",
       "      <th>10</th>\n",
       "      <td>11</td>\n",
       "      <td>15767821</td>\n",
       "      <td>Bearce</td>\n",
       "      <td>528</td>\n",
       "      <td>France</td>\n",
       "      <td>Male</td>\n",
       "      <td>31</td>\n",
       "      <td>6</td>\n",
       "      <td>102016.72</td>\n",
       "      <td>2</td>\n",
       "      <td>0</td>\n",
       "      <td>0</td>\n",
       "      <td>80181.12</td>\n",
       "      <td>0</td>\n",
       "    </tr>\n",
       "    <tr>\n",
       "      <th>11</th>\n",
       "      <td>12</td>\n",
       "      <td>15737173</td>\n",
       "      <td>Andrews</td>\n",
       "      <td>497</td>\n",
       "      <td>Spain</td>\n",
       "      <td>Male</td>\n",
       "      <td>24</td>\n",
       "      <td>3</td>\n",
       "      <td>0.00</td>\n",
       "      <td>2</td>\n",
       "      <td>1</td>\n",
       "      <td>0</td>\n",
       "      <td>76390.01</td>\n",
       "      <td>0</td>\n",
       "    </tr>\n",
       "    <tr>\n",
       "      <th>12</th>\n",
       "      <td>13</td>\n",
       "      <td>15632264</td>\n",
       "      <td>Kay</td>\n",
       "      <td>476</td>\n",
       "      <td>France</td>\n",
       "      <td>Female</td>\n",
       "      <td>34</td>\n",
       "      <td>10</td>\n",
       "      <td>0.00</td>\n",
       "      <td>2</td>\n",
       "      <td>1</td>\n",
       "      <td>0</td>\n",
       "      <td>26260.98</td>\n",
       "      <td>0</td>\n",
       "    </tr>\n",
       "    <tr>\n",
       "      <th>13</th>\n",
       "      <td>14</td>\n",
       "      <td>15691483</td>\n",
       "      <td>Chin</td>\n",
       "      <td>549</td>\n",
       "      <td>France</td>\n",
       "      <td>Female</td>\n",
       "      <td>25</td>\n",
       "      <td>5</td>\n",
       "      <td>0.00</td>\n",
       "      <td>2</td>\n",
       "      <td>0</td>\n",
       "      <td>0</td>\n",
       "      <td>190857.79</td>\n",
       "      <td>0</td>\n",
       "    </tr>\n",
       "    <tr>\n",
       "      <th>14</th>\n",
       "      <td>15</td>\n",
       "      <td>15600882</td>\n",
       "      <td>Scott</td>\n",
       "      <td>635</td>\n",
       "      <td>Spain</td>\n",
       "      <td>Female</td>\n",
       "      <td>35</td>\n",
       "      <td>7</td>\n",
       "      <td>0.00</td>\n",
       "      <td>2</td>\n",
       "      <td>1</td>\n",
       "      <td>1</td>\n",
       "      <td>65951.65</td>\n",
       "      <td>0</td>\n",
       "    </tr>\n",
       "  </tbody>\n",
       "</table>\n",
       "</div>"
      ],
      "text/plain": [
       "    RowNumber  CustomerId   Surname  CreditScore Geography  Gender  Age  \\\n",
       "0           1    15634602  Hargrave          619    France  Female   42   \n",
       "1           2    15647311      Hill          608     Spain  Female   41   \n",
       "2           3    15619304      Onio          502    France  Female   42   \n",
       "3           4    15701354      Boni          699    France  Female   39   \n",
       "4           5    15737888  Mitchell          850     Spain  Female   43   \n",
       "5           6    15574012       Chu          645     Spain    Male   44   \n",
       "6           7    15592531  Bartlett          822    France    Male   50   \n",
       "7           8    15656148    Obinna          376   Germany  Female   29   \n",
       "8           9    15792365        He          501    France    Male   44   \n",
       "9          10    15592389        H?          684    France    Male   27   \n",
       "10         11    15767821    Bearce          528    France    Male   31   \n",
       "11         12    15737173   Andrews          497     Spain    Male   24   \n",
       "12         13    15632264       Kay          476    France  Female   34   \n",
       "13         14    15691483      Chin          549    France  Female   25   \n",
       "14         15    15600882     Scott          635     Spain  Female   35   \n",
       "\n",
       "    Tenure    Balance  NumOfProducts  HasCrCard  IsActiveMember  \\\n",
       "0        2       0.00              1          1               1   \n",
       "1        1   83807.86              1          0               1   \n",
       "2        8  159660.80              3          1               0   \n",
       "3        1       0.00              2          0               0   \n",
       "4        2  125510.82              1          1               1   \n",
       "5        8  113755.78              2          1               0   \n",
       "6        7       0.00              2          1               1   \n",
       "7        4  115046.74              4          1               0   \n",
       "8        4  142051.07              2          0               1   \n",
       "9        2  134603.88              1          1               1   \n",
       "10       6  102016.72              2          0               0   \n",
       "11       3       0.00              2          1               0   \n",
       "12      10       0.00              2          1               0   \n",
       "13       5       0.00              2          0               0   \n",
       "14       7       0.00              2          1               1   \n",
       "\n",
       "    EstimatedSalary  Exited  \n",
       "0         101348.88       1  \n",
       "1         112542.58       0  \n",
       "2         113931.57       1  \n",
       "3          93826.63       0  \n",
       "4          79084.10       0  \n",
       "5         149756.71       1  \n",
       "6          10062.80       0  \n",
       "7         119346.88       1  \n",
       "8          74940.50       0  \n",
       "9          71725.73       0  \n",
       "10         80181.12       0  \n",
       "11         76390.01       0  \n",
       "12         26260.98       0  \n",
       "13        190857.79       0  \n",
       "14         65951.65       0  "
      ]
     },
     "execution_count": 4,
     "metadata": {},
     "output_type": "execute_result"
    }
   ],
   "source": [
    "dataset.head(15)"
   ]
  },
  {
   "cell_type": "code",
   "execution_count": 5,
   "metadata": {},
   "outputs": [],
   "source": [
    "X = dataset.iloc[:, 3:13 ].values\n"
   ]
  },
  {
   "cell_type": "code",
   "execution_count": 6,
   "metadata": {},
   "outputs": [],
   "source": [
    "y = dataset.iloc[:, 13].values\n"
   ]
  },
  {
   "cell_type": "code",
   "execution_count": 7,
   "metadata": {},
   "outputs": [
    {
     "data": {
      "text/plain": [
       "array([[619, 'France', 'Female', ..., 1, 1, 101348.88],\n",
       "       [608, 'Spain', 'Female', ..., 0, 1, 112542.58],\n",
       "       [502, 'France', 'Female', ..., 1, 0, 113931.57],\n",
       "       ...,\n",
       "       [709, 'France', 'Female', ..., 0, 1, 42085.58],\n",
       "       [772, 'Germany', 'Male', ..., 1, 0, 92888.52],\n",
       "       [792, 'France', 'Female', ..., 1, 0, 38190.78]], dtype=object)"
      ]
     },
     "execution_count": 7,
     "metadata": {},
     "output_type": "execute_result"
    }
   ],
   "source": [
    "X"
   ]
  },
  {
   "cell_type": "code",
   "execution_count": 8,
   "metadata": {},
   "outputs": [
    {
     "data": {
      "text/plain": [
       "array([1, 0, 1, ..., 1, 1, 0], dtype=int64)"
      ]
     },
     "execution_count": 8,
     "metadata": {},
     "output_type": "execute_result"
    }
   ],
   "source": [
    "y"
   ]
  },
  {
   "cell_type": "code",
   "execution_count": 9,
   "metadata": {},
   "outputs": [
    {
     "name": "stderr",
     "output_type": "stream",
     "text": [
      "C:\\ProgramData\\Anaconda3\\lib\\site-packages\\sklearn\\preprocessing\\_encoders.py:368: FutureWarning: The handling of integer data will change in version 0.22. Currently, the categories are determined based on the range [0, max(values)], while in the future they will be determined based on the unique values.\n",
      "If you want the future behaviour and silence this warning, you can specify \"categories='auto'\".\n",
      "In case you used a LabelEncoder before this OneHotEncoder to convert the categories to integers, then you can now use the OneHotEncoder directly.\n",
      "  warnings.warn(msg, FutureWarning)\n",
      "C:\\ProgramData\\Anaconda3\\lib\\site-packages\\sklearn\\preprocessing\\_encoders.py:390: DeprecationWarning: The 'categorical_features' keyword is deprecated in version 0.20 and will be removed in 0.22. You can use the ColumnTransformer instead.\n",
      "  \"use the ColumnTransformer instead.\", DeprecationWarning)\n"
     ]
    }
   ],
   "source": [
    "# Encoding categorical data\n",
    "from sklearn.preprocessing import LabelEncoder, OneHotEncoder\n",
    "labelencoder_X_1 = LabelEncoder()\n",
    "X[:, 1] = labelencoder_X_1.fit_transform(X[:, 1])\n",
    "labelencoder_X_2 = LabelEncoder()\n",
    "X[:, 2] = labelencoder_X_2.fit_transform(X[:, 2])\n",
    "onehotencoder = OneHotEncoder(categorical_features = [1])\n",
    "X = onehotencoder.fit_transform(X).toarray()\n",
    "X = X[:, 1:]"
   ]
  },
  {
   "cell_type": "code",
   "execution_count": 10,
   "metadata": {},
   "outputs": [
    {
     "data": {
      "text/plain": [
       "array([[0.0000000e+00, 0.0000000e+00, 6.1900000e+02, ..., 1.0000000e+00,\n",
       "        1.0000000e+00, 1.0134888e+05],\n",
       "       [0.0000000e+00, 1.0000000e+00, 6.0800000e+02, ..., 0.0000000e+00,\n",
       "        1.0000000e+00, 1.1254258e+05],\n",
       "       [0.0000000e+00, 0.0000000e+00, 5.0200000e+02, ..., 1.0000000e+00,\n",
       "        0.0000000e+00, 1.1393157e+05],\n",
       "       ...,\n",
       "       [0.0000000e+00, 0.0000000e+00, 7.0900000e+02, ..., 0.0000000e+00,\n",
       "        1.0000000e+00, 4.2085580e+04],\n",
       "       [1.0000000e+00, 0.0000000e+00, 7.7200000e+02, ..., 1.0000000e+00,\n",
       "        0.0000000e+00, 9.2888520e+04],\n",
       "       [0.0000000e+00, 0.0000000e+00, 7.9200000e+02, ..., 1.0000000e+00,\n",
       "        0.0000000e+00, 3.8190780e+04]])"
      ]
     },
     "execution_count": 10,
     "metadata": {},
     "output_type": "execute_result"
    }
   ],
   "source": [
    "X"
   ]
  },
  {
   "cell_type": "code",
   "execution_count": 11,
   "metadata": {},
   "outputs": [],
   "source": [
    "# Splitting the dataset into the Training set and Test set\n",
    "from sklearn.model_selection import train_test_split \n",
    "X_train, X_test, y_train, y_test = train_test_split(X, y, test_size = 0.20, random_state = 0)"
   ]
  },
  {
   "cell_type": "code",
   "execution_count": 12,
   "metadata": {},
   "outputs": [],
   "source": [
    "# Feature Scaling\n",
    "from sklearn.preprocessing import StandardScaler\n",
    "sc = StandardScaler()\n",
    "X_train = sc.fit_transform(X_train)\n",
    "X_test = sc.transform(X_test)\n",
    "\n"
   ]
  },
  {
   "cell_type": "code",
   "execution_count": 14,
   "metadata": {},
   "outputs": [],
   "source": [
    "import keras\n",
    "from keras.models import Sequential\n",
    "from keras.layers import Dense"
   ]
  },
  {
   "cell_type": "code",
   "execution_count": 15,
   "metadata": {},
   "outputs": [],
   "source": [
    "# ANN\n",
    "classifier = Sequential()\n"
   ]
  },
  {
   "cell_type": "code",
   "execution_count": 16,
   "metadata": {},
   "outputs": [
    {
     "name": "stderr",
     "output_type": "stream",
     "text": [
      "C:\\ProgramData\\Anaconda3\\lib\\site-packages\\ipykernel_launcher.py:1: UserWarning: Update your `Dense` call to the Keras 2 API: `Dense(activation=\"relu\", input_dim=11, units=6, kernel_initializer=\"uniform\")`\n",
      "  \"\"\"Entry point for launching an IPython kernel.\n"
     ]
    },
    {
     "name": "stdout",
     "output_type": "stream",
     "text": [
      "WARNING:tensorflow:From C:\\ProgramData\\Anaconda3\\lib\\site-packages\\tensorflow\\python\\framework\\op_def_library.py:263: colocate_with (from tensorflow.python.framework.ops) is deprecated and will be removed in a future version.\n",
      "Instructions for updating:\n",
      "Colocations handled automatically by placer.\n"
     ]
    }
   ],
   "source": [
    "classifier.add(Dense(output_dim = 6, init = 'uniform', activation = 'relu', input_dim = 11))"
   ]
  },
  {
   "cell_type": "code",
   "execution_count": 17,
   "metadata": {},
   "outputs": [
    {
     "name": "stderr",
     "output_type": "stream",
     "text": [
      "C:\\ProgramData\\Anaconda3\\lib\\site-packages\\ipykernel_launcher.py:2: UserWarning: Update your `Dense` call to the Keras 2 API: `Dense(activation=\"relu\", units=6, kernel_initializer=\"uniform\")`\n",
      "  \n"
     ]
    }
   ],
   "source": [
    "# Addind second hidden layer\n",
    "classifier.add(Dense(output_dim = 6, init = 'uniform', activation = 'relu'))"
   ]
  },
  {
   "cell_type": "code",
   "execution_count": 18,
   "metadata": {},
   "outputs": [
    {
     "name": "stderr",
     "output_type": "stream",
     "text": [
      "C:\\ProgramData\\Anaconda3\\lib\\site-packages\\ipykernel_launcher.py:1: UserWarning: Update your `Dense` call to the Keras 2 API: `Dense(activation=\"sigmoid\", units=1, kernel_initializer=\"uniform\")`\n",
      "  \"\"\"Entry point for launching an IPython kernel.\n"
     ]
    }
   ],
   "source": [
    "classifier.add(Dense(output_dim = 1, init = 'uniform', activation = 'sigmoid'))"
   ]
  },
  {
   "cell_type": "code",
   "execution_count": 19,
   "metadata": {},
   "outputs": [],
   "source": [
    "classifier.compile(optimizer = 'adam', loss = 'binary_crossentropy', metrics = ['accuracy'])"
   ]
  },
  {
   "cell_type": "code",
   "execution_count": 20,
   "metadata": {},
   "outputs": [
    {
     "name": "stderr",
     "output_type": "stream",
     "text": [
      "C:\\ProgramData\\Anaconda3\\lib\\site-packages\\ipykernel_launcher.py:1: UserWarning: The `nb_epoch` argument in `fit` has been renamed `epochs`.\n",
      "  \"\"\"Entry point for launching an IPython kernel.\n"
     ]
    },
    {
     "name": "stdout",
     "output_type": "stream",
     "text": [
      "WARNING:tensorflow:From C:\\ProgramData\\Anaconda3\\lib\\site-packages\\tensorflow\\python\\ops\\math_ops.py:3066: to_int32 (from tensorflow.python.ops.math_ops) is deprecated and will be removed in a future version.\n",
      "Instructions for updating:\n",
      "Use tf.cast instead.\n",
      "Epoch 1/100\n",
      "8000/8000 [==============================] - 7s 875us/step - loss: 0.5082 - acc: 0.7954\n",
      "Epoch 2/100\n",
      "8000/8000 [==============================] - 2s 264us/step - loss: 0.4262 - acc: 0.7960\n",
      "Epoch 3/100\n",
      "8000/8000 [==============================] - 2s 248us/step - loss: 0.4191 - acc: 0.7960\n",
      "Epoch 4/100\n",
      "8000/8000 [==============================] - 2s 247us/step - loss: 0.4113 - acc: 0.7972\n",
      "Epoch 5/100\n",
      "8000/8000 [==============================] - 2s 253us/step - loss: 0.4037 - acc: 0.8279\n",
      "Epoch 6/100\n",
      "8000/8000 [==============================] - 2s 255us/step - loss: 0.3963 - acc: 0.8294\n",
      "Epoch 7/100\n",
      "8000/8000 [==============================] - 2s 253us/step - loss: 0.3893 - acc: 0.8300\n",
      "Epoch 8/100\n",
      "8000/8000 [==============================] - 2s 256us/step - loss: 0.3838 - acc: 0.8351\n",
      "Epoch 9/100\n",
      "8000/8000 [==============================] - 2s 259us/step - loss: 0.3792 - acc: 0.8429\n",
      "Epoch 10/100\n",
      "8000/8000 [==============================] - 2s 255us/step - loss: 0.3754 - acc: 0.8446\n",
      "Epoch 11/100\n",
      "8000/8000 [==============================] - 2s 255us/step - loss: 0.3723 - acc: 0.8476\n",
      "Epoch 12/100\n",
      "8000/8000 [==============================] - 2s 249us/step - loss: 0.3690 - acc: 0.8490\n",
      "Epoch 13/100\n",
      "8000/8000 [==============================] - 2s 254us/step - loss: 0.3666 - acc: 0.8521\n",
      "Epoch 14/100\n",
      "8000/8000 [==============================] - 2s 258us/step - loss: 0.3651 - acc: 0.8521\n",
      "Epoch 15/100\n",
      "8000/8000 [==============================] - 2s 253us/step - loss: 0.3626 - acc: 0.8521\n",
      "Epoch 16/100\n",
      "8000/8000 [==============================] - 2s 254us/step - loss: 0.3616 - acc: 0.8535\n",
      "Epoch 17/100\n",
      "8000/8000 [==============================] - 2s 252us/step - loss: 0.3599 - acc: 0.8531\n",
      "Epoch 18/100\n",
      "8000/8000 [==============================] - 2s 258us/step - loss: 0.3593 - acc: 0.8540\n",
      "Epoch 19/100\n",
      "8000/8000 [==============================] - 2s 264us/step - loss: 0.3580 - acc: 0.8525\n",
      "Epoch 20/100\n",
      "8000/8000 [==============================] - 2s 270us/step - loss: 0.3565 - acc: 0.8549\n",
      "Epoch 21/100\n",
      "8000/8000 [==============================] - 2s 257us/step - loss: 0.3558 - acc: 0.8552\n",
      "Epoch 22/100\n",
      "8000/8000 [==============================] - 2s 260us/step - loss: 0.3555 - acc: 0.8559\n",
      "Epoch 23/100\n",
      "8000/8000 [==============================] - 2s 258us/step - loss: 0.3549 - acc: 0.8555\n",
      "Epoch 24/100\n",
      "8000/8000 [==============================] - 2s 262us/step - loss: 0.3543 - acc: 0.8570\n",
      "Epoch 25/100\n",
      "8000/8000 [==============================] - 2s 282us/step - loss: 0.3530 - acc: 0.8565\n",
      "Epoch 26/100\n",
      "8000/8000 [==============================] - 2s 265us/step - loss: 0.3528 - acc: 0.8570\n",
      "Epoch 27/100\n",
      "8000/8000 [==============================] - 2s 265us/step - loss: 0.3519 - acc: 0.8564\n",
      "Epoch 28/100\n",
      "8000/8000 [==============================] - 2s 262us/step - loss: 0.3524 - acc: 0.8569\n",
      "Epoch 29/100\n",
      "8000/8000 [==============================] - 2s 260us/step - loss: 0.3522 - acc: 0.8572\n",
      "Epoch 30/100\n",
      "8000/8000 [==============================] - 2s 256us/step - loss: 0.3516 - acc: 0.8567\n",
      "Epoch 31/100\n",
      "8000/8000 [==============================] - 2s 259us/step - loss: 0.3508 - acc: 0.8575\n",
      "Epoch 32/100\n",
      "8000/8000 [==============================] - 2s 260us/step - loss: 0.3510 - acc: 0.8595\n",
      "Epoch 33/100\n",
      "8000/8000 [==============================] - 2s 273us/step - loss: 0.3504 - acc: 0.8565\n",
      "Epoch 34/100\n",
      "8000/8000 [==============================] - 2s 265us/step - loss: 0.3498 - acc: 0.8596\n",
      "Epoch 35/100\n",
      "8000/8000 [==============================] - 2s 263us/step - loss: 0.3494 - acc: 0.8585\n",
      "Epoch 36/100\n",
      "8000/8000 [==============================] - 2s 261us/step - loss: 0.3498 - acc: 0.8599\n",
      "Epoch 37/100\n",
      "8000/8000 [==============================] - 2s 261us/step - loss: 0.3500 - acc: 0.8590\n",
      "Epoch 38/100\n",
      "8000/8000 [==============================] - 2s 261us/step - loss: 0.3493 - acc: 0.8569\n",
      "Epoch 39/100\n",
      "8000/8000 [==============================] - 2s 292us/step - loss: 0.3495 - acc: 0.8579\n",
      "Epoch 40/100\n",
      "8000/8000 [==============================] - 2s 285us/step - loss: 0.3490 - acc: 0.8582\n",
      "Epoch 41/100\n",
      "8000/8000 [==============================] - 2s 270us/step - loss: 0.3489 - acc: 0.8592\n",
      "Epoch 42/100\n",
      "8000/8000 [==============================] - 2s 269us/step - loss: 0.3485 - acc: 0.8596\n",
      "Epoch 43/100\n",
      "8000/8000 [==============================] - 2s 270us/step - loss: 0.3481 - acc: 0.8587\n",
      "Epoch 44/100\n",
      "8000/8000 [==============================] - 2s 260us/step - loss: 0.3492 - acc: 0.8597\n",
      "Epoch 45/100\n",
      "8000/8000 [==============================] - 2s 255us/step - loss: 0.3481 - acc: 0.8589\n",
      "Epoch 46/100\n",
      "8000/8000 [==============================] - 2s 258us/step - loss: 0.3487 - acc: 0.8590\n",
      "Epoch 47/100\n",
      "8000/8000 [==============================] - 2s 261us/step - loss: 0.3481 - acc: 0.8585\n",
      "Epoch 48/100\n",
      "8000/8000 [==============================] - 2s 267us/step - loss: 0.3478 - acc: 0.8592\n",
      "Epoch 49/100\n",
      "8000/8000 [==============================] - 2s 259us/step - loss: 0.3474 - acc: 0.8582\n",
      "Epoch 50/100\n",
      "8000/8000 [==============================] - 2s 272us/step - loss: 0.3482 - acc: 0.8582\n",
      "Epoch 51/100\n",
      "8000/8000 [==============================] - 2s 268us/step - loss: 0.3481 - acc: 0.8580\n",
      "Epoch 52/100\n",
      "8000/8000 [==============================] - 2s 267us/step - loss: 0.3467 - acc: 0.8580\n",
      "Epoch 53/100\n",
      "8000/8000 [==============================] - 2s 261us/step - loss: 0.3477 - acc: 0.8599\n",
      "Epoch 54/100\n",
      "8000/8000 [==============================] - 2s 259us/step - loss: 0.3471 - acc: 0.8597\n",
      "Epoch 55/100\n",
      "8000/8000 [==============================] - 2s 259us/step - loss: 0.3468 - acc: 0.8589\n",
      "Epoch 56/100\n",
      "8000/8000 [==============================] - 2s 262us/step - loss: 0.3471 - acc: 0.8589\n",
      "Epoch 57/100\n",
      "8000/8000 [==============================] - 2s 259us/step - loss: 0.3479 - acc: 0.8591\n",
      "Epoch 58/100\n",
      "8000/8000 [==============================] - 2s 265us/step - loss: 0.3473 - acc: 0.8591\n",
      "Epoch 59/100\n",
      "8000/8000 [==============================] - 2s 262us/step - loss: 0.3472 - acc: 0.8586\n",
      "Epoch 60/100\n",
      "8000/8000 [==============================] - 2s 265us/step - loss: 0.3474 - acc: 0.8582\n",
      "Epoch 61/100\n",
      "8000/8000 [==============================] - 2s 267us/step - loss: 0.3469 - acc: 0.8559\n",
      "Epoch 62/100\n",
      "8000/8000 [==============================] - 2s 264us/step - loss: 0.3460 - acc: 0.8582\n",
      "Epoch 63/100\n",
      "8000/8000 [==============================] - 2s 260us/step - loss: 0.3470 - acc: 0.8592\n",
      "Epoch 64/100\n",
      "8000/8000 [==============================] - 2s 261us/step - loss: 0.3475 - acc: 0.8594\n",
      "Epoch 65/100\n",
      "8000/8000 [==============================] - 2s 263us/step - loss: 0.3472 - acc: 0.8589\n",
      "Epoch 66/100\n",
      "8000/8000 [==============================] - 2s 260us/step - loss: 0.3459 - acc: 0.8575\n",
      "Epoch 67/100\n",
      "8000/8000 [==============================] - 2s 264us/step - loss: 0.3469 - acc: 0.8597\n",
      "Epoch 68/100\n",
      "8000/8000 [==============================] - 2s 262us/step - loss: 0.3467 - acc: 0.8595\n",
      "Epoch 69/100\n",
      "8000/8000 [==============================] - 2s 260us/step - loss: 0.3459 - acc: 0.8584\n",
      "Epoch 70/100\n",
      "8000/8000 [==============================] - 2s 242us/step - loss: 0.3458 - acc: 0.8597\n",
      "Epoch 71/100\n",
      "8000/8000 [==============================] - 2s 280us/step - loss: 0.3461 - acc: 0.8599\n",
      "Epoch 72/100\n",
      "8000/8000 [==============================] - 2s 267us/step - loss: 0.3466 - acc: 0.8571\n",
      "Epoch 73/100\n",
      "8000/8000 [==============================] - 2s 270us/step - loss: 0.3469 - acc: 0.8562\n",
      "Epoch 74/100\n",
      "8000/8000 [==============================] - 2s 264us/step - loss: 0.3447 - acc: 0.8609\n",
      "Epoch 75/100\n",
      "8000/8000 [==============================] - 2s 270us/step - loss: 0.3461 - acc: 0.8580\n",
      "Epoch 76/100\n",
      "8000/8000 [==============================] - 2s 284us/step - loss: 0.3462 - acc: 0.8585\n",
      "Epoch 77/100\n",
      "8000/8000 [==============================] - 2s 275us/step - loss: 0.3464 - acc: 0.8587\n",
      "Epoch 78/100\n",
      "8000/8000 [==============================] - 2s 278us/step - loss: 0.3453 - acc: 0.8592\n",
      "Epoch 79/100\n"
     ]
    },
    {
     "name": "stdout",
     "output_type": "stream",
     "text": [
      "8000/8000 [==============================] - 2s 249us/step - loss: 0.3459 - acc: 0.8589\n",
      "Epoch 80/100\n",
      "8000/8000 [==============================] - 2s 242us/step - loss: 0.3463 - acc: 0.8577\n",
      "Epoch 81/100\n",
      "8000/8000 [==============================] - 2s 261us/step - loss: 0.3445 - acc: 0.8594\n",
      "Epoch 82/100\n",
      "8000/8000 [==============================] - 2s 266us/step - loss: 0.3458 - acc: 0.8580\n",
      "Epoch 83/100\n",
      "8000/8000 [==============================] - 2s 239us/step - loss: 0.3461 - acc: 0.8582\n",
      "Epoch 84/100\n",
      "8000/8000 [==============================] - 2s 240us/step - loss: 0.3449 - acc: 0.8601\n",
      "Epoch 85/100\n",
      "8000/8000 [==============================] - 2s 234us/step - loss: 0.3454 - acc: 0.8585\n",
      "Epoch 86/100\n",
      "8000/8000 [==============================] - 2s 242us/step - loss: 0.3457 - acc: 0.8595\n",
      "Epoch 87/100\n",
      "8000/8000 [==============================] - 2s 252us/step - loss: 0.3454 - acc: 0.8579\n",
      "Epoch 88/100\n",
      "8000/8000 [==============================] - 2s 251us/step - loss: 0.3452 - acc: 0.8580\n",
      "Epoch 89/100\n",
      "8000/8000 [==============================] - 2s 259us/step - loss: 0.3460 - acc: 0.8592\n",
      "Epoch 90/100\n",
      "8000/8000 [==============================] - 2s 254us/step - loss: 0.3455 - acc: 0.8602\n",
      "Epoch 91/100\n",
      "8000/8000 [==============================] - 2s 256us/step - loss: 0.3459 - acc: 0.8607\n",
      "Epoch 92/100\n",
      "8000/8000 [==============================] - 2s 256us/step - loss: 0.3458 - acc: 0.8601\n",
      "Epoch 93/100\n",
      "8000/8000 [==============================] - 2s 254us/step - loss: 0.3454 - acc: 0.8585\n",
      "Epoch 94/100\n",
      "8000/8000 [==============================] - 2s 254us/step - loss: 0.3457 - acc: 0.8587\n",
      "Epoch 95/100\n",
      "8000/8000 [==============================] - 2s 253us/step - loss: 0.3457 - acc: 0.8601\n",
      "Epoch 96/100\n",
      "8000/8000 [==============================] - 2s 251us/step - loss: 0.3443 - acc: 0.8590\n",
      "Epoch 97/100\n",
      "8000/8000 [==============================] - 2s 255us/step - loss: 0.3455 - acc: 0.8591\n",
      "Epoch 98/100\n",
      "8000/8000 [==============================] - 2s 256us/step - loss: 0.3453 - acc: 0.8590\n",
      "Epoch 99/100\n",
      "8000/8000 [==============================] - 2s 251us/step - loss: 0.3451 - acc: 0.8572\n",
      "Epoch 100/100\n",
      "8000/8000 [==============================] - 2s 256us/step - loss: 0.3453 - acc: 0.8611\n"
     ]
    },
    {
     "data": {
      "text/plain": [
       "<keras.callbacks.History at 0xf7c6eb8>"
      ]
     },
     "execution_count": 20,
     "metadata": {},
     "output_type": "execute_result"
    }
   ],
   "source": [
    "classifier.fit(X_train, y_train, batch_size = 10, nb_epoch = 100)"
   ]
  },
  {
   "cell_type": "code",
   "execution_count": 22,
   "metadata": {},
   "outputs": [],
   "source": [
    "# Predicting the Test set results\n",
    "y_pred = classifier.predict(X_test)\n",
    "y_pred = (y_pred >0.5)"
   ]
  },
  {
   "cell_type": "code",
   "execution_count": null,
   "metadata": {},
   "outputs": [],
   "source": []
  },
  {
   "cell_type": "code",
   "execution_count": 23,
   "metadata": {},
   "outputs": [],
   "source": [
    "# Making the Confusion Matrix\n",
    "from sklearn.metrics import confusion_matrix\n",
    "cm = confusion_matrix(y_test, y_pred)"
   ]
  },
  {
   "cell_type": "code",
   "execution_count": 24,
   "metadata": {},
   "outputs": [
    {
     "data": {
      "text/plain": [
       "array([[1487,  108],\n",
       "       [ 185,  220]], dtype=int64)"
      ]
     },
     "execution_count": 24,
     "metadata": {},
     "output_type": "execute_result"
    }
   ],
   "source": [
    "cm"
   ]
  },
  {
   "cell_type": "code",
   "execution_count": 25,
   "metadata": {},
   "outputs": [
    {
     "data": {
      "text/plain": [
       "0.8535"
      ]
     },
     "execution_count": 25,
     "metadata": {},
     "output_type": "execute_result"
    }
   ],
   "source": [
    "(1487+220)/(2000)"
   ]
  },
  {
   "cell_type": "code",
   "execution_count": null,
   "metadata": {},
   "outputs": [],
   "source": []
  }
 ],
 "metadata": {
  "kernelspec": {
   "display_name": "Python 3",
   "language": "python",
   "name": "python3"
  },
  "language_info": {
   "codemirror_mode": {
    "name": "ipython",
    "version": 3
   },
   "file_extension": ".py",
   "mimetype": "text/x-python",
   "name": "python",
   "nbconvert_exporter": "python",
   "pygments_lexer": "ipython3",
   "version": "3.7.1"
  }
 },
 "nbformat": 4,
 "nbformat_minor": 2
}
