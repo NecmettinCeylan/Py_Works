{
 "cells": [
  {
   "cell_type": "code",
   "execution_count": 24,
   "metadata": {},
   "outputs": [],
   "source": [
    "from random import randint"
   ]
  },
  {
   "cell_type": "code",
   "execution_count": 25,
   "metadata": {},
   "outputs": [
    {
     "data": {
      "text/plain": [
       "30"
      ]
     },
     "execution_count": 25,
     "metadata": {},
     "output_type": "execute_result"
    }
   ],
   "source": [
    "random = randint(1,100)\n",
    "random"
   ]
  },
  {
   "cell_type": "code",
   "execution_count": 26,
   "metadata": {},
   "outputs": [],
   "source": [
    "guess = int(0)"
   ]
  },
  {
   "cell_type": "code",
   "execution_count": 27,
   "metadata": {},
   "outputs": [
    {
     "name": "stdout",
     "output_type": "stream",
     "text": [
      "Enter Number between 1 and 100: 75\n"
     ]
    }
   ],
   "source": [
    "while guess>100 or guess<1 :\n",
    "    numb = input('Enter Number between 1 and 100: ')\n",
    "    guess = int(numb)\n",
    "    \n",
    "    pass"
   ]
  },
  {
   "cell_type": "code",
   "execution_count": 28,
   "metadata": {},
   "outputs": [],
   "source": [
    "guess_list =[guess]\n"
   ]
  },
  {
   "cell_type": "code",
   "execution_count": 29,
   "metadata": {},
   "outputs": [
    {
     "data": {
      "text/plain": [
       "[75]"
      ]
     },
     "execution_count": 29,
     "metadata": {},
     "output_type": "execute_result"
    }
   ],
   "source": [
    "guess_list"
   ]
  },
  {
   "cell_type": "code",
   "execution_count": 30,
   "metadata": {},
   "outputs": [
    {
     "name": "stdout",
     "output_type": "stream",
     "text": [
      "COLD!\n"
     ]
    }
   ],
   "source": [
    "if abs(guess-random) <= 10:\n",
    "        print(\"WARM!\")\n",
    "if abs(guess-random) >= 10:\n",
    "        print(\"COLD!\")"
   ]
  },
  {
   "cell_type": "code",
   "execution_count": 31,
   "metadata": {},
   "outputs": [
    {
     "name": "stdout",
     "output_type": "stream",
     "text": [
      "Enter Number between 1 and 100: 70\n",
      "WARMER!\n",
      "Enter Number between 1 and 100: 60\n",
      "WARMER!\n",
      "Enter Number between 1 and 100: 55\n",
      "WARMER!\n",
      "Enter Number between 1 and 100: 50\n",
      "WARMER!\n",
      "Enter Number between 1 and 100: 45\n",
      "WARMER!\n",
      "Enter Number between 1 and 100: 40\n",
      "WARMER!\n",
      "Enter Number between 1 and 100: 35\n",
      "WARMER!\n",
      "Enter Number between 1 and 100: 30\n",
      "30! You've guessed correctly and it took 9 guesses\n"
     ]
    }
   ],
   "source": [
    "while guess != random:\n",
    "    numb = input('Enter Number between 1 and 100: ')\n",
    "    guess_list.append(int(numb))\n",
    "    guess = int(numb)\n",
    "    if guess== random:\n",
    "        print(\"{}! You've guessed correctly and it took {} guesses\".format(guess,len(guess_list)))\n",
    "    elif abs(guess_list[-1]-random) < abs(guess_list[-2]-random):\n",
    "        print(\"WARMER!\")\n",
    "    else: \n",
    "        print(\"COLDER!\")\n",
    "        \n",
    "    pass\n"
   ]
  },
  {
   "cell_type": "code",
   "execution_count": 19,
   "metadata": {},
   "outputs": [
    {
     "name": "stdout",
     "output_type": "stream",
     "text": [
      "39! You've guessed correctly and it took 10 guesses\n"
     ]
    }
   ],
   "source": [
    "print(\"{}! You've guessed correctly and it took {} guesses\".format(guess,len(guess_list)))    \n"
   ]
  },
  {
   "cell_type": "code",
   "execution_count": 13,
   "metadata": {},
   "outputs": [
    {
     "data": {
      "text/plain": [
       "18"
      ]
     },
     "execution_count": 13,
     "metadata": {},
     "output_type": "execute_result"
    }
   ],
   "source": [
    "len(guess_list) "
   ]
  },
  {
   "cell_type": "code",
   "execution_count": null,
   "metadata": {},
   "outputs": [],
   "source": []
  }
 ],
 "metadata": {
  "kernelspec": {
   "display_name": "Python 3",
   "language": "python",
   "name": "python3"
  },
  "language_info": {
   "codemirror_mode": {
    "name": "ipython",
    "version": 3
   },
   "file_extension": ".py",
   "mimetype": "text/x-python",
   "name": "python",
   "nbconvert_exporter": "python",
   "pygments_lexer": "ipython3",
   "version": "3.7.1"
  }
 },
 "nbformat": 4,
 "nbformat_minor": 2
}
