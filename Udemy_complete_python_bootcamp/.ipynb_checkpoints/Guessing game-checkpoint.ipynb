{
 "cells": [
  {
   "cell_type": "code",
   "execution_count": 1,
   "metadata": {},
   "outputs": [],
   "source": [
    "from random import randint"
   ]
  },
  {
   "cell_type": "code",
   "execution_count": 2,
   "metadata": {},
   "outputs": [
    {
     "data": {
      "text/plain": [
       "60"
      ]
     },
     "execution_count": 2,
     "metadata": {},
     "output_type": "execute_result"
    }
   ],
   "source": [
    "random = randint(1,100)\n",
    "random"
   ]
  },
  {
   "cell_type": "code",
   "execution_count": 3,
   "metadata": {},
   "outputs": [],
   "source": [
    "guess = int(0)"
   ]
  },
  {
   "cell_type": "code",
   "execution_count": 4,
   "metadata": {},
   "outputs": [
    {
     "name": "stdout",
     "output_type": "stream",
     "text": [
      "Enter Number between 1 and 100: 23\n"
     ]
    }
   ],
   "source": [
    "while guess>100 or guess<1 :\n",
    "    numb = input('Enter Number between 1 and 100: ')\n",
    "    guess = int(numb)\n",
    "    \n",
    "    pass"
   ]
  },
  {
   "cell_type": "code",
   "execution_count": 5,
   "metadata": {},
   "outputs": [],
   "source": [
    "guess_list =[guess]\n"
   ]
  },
  {
   "cell_type": "code",
   "execution_count": 6,
   "metadata": {},
   "outputs": [
    {
     "data": {
      "text/plain": [
       "[23]"
      ]
     },
     "execution_count": 6,
     "metadata": {},
     "output_type": "execute_result"
    }
   ],
   "source": [
    "guess_list"
   ]
  },
  {
   "cell_type": "code",
   "execution_count": 7,
   "metadata": {},
   "outputs": [
    {
     "name": "stdout",
     "output_type": "stream",
     "text": [
      "COLD!\n"
     ]
    }
   ],
   "source": [
    "if abs(guess-random) <= 10:\n",
    "        print(\"WARM!\")\n",
    "if abs(guess-random) >= 10:\n",
    "        print(\"COLD!\")"
   ]
  },
  {
   "cell_type": "code",
   "execution_count": 9,
   "metadata": {},
   "outputs": [
    {
     "name": "stdout",
     "output_type": "stream",
     "text": [
      "Enter Number between 1 and 100: 45\n",
      "WARMER!\n",
      "Enter Number between 1 and 100: 50\n",
      "WARMER!\n",
      "Enter Number between 1 and 100: 55\n",
      "WARMER!\n",
      "Enter Number between 1 and 100: 60\n",
      "WARMER!\n"
     ]
    }
   ],
   "source": [
    "while guess != random:\n",
    "    numb = input('Enter Number between 1 and 100: ')\n",
    "    guess_list.append(int(numb))\n",
    "    guess = int(numb)\n",
    "    if guess== random:\n",
    "        print(guess+ \"You've guessed correctly and it took \"+ len(guess_list)+ \" guesses \")    \n",
    "    elif abs(guess_list[-1]-random) < abs(guess_list[-2]-random):\n",
    "        print(\"WARMER!\")\n",
    "    else: \n",
    "        print(\"COLDER!\")\n",
    "        \n",
    "    pass\n"
   ]
  },
  {
   "cell_type": "code",
   "execution_count": 11,
   "metadata": {},
   "outputs": [
    {
     "data": {
      "text/plain": [
       "[55, 50, 51, 50, 56, 58, 60, 50, 42, 40, 30, 20, 10, 15, 20, 21, 19, 18]"
      ]
     },
     "execution_count": 11,
     "metadata": {},
     "output_type": "execute_result"
    }
   ],
   "source": [
    "guess_list"
   ]
  },
  {
   "cell_type": "code",
   "execution_count": 13,
   "metadata": {},
   "outputs": [
    {
     "data": {
      "text/plain": [
       "18"
      ]
     },
     "execution_count": 13,
     "metadata": {},
     "output_type": "execute_result"
    }
   ],
   "source": [
    "len(guess_list) "
   ]
  },
  {
   "cell_type": "code",
   "execution_count": null,
   "metadata": {},
   "outputs": [],
   "source": []
  }
 ],
 "metadata": {
  "kernelspec": {
   "display_name": "Python 3",
   "language": "python",
   "name": "python3"
  },
  "language_info": {
   "codemirror_mode": {
    "name": "ipython",
    "version": 3
   },
   "file_extension": ".py",
   "mimetype": "text/x-python",
   "name": "python",
   "nbconvert_exporter": "python",
   "pygments_lexer": "ipython3",
   "version": "3.7.1"
  }
 },
 "nbformat": 4,
 "nbformat_minor": 2
}
