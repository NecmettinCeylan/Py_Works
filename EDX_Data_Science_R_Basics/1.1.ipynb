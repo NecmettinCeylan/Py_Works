{
 "cells": [
  {
   "cell_type": "code",
   "execution_count": null,
   "metadata": {},
   "outputs": [],
   "source": [
    "https://rafalab.github.io/dsbook/installing-r-rstudio.html"
   ]
  },
  {
   "cell_type": "code",
   "execution_count": 1,
   "metadata": {},
   "outputs": [
    {
     "name": "stdout",
     "output_type": "stream",
     "text": [
      "package 'dslabs' successfully unpacked and MD5 sums checked\n",
      "\n",
      "The downloaded binary packages are in\n",
      "\tC:\\Users\\qwe\\AppData\\Local\\Temp\\RtmpKM1SCi\\downloaded_packages\n"
     ]
    }
   ],
   "source": [
    "install.packages('dslabs')"
   ]
  },
  {
   "cell_type": "code",
   "execution_count": 2,
   "metadata": {},
   "outputs": [],
   "source": [
    "library(dslabs)"
   ]
  },
  {
   "cell_type": "code",
   "execution_count": 3,
   "metadata": {},
   "outputs": [
    {
     "ename": "ERROR",
     "evalue": "Error in eval(expr, envir, enclos): object 'x' not found\n",
     "output_type": "error",
     "traceback": [
      "Error in eval(expr, envir, enclos): object 'x' not found\nTraceback:\n"
     ]
    }
   ],
   "source": [
    "x"
   ]
  },
  {
   "cell_type": "code",
   "execution_count": 4,
   "metadata": {},
   "outputs": [
    {
     "data": {
      "text/html": [
       "0.618033988749895"
      ],
      "text/latex": [
       "0.618033988749895"
      ],
      "text/markdown": [
       "0.618033988749895"
      ],
      "text/plain": [
       "[1] 0.618034"
      ]
     },
     "metadata": {},
     "output_type": "display_data"
    },
    {
     "data": {
      "text/html": [
       "-1.61803398874989"
      ],
      "text/latex": [
       "-1.61803398874989"
      ],
      "text/markdown": [
       "-1.61803398874989"
      ],
      "text/plain": [
       "[1] -1.618034"
      ]
     },
     "metadata": {},
     "output_type": "display_data"
    }
   ],
   "source": [
    "# assigning values to variables\n",
    "a <- 1\n",
    "b <- 1\n",
    "c <- -1\n",
    "\n",
    "# solving the quadratic equation\n",
    "(-b + sqrt(b^2 - 4*a*c) ) / ( 2*a )\n",
    "(-b - sqrt(b^2 - 4*a*c) ) / ( 2*a )"
   ]
  },
  {
   "cell_type": "code",
   "execution_count": 8,
   "metadata": {},
   "outputs": [
    {
     "data": {
      "text/html": [
       "<ol class=list-inline>\n",
       "\t<li>'a'</li>\n",
       "\t<li>'b'</li>\n",
       "\t<li>'c'</li>\n",
       "</ol>\n"
      ],
      "text/latex": [
       "\\begin{enumerate*}\n",
       "\\item 'a'\n",
       "\\item 'b'\n",
       "\\item 'c'\n",
       "\\end{enumerate*}\n"
      ],
      "text/markdown": [
       "1. 'a'\n",
       "2. 'b'\n",
       "3. 'c'\n",
       "\n",
       "\n"
      ],
      "text/plain": [
       "[1] \"a\" \"b\" \"c\""
      ]
     },
     "metadata": {},
     "output_type": "display_data"
    }
   ],
   "source": [
    "ls()"
   ]
  },
  {
   "cell_type": "code",
   "execution_count": 9,
   "metadata": {},
   "outputs": [
    {
     "data": {
      "text/html": [
       "2.07944154167984"
      ],
      "text/latex": [
       "2.07944154167984"
      ],
      "text/markdown": [
       "2.07944154167984"
      ],
      "text/plain": [
       "[1] 2.079442"
      ]
     },
     "metadata": {},
     "output_type": "display_data"
    }
   ],
   "source": [
    "log(8)"
   ]
  },
  {
   "cell_type": "code",
   "execution_count": 10,
   "metadata": {},
   "outputs": [
    {
     "data": {
      "text/html": [
       "2.71828182845905"
      ],
      "text/latex": [
       "2.71828182845905"
      ],
      "text/markdown": [
       "2.71828182845905"
      ],
      "text/plain": [
       "[1] 2.718282"
      ]
     },
     "metadata": {},
     "output_type": "display_data"
    }
   ],
   "source": [
    "exp( 1 )"
   ]
  },
  {
   "cell_type": "code",
   "execution_count": 11,
   "metadata": {},
   "outputs": [
    {
     "data": {
      "text/html": [
       "0"
      ],
      "text/latex": [
       "0"
      ],
      "text/markdown": [
       "0"
      ],
      "text/plain": [
       "[1] 0"
      ]
     },
     "metadata": {},
     "output_type": "display_data"
    }
   ],
   "source": [
    "log(1)"
   ]
  },
  {
   "cell_type": "code",
   "execution_count": 12,
   "metadata": {},
   "outputs": [
    {
     "data": {
      "text/html": [
       "1"
      ],
      "text/latex": [
       "1"
      ],
      "text/markdown": [
       "1"
      ],
      "text/plain": [
       "[1] 1"
      ]
     },
     "metadata": {},
     "output_type": "display_data"
    }
   ],
   "source": [
    "log(exp(1))"
   ]
  },
  {
   "cell_type": "code",
   "execution_count": 16,
   "metadata": {},
   "outputs": [],
   "source": [
    "help(\"log\")"
   ]
  },
  {
   "cell_type": "code",
   "execution_count": 17,
   "metadata": {},
   "outputs": [
    {
     "data": {
      "text/html": [
       "<pre class=language-r><code>function (x, base = exp(1)) \n",
       "NULL</code></pre>"
      ],
      "text/latex": [
       "\\begin{minted}{r}\n",
       "function (x, base = exp(1)) \n",
       "NULL\n",
       "\\end{minted}"
      ],
      "text/markdown": [
       "```r\n",
       "function (x, base = exp(1)) \n",
       "NULL\n",
       "```"
      ],
      "text/plain": [
       "function (x, base = exp(1)) \n",
       "NULL"
      ]
     },
     "metadata": {},
     "output_type": "display_data"
    }
   ],
   "source": [
    "args(log)"
   ]
  },
  {
   "cell_type": "code",
   "execution_count": 18,
   "metadata": {},
   "outputs": [
    {
     "data": {
      "text/html": [
       "3"
      ],
      "text/latex": [
       "3"
      ],
      "text/markdown": [
       "3"
      ],
      "text/plain": [
       "[1] 3"
      ]
     },
     "metadata": {},
     "output_type": "display_data"
    }
   ],
   "source": [
    "log(8, base=2)"
   ]
  },
  {
   "cell_type": "code",
   "execution_count": 19,
   "metadata": {},
   "outputs": [
    {
     "data": {
      "text/html": [
       "1.5"
      ],
      "text/latex": [
       "1.5"
      ],
      "text/markdown": [
       "1.5"
      ],
      "text/plain": [
       "[1] 1.5"
      ]
     },
     "metadata": {},
     "output_type": "display_data"
    }
   ],
   "source": [
    "log(8, 4)"
   ]
  },
  {
   "cell_type": "code",
   "execution_count": 20,
   "metadata": {},
   "outputs": [
    {
     "data": {
      "text/html": [
       "4"
      ],
      "text/latex": [
       "4"
      ],
      "text/markdown": [
       "4"
      ],
      "text/plain": [
       "[1] 4"
      ]
     },
     "metadata": {},
     "output_type": "display_data"
    }
   ],
   "source": [
    "2^2"
   ]
  },
  {
   "cell_type": "code",
   "execution_count": 21,
   "metadata": {},
   "outputs": [],
   "source": [
    "?'+'"
   ]
  },
  {
   "cell_type": "code",
   "execution_count": 24,
   "metadata": {},
   "outputs": [],
   "source": [
    "data()"
   ]
  },
  {
   "cell_type": "code",
   "execution_count": 26,
   "metadata": {
    "scrolled": true
   },
   "outputs": [
    {
     "data": {
      "text/html": [
       "<table>\n",
       "<thead><tr><th scope=col>Plant</th><th scope=col>Type</th><th scope=col>Treatment</th><th scope=col>conc</th><th scope=col>uptake</th></tr></thead>\n",
       "<tbody>\n",
       "\t<tr><td>Qn1       </td><td>Quebec    </td><td>nonchilled</td><td>  95      </td><td>16.0      </td></tr>\n",
       "\t<tr><td>Qn1       </td><td>Quebec    </td><td>nonchilled</td><td> 175      </td><td>30.4      </td></tr>\n",
       "\t<tr><td>Qn1       </td><td>Quebec    </td><td>nonchilled</td><td> 250      </td><td>34.8      </td></tr>\n",
       "\t<tr><td>Qn1       </td><td>Quebec    </td><td>nonchilled</td><td> 350      </td><td>37.2      </td></tr>\n",
       "\t<tr><td>Qn1       </td><td>Quebec    </td><td>nonchilled</td><td> 500      </td><td>35.3      </td></tr>\n",
       "\t<tr><td>Qn1       </td><td>Quebec    </td><td>nonchilled</td><td> 675      </td><td>39.2      </td></tr>\n",
       "\t<tr><td>Qn1       </td><td>Quebec    </td><td>nonchilled</td><td>1000      </td><td>39.7      </td></tr>\n",
       "\t<tr><td>Qn2       </td><td>Quebec    </td><td>nonchilled</td><td>  95      </td><td>13.6      </td></tr>\n",
       "\t<tr><td>Qn2       </td><td>Quebec    </td><td>nonchilled</td><td> 175      </td><td>27.3      </td></tr>\n",
       "\t<tr><td>Qn2       </td><td>Quebec    </td><td>nonchilled</td><td> 250      </td><td>37.1      </td></tr>\n",
       "\t<tr><td>Qn2       </td><td>Quebec    </td><td>nonchilled</td><td> 350      </td><td>41.8      </td></tr>\n",
       "\t<tr><td>Qn2       </td><td>Quebec    </td><td>nonchilled</td><td> 500      </td><td>40.6      </td></tr>\n",
       "\t<tr><td>Qn2       </td><td>Quebec    </td><td>nonchilled</td><td> 675      </td><td>41.4      </td></tr>\n",
       "\t<tr><td>Qn2       </td><td>Quebec    </td><td>nonchilled</td><td>1000      </td><td>44.3      </td></tr>\n",
       "\t<tr><td>Qn3       </td><td>Quebec    </td><td>nonchilled</td><td>  95      </td><td>16.2      </td></tr>\n",
       "\t<tr><td>Qn3       </td><td>Quebec    </td><td>nonchilled</td><td> 175      </td><td>32.4      </td></tr>\n",
       "\t<tr><td>Qn3       </td><td>Quebec    </td><td>nonchilled</td><td> 250      </td><td>40.3      </td></tr>\n",
       "\t<tr><td>Qn3       </td><td>Quebec    </td><td>nonchilled</td><td> 350      </td><td>42.1      </td></tr>\n",
       "\t<tr><td>Qn3       </td><td>Quebec    </td><td>nonchilled</td><td> 500      </td><td>42.9      </td></tr>\n",
       "\t<tr><td>Qn3       </td><td>Quebec    </td><td>nonchilled</td><td> 675      </td><td>43.9      </td></tr>\n",
       "\t<tr><td>Qn3       </td><td>Quebec    </td><td>nonchilled</td><td>1000      </td><td>45.5      </td></tr>\n",
       "\t<tr><td>Qc1       </td><td>Quebec    </td><td>chilled   </td><td>  95      </td><td>14.2      </td></tr>\n",
       "\t<tr><td>Qc1       </td><td>Quebec    </td><td>chilled   </td><td> 175      </td><td>24.1      </td></tr>\n",
       "\t<tr><td>Qc1       </td><td>Quebec    </td><td>chilled   </td><td> 250      </td><td>30.3      </td></tr>\n",
       "\t<tr><td>Qc1       </td><td>Quebec    </td><td>chilled   </td><td> 350      </td><td>34.6      </td></tr>\n",
       "\t<tr><td>Qc1       </td><td>Quebec    </td><td>chilled   </td><td> 500      </td><td>32.5      </td></tr>\n",
       "\t<tr><td>Qc1       </td><td>Quebec    </td><td>chilled   </td><td> 675      </td><td>35.4      </td></tr>\n",
       "\t<tr><td>Qc1       </td><td>Quebec    </td><td>chilled   </td><td>1000      </td><td>38.7      </td></tr>\n",
       "\t<tr><td>Qc2       </td><td>Quebec    </td><td>chilled   </td><td>  95      </td><td> 9.3      </td></tr>\n",
       "\t<tr><td>Qc2       </td><td>Quebec    </td><td>chilled   </td><td> 175      </td><td>27.3      </td></tr>\n",
       "\t<tr><td>...</td><td>...</td><td>...</td><td>...</td><td>...</td></tr>\n",
       "\t<tr><td>Mn2        </td><td>Mississippi</td><td>nonchilled </td><td> 675       </td><td>31.1       </td></tr>\n",
       "\t<tr><td>Mn2        </td><td>Mississippi</td><td>nonchilled </td><td>1000       </td><td>31.5       </td></tr>\n",
       "\t<tr><td>Mn3        </td><td>Mississippi</td><td>nonchilled </td><td>  95       </td><td>11.3       </td></tr>\n",
       "\t<tr><td>Mn3        </td><td>Mississippi</td><td>nonchilled </td><td> 175       </td><td>19.4       </td></tr>\n",
       "\t<tr><td>Mn3        </td><td>Mississippi</td><td>nonchilled </td><td> 250       </td><td>25.8       </td></tr>\n",
       "\t<tr><td>Mn3        </td><td>Mississippi</td><td>nonchilled </td><td> 350       </td><td>27.9       </td></tr>\n",
       "\t<tr><td>Mn3        </td><td>Mississippi</td><td>nonchilled </td><td> 500       </td><td>28.5       </td></tr>\n",
       "\t<tr><td>Mn3        </td><td>Mississippi</td><td>nonchilled </td><td> 675       </td><td>28.1       </td></tr>\n",
       "\t<tr><td>Mn3        </td><td>Mississippi</td><td>nonchilled </td><td>1000       </td><td>27.8       </td></tr>\n",
       "\t<tr><td>Mc1        </td><td>Mississippi</td><td>chilled    </td><td>  95       </td><td>10.5       </td></tr>\n",
       "\t<tr><td>Mc1        </td><td>Mississippi</td><td>chilled    </td><td> 175       </td><td>14.9       </td></tr>\n",
       "\t<tr><td>Mc1        </td><td>Mississippi</td><td>chilled    </td><td> 250       </td><td>18.1       </td></tr>\n",
       "\t<tr><td>Mc1        </td><td>Mississippi</td><td>chilled    </td><td> 350       </td><td>18.9       </td></tr>\n",
       "\t<tr><td>Mc1        </td><td>Mississippi</td><td>chilled    </td><td> 500       </td><td>19.5       </td></tr>\n",
       "\t<tr><td>Mc1        </td><td>Mississippi</td><td>chilled    </td><td> 675       </td><td>22.2       </td></tr>\n",
       "\t<tr><td>Mc1        </td><td>Mississippi</td><td>chilled    </td><td>1000       </td><td>21.9       </td></tr>\n",
       "\t<tr><td>Mc2        </td><td>Mississippi</td><td>chilled    </td><td>  95       </td><td> 7.7       </td></tr>\n",
       "\t<tr><td>Mc2        </td><td>Mississippi</td><td>chilled    </td><td> 175       </td><td>11.4       </td></tr>\n",
       "\t<tr><td>Mc2        </td><td>Mississippi</td><td>chilled    </td><td> 250       </td><td>12.3       </td></tr>\n",
       "\t<tr><td>Mc2        </td><td>Mississippi</td><td>chilled    </td><td> 350       </td><td>13.0       </td></tr>\n",
       "\t<tr><td>Mc2        </td><td>Mississippi</td><td>chilled    </td><td> 500       </td><td>12.5       </td></tr>\n",
       "\t<tr><td>Mc2        </td><td>Mississippi</td><td>chilled    </td><td> 675       </td><td>13.7       </td></tr>\n",
       "\t<tr><td>Mc2        </td><td>Mississippi</td><td>chilled    </td><td>1000       </td><td>14.4       </td></tr>\n",
       "\t<tr><td>Mc3        </td><td>Mississippi</td><td>chilled    </td><td>  95       </td><td>10.6       </td></tr>\n",
       "\t<tr><td>Mc3        </td><td>Mississippi</td><td>chilled    </td><td> 175       </td><td>18.0       </td></tr>\n",
       "\t<tr><td>Mc3        </td><td>Mississippi</td><td>chilled    </td><td> 250       </td><td>17.9       </td></tr>\n",
       "\t<tr><td>Mc3        </td><td>Mississippi</td><td>chilled    </td><td> 350       </td><td>17.9       </td></tr>\n",
       "\t<tr><td>Mc3        </td><td>Mississippi</td><td>chilled    </td><td> 500       </td><td>17.9       </td></tr>\n",
       "\t<tr><td>Mc3        </td><td>Mississippi</td><td>chilled    </td><td> 675       </td><td>18.9       </td></tr>\n",
       "\t<tr><td>Mc3        </td><td>Mississippi</td><td>chilled    </td><td>1000       </td><td>19.9       </td></tr>\n",
       "</tbody>\n",
       "</table>\n"
      ],
      "text/latex": [
       "\\begin{tabular}{r|lllll}\n",
       " Plant & Type & Treatment & conc & uptake\\\\\n",
       "\\hline\n",
       "\t Qn1        & Quebec     & nonchilled &   95       & 16.0      \\\\\n",
       "\t Qn1        & Quebec     & nonchilled &  175       & 30.4      \\\\\n",
       "\t Qn1        & Quebec     & nonchilled &  250       & 34.8      \\\\\n",
       "\t Qn1        & Quebec     & nonchilled &  350       & 37.2      \\\\\n",
       "\t Qn1        & Quebec     & nonchilled &  500       & 35.3      \\\\\n",
       "\t Qn1        & Quebec     & nonchilled &  675       & 39.2      \\\\\n",
       "\t Qn1        & Quebec     & nonchilled & 1000       & 39.7      \\\\\n",
       "\t Qn2        & Quebec     & nonchilled &   95       & 13.6      \\\\\n",
       "\t Qn2        & Quebec     & nonchilled &  175       & 27.3      \\\\\n",
       "\t Qn2        & Quebec     & nonchilled &  250       & 37.1      \\\\\n",
       "\t Qn2        & Quebec     & nonchilled &  350       & 41.8      \\\\\n",
       "\t Qn2        & Quebec     & nonchilled &  500       & 40.6      \\\\\n",
       "\t Qn2        & Quebec     & nonchilled &  675       & 41.4      \\\\\n",
       "\t Qn2        & Quebec     & nonchilled & 1000       & 44.3      \\\\\n",
       "\t Qn3        & Quebec     & nonchilled &   95       & 16.2      \\\\\n",
       "\t Qn3        & Quebec     & nonchilled &  175       & 32.4      \\\\\n",
       "\t Qn3        & Quebec     & nonchilled &  250       & 40.3      \\\\\n",
       "\t Qn3        & Quebec     & nonchilled &  350       & 42.1      \\\\\n",
       "\t Qn3        & Quebec     & nonchilled &  500       & 42.9      \\\\\n",
       "\t Qn3        & Quebec     & nonchilled &  675       & 43.9      \\\\\n",
       "\t Qn3        & Quebec     & nonchilled & 1000       & 45.5      \\\\\n",
       "\t Qc1        & Quebec     & chilled    &   95       & 14.2      \\\\\n",
       "\t Qc1        & Quebec     & chilled    &  175       & 24.1      \\\\\n",
       "\t Qc1        & Quebec     & chilled    &  250       & 30.3      \\\\\n",
       "\t Qc1        & Quebec     & chilled    &  350       & 34.6      \\\\\n",
       "\t Qc1        & Quebec     & chilled    &  500       & 32.5      \\\\\n",
       "\t Qc1        & Quebec     & chilled    &  675       & 35.4      \\\\\n",
       "\t Qc1        & Quebec     & chilled    & 1000       & 38.7      \\\\\n",
       "\t Qc2        & Quebec     & chilled    &   95       &  9.3      \\\\\n",
       "\t Qc2        & Quebec     & chilled    &  175       & 27.3      \\\\\n",
       "\t ... & ... & ... & ... & ...\\\\\n",
       "\t Mn2         & Mississippi & nonchilled  &  675        & 31.1       \\\\\n",
       "\t Mn2         & Mississippi & nonchilled  & 1000        & 31.5       \\\\\n",
       "\t Mn3         & Mississippi & nonchilled  &   95        & 11.3       \\\\\n",
       "\t Mn3         & Mississippi & nonchilled  &  175        & 19.4       \\\\\n",
       "\t Mn3         & Mississippi & nonchilled  &  250        & 25.8       \\\\\n",
       "\t Mn3         & Mississippi & nonchilled  &  350        & 27.9       \\\\\n",
       "\t Mn3         & Mississippi & nonchilled  &  500        & 28.5       \\\\\n",
       "\t Mn3         & Mississippi & nonchilled  &  675        & 28.1       \\\\\n",
       "\t Mn3         & Mississippi & nonchilled  & 1000        & 27.8       \\\\\n",
       "\t Mc1         & Mississippi & chilled     &   95        & 10.5       \\\\\n",
       "\t Mc1         & Mississippi & chilled     &  175        & 14.9       \\\\\n",
       "\t Mc1         & Mississippi & chilled     &  250        & 18.1       \\\\\n",
       "\t Mc1         & Mississippi & chilled     &  350        & 18.9       \\\\\n",
       "\t Mc1         & Mississippi & chilled     &  500        & 19.5       \\\\\n",
       "\t Mc1         & Mississippi & chilled     &  675        & 22.2       \\\\\n",
       "\t Mc1         & Mississippi & chilled     & 1000        & 21.9       \\\\\n",
       "\t Mc2         & Mississippi & chilled     &   95        &  7.7       \\\\\n",
       "\t Mc2         & Mississippi & chilled     &  175        & 11.4       \\\\\n",
       "\t Mc2         & Mississippi & chilled     &  250        & 12.3       \\\\\n",
       "\t Mc2         & Mississippi & chilled     &  350        & 13.0       \\\\\n",
       "\t Mc2         & Mississippi & chilled     &  500        & 12.5       \\\\\n",
       "\t Mc2         & Mississippi & chilled     &  675        & 13.7       \\\\\n",
       "\t Mc2         & Mississippi & chilled     & 1000        & 14.4       \\\\\n",
       "\t Mc3         & Mississippi & chilled     &   95        & 10.6       \\\\\n",
       "\t Mc3         & Mississippi & chilled     &  175        & 18.0       \\\\\n",
       "\t Mc3         & Mississippi & chilled     &  250        & 17.9       \\\\\n",
       "\t Mc3         & Mississippi & chilled     &  350        & 17.9       \\\\\n",
       "\t Mc3         & Mississippi & chilled     &  500        & 17.9       \\\\\n",
       "\t Mc3         & Mississippi & chilled     &  675        & 18.9       \\\\\n",
       "\t Mc3         & Mississippi & chilled     & 1000        & 19.9       \\\\\n",
       "\\end{tabular}\n"
      ],
      "text/markdown": [
       "\n",
       "| Plant | Type | Treatment | conc | uptake |\n",
       "|---|---|---|---|---|\n",
       "| Qn1        | Quebec     | nonchilled |   95       | 16.0       |\n",
       "| Qn1        | Quebec     | nonchilled |  175       | 30.4       |\n",
       "| Qn1        | Quebec     | nonchilled |  250       | 34.8       |\n",
       "| Qn1        | Quebec     | nonchilled |  350       | 37.2       |\n",
       "| Qn1        | Quebec     | nonchilled |  500       | 35.3       |\n",
       "| Qn1        | Quebec     | nonchilled |  675       | 39.2       |\n",
       "| Qn1        | Quebec     | nonchilled | 1000       | 39.7       |\n",
       "| Qn2        | Quebec     | nonchilled |   95       | 13.6       |\n",
       "| Qn2        | Quebec     | nonchilled |  175       | 27.3       |\n",
       "| Qn2        | Quebec     | nonchilled |  250       | 37.1       |\n",
       "| Qn2        | Quebec     | nonchilled |  350       | 41.8       |\n",
       "| Qn2        | Quebec     | nonchilled |  500       | 40.6       |\n",
       "| Qn2        | Quebec     | nonchilled |  675       | 41.4       |\n",
       "| Qn2        | Quebec     | nonchilled | 1000       | 44.3       |\n",
       "| Qn3        | Quebec     | nonchilled |   95       | 16.2       |\n",
       "| Qn3        | Quebec     | nonchilled |  175       | 32.4       |\n",
       "| Qn3        | Quebec     | nonchilled |  250       | 40.3       |\n",
       "| Qn3        | Quebec     | nonchilled |  350       | 42.1       |\n",
       "| Qn3        | Quebec     | nonchilled |  500       | 42.9       |\n",
       "| Qn3        | Quebec     | nonchilled |  675       | 43.9       |\n",
       "| Qn3        | Quebec     | nonchilled | 1000       | 45.5       |\n",
       "| Qc1        | Quebec     | chilled    |   95       | 14.2       |\n",
       "| Qc1        | Quebec     | chilled    |  175       | 24.1       |\n",
       "| Qc1        | Quebec     | chilled    |  250       | 30.3       |\n",
       "| Qc1        | Quebec     | chilled    |  350       | 34.6       |\n",
       "| Qc1        | Quebec     | chilled    |  500       | 32.5       |\n",
       "| Qc1        | Quebec     | chilled    |  675       | 35.4       |\n",
       "| Qc1        | Quebec     | chilled    | 1000       | 38.7       |\n",
       "| Qc2        | Quebec     | chilled    |   95       |  9.3       |\n",
       "| Qc2        | Quebec     | chilled    |  175       | 27.3       |\n",
       "| ... | ... | ... | ... | ... |\n",
       "| Mn2         | Mississippi | nonchilled  |  675        | 31.1        |\n",
       "| Mn2         | Mississippi | nonchilled  | 1000        | 31.5        |\n",
       "| Mn3         | Mississippi | nonchilled  |   95        | 11.3        |\n",
       "| Mn3         | Mississippi | nonchilled  |  175        | 19.4        |\n",
       "| Mn3         | Mississippi | nonchilled  |  250        | 25.8        |\n",
       "| Mn3         | Mississippi | nonchilled  |  350        | 27.9        |\n",
       "| Mn3         | Mississippi | nonchilled  |  500        | 28.5        |\n",
       "| Mn3         | Mississippi | nonchilled  |  675        | 28.1        |\n",
       "| Mn3         | Mississippi | nonchilled  | 1000        | 27.8        |\n",
       "| Mc1         | Mississippi | chilled     |   95        | 10.5        |\n",
       "| Mc1         | Mississippi | chilled     |  175        | 14.9        |\n",
       "| Mc1         | Mississippi | chilled     |  250        | 18.1        |\n",
       "| Mc1         | Mississippi | chilled     |  350        | 18.9        |\n",
       "| Mc1         | Mississippi | chilled     |  500        | 19.5        |\n",
       "| Mc1         | Mississippi | chilled     |  675        | 22.2        |\n",
       "| Mc1         | Mississippi | chilled     | 1000        | 21.9        |\n",
       "| Mc2         | Mississippi | chilled     |   95        |  7.7        |\n",
       "| Mc2         | Mississippi | chilled     |  175        | 11.4        |\n",
       "| Mc2         | Mississippi | chilled     |  250        | 12.3        |\n",
       "| Mc2         | Mississippi | chilled     |  350        | 13.0        |\n",
       "| Mc2         | Mississippi | chilled     |  500        | 12.5        |\n",
       "| Mc2         | Mississippi | chilled     |  675        | 13.7        |\n",
       "| Mc2         | Mississippi | chilled     | 1000        | 14.4        |\n",
       "| Mc3         | Mississippi | chilled     |   95        | 10.6        |\n",
       "| Mc3         | Mississippi | chilled     |  175        | 18.0        |\n",
       "| Mc3         | Mississippi | chilled     |  250        | 17.9        |\n",
       "| Mc3         | Mississippi | chilled     |  350        | 17.9        |\n",
       "| Mc3         | Mississippi | chilled     |  500        | 17.9        |\n",
       "| Mc3         | Mississippi | chilled     |  675        | 18.9        |\n",
       "| Mc3         | Mississippi | chilled     | 1000        | 19.9        |\n",
       "\n"
      ],
      "text/plain": [
       "    Plant Type        Treatment  conc uptake\n",
       "1   Qn1   Quebec      nonchilled   95 16.0  \n",
       "2   Qn1   Quebec      nonchilled  175 30.4  \n",
       "3   Qn1   Quebec      nonchilled  250 34.8  \n",
       "4   Qn1   Quebec      nonchilled  350 37.2  \n",
       "5   Qn1   Quebec      nonchilled  500 35.3  \n",
       "6   Qn1   Quebec      nonchilled  675 39.2  \n",
       "7   Qn1   Quebec      nonchilled 1000 39.7  \n",
       "8   Qn2   Quebec      nonchilled   95 13.6  \n",
       "9   Qn2   Quebec      nonchilled  175 27.3  \n",
       "10  Qn2   Quebec      nonchilled  250 37.1  \n",
       "11  Qn2   Quebec      nonchilled  350 41.8  \n",
       "12  Qn2   Quebec      nonchilled  500 40.6  \n",
       "13  Qn2   Quebec      nonchilled  675 41.4  \n",
       "14  Qn2   Quebec      nonchilled 1000 44.3  \n",
       "15  Qn3   Quebec      nonchilled   95 16.2  \n",
       "16  Qn3   Quebec      nonchilled  175 32.4  \n",
       "17  Qn3   Quebec      nonchilled  250 40.3  \n",
       "18  Qn3   Quebec      nonchilled  350 42.1  \n",
       "19  Qn3   Quebec      nonchilled  500 42.9  \n",
       "20  Qn3   Quebec      nonchilled  675 43.9  \n",
       "21  Qn3   Quebec      nonchilled 1000 45.5  \n",
       "22  Qc1   Quebec      chilled      95 14.2  \n",
       "23  Qc1   Quebec      chilled     175 24.1  \n",
       "24  Qc1   Quebec      chilled     250 30.3  \n",
       "25  Qc1   Quebec      chilled     350 34.6  \n",
       "26  Qc1   Quebec      chilled     500 32.5  \n",
       "27  Qc1   Quebec      chilled     675 35.4  \n",
       "28  Qc1   Quebec      chilled    1000 38.7  \n",
       "29  Qc2   Quebec      chilled      95  9.3  \n",
       "30  Qc2   Quebec      chilled     175 27.3  \n",
       "... ...   ...         ...        ...  ...   \n",
       "55  Mn2   Mississippi nonchilled  675 31.1  \n",
       "56  Mn2   Mississippi nonchilled 1000 31.5  \n",
       "57  Mn3   Mississippi nonchilled   95 11.3  \n",
       "58  Mn3   Mississippi nonchilled  175 19.4  \n",
       "59  Mn3   Mississippi nonchilled  250 25.8  \n",
       "60  Mn3   Mississippi nonchilled  350 27.9  \n",
       "61  Mn3   Mississippi nonchilled  500 28.5  \n",
       "62  Mn3   Mississippi nonchilled  675 28.1  \n",
       "63  Mn3   Mississippi nonchilled 1000 27.8  \n",
       "64  Mc1   Mississippi chilled      95 10.5  \n",
       "65  Mc1   Mississippi chilled     175 14.9  \n",
       "66  Mc1   Mississippi chilled     250 18.1  \n",
       "67  Mc1   Mississippi chilled     350 18.9  \n",
       "68  Mc1   Mississippi chilled     500 19.5  \n",
       "69  Mc1   Mississippi chilled     675 22.2  \n",
       "70  Mc1   Mississippi chilled    1000 21.9  \n",
       "71  Mc2   Mississippi chilled      95  7.7  \n",
       "72  Mc2   Mississippi chilled     175 11.4  \n",
       "73  Mc2   Mississippi chilled     250 12.3  \n",
       "74  Mc2   Mississippi chilled     350 13.0  \n",
       "75  Mc2   Mississippi chilled     500 12.5  \n",
       "76  Mc2   Mississippi chilled     675 13.7  \n",
       "77  Mc2   Mississippi chilled    1000 14.4  \n",
       "78  Mc3   Mississippi chilled      95 10.6  \n",
       "79  Mc3   Mississippi chilled     175 18.0  \n",
       "80  Mc3   Mississippi chilled     250 17.9  \n",
       "81  Mc3   Mississippi chilled     350 17.9  \n",
       "82  Mc3   Mississippi chilled     500 17.9  \n",
       "83  Mc3   Mississippi chilled     675 18.9  \n",
       "84  Mc3   Mississippi chilled    1000 19.9  "
      ]
     },
     "metadata": {},
     "output_type": "display_data"
    }
   ],
   "source": [
    "CO2"
   ]
  },
  {
   "cell_type": "code",
   "execution_count": null,
   "metadata": {},
   "outputs": [],
   "source": []
  },
  {
   "cell_type": "code",
   "execution_count": null,
   "metadata": {},
   "outputs": [],
   "source": [
    "# comment\n",
    "\n"
   ]
  },
  {
   "cell_type": "code",
   "execution_count": null,
   "metadata": {},
   "outputs": [],
   "source": []
  },
  {
   "cell_type": "code",
   "execution_count": 27,
   "metadata": {},
   "outputs": [
    {
     "data": {
      "text/html": [
       "210"
      ],
      "text/latex": [
       "210"
      ],
      "text/markdown": [
       "210"
      ],
      "text/plain": [
       "[1] 210"
      ]
     },
     "metadata": {},
     "output_type": "display_data"
    }
   ],
   "source": [
    "# Here is how you compute the sum for the first 20 integers\n",
    "20*(20+1)/2 "
   ]
  },
  {
   "cell_type": "code",
   "execution_count": 29,
   "metadata": {},
   "outputs": [
    {
     "data": {
      "text/html": [
       "210"
      ],
      "text/latex": [
       "210"
      ],
      "text/markdown": [
       "210"
      ],
      "text/plain": [
       "[1] 210"
      ]
     },
     "metadata": {},
     "output_type": "display_data"
    },
    {
     "data": {
      "text/html": [
       "325"
      ],
      "text/latex": [
       "325"
      ],
      "text/markdown": [
       "325"
      ],
      "text/plain": [
       "[1] 325"
      ]
     },
     "metadata": {},
     "output_type": "display_data"
    },
    {
     "data": {
      "text/html": [
       "5050"
      ],
      "text/latex": [
       "5050"
      ],
      "text/markdown": [
       "5050"
      ],
      "text/plain": [
       "[1] 5050"
      ]
     },
     "metadata": {},
     "output_type": "display_data"
    }
   ],
   "source": [
    "# However, we can define a variable to use the formula for other values of n\n",
    "n <- 20\n",
    "n*(n+1)/2\n",
    "\n",
    "n <- 25\n",
    "n*(n+1)/2\n",
    "\n",
    "# Below, write code to calculate the sum of the first 100 integers\n",
    "n <- 100\n",
    "n*(n+1)/2"
   ]
  },
  {
   "cell_type": "markdown",
   "metadata": {},
   "source": [
    "## 1.3 Data Types"
   ]
  },
  {
   "cell_type": "code",
   "execution_count": 30,
   "metadata": {},
   "outputs": [],
   "source": [
    "a  <-  2"
   ]
  },
  {
   "cell_type": "code",
   "execution_count": 31,
   "metadata": {},
   "outputs": [
    {
     "data": {
      "text/html": [
       "'numeric'"
      ],
      "text/latex": [
       "'numeric'"
      ],
      "text/markdown": [
       "'numeric'"
      ],
      "text/plain": [
       "[1] \"numeric\""
      ]
     },
     "metadata": {},
     "output_type": "display_data"
    }
   ],
   "source": [
    "class(a)"
   ]
  },
  {
   "cell_type": "code",
   "execution_count": 32,
   "metadata": {},
   "outputs": [
    {
     "data": {
      "text/html": [
       "'function'"
      ],
      "text/latex": [
       "'function'"
      ],
      "text/markdown": [
       "'function'"
      ],
      "text/plain": [
       "[1] \"function\""
      ]
     },
     "metadata": {},
     "output_type": "display_data"
    }
   ],
   "source": [
    "class(ls)"
   ]
  },
  {
   "cell_type": "code",
   "execution_count": 33,
   "metadata": {},
   "outputs": [],
   "source": [
    "library(dslabs)"
   ]
  },
  {
   "cell_type": "code",
   "execution_count": 34,
   "metadata": {},
   "outputs": [],
   "source": [
    "data(\"murders\")"
   ]
  },
  {
   "cell_type": "code",
   "execution_count": 35,
   "metadata": {},
   "outputs": [
    {
     "data": {
      "text/html": [
       "'data.frame'"
      ],
      "text/latex": [
       "'data.frame'"
      ],
      "text/markdown": [
       "'data.frame'"
      ],
      "text/plain": [
       "[1] \"data.frame\""
      ]
     },
     "metadata": {},
     "output_type": "display_data"
    }
   ],
   "source": [
    "class(murders)"
   ]
  },
  {
   "cell_type": "code",
   "execution_count": 38,
   "metadata": {},
   "outputs": [
    {
     "name": "stdout",
     "output_type": "stream",
     "text": [
      "'data.frame':\t51 obs. of  5 variables:\n",
      " $ state     : chr  \"Alabama\" \"Alaska\" \"Arizona\" \"Arkansas\" ...\n",
      " $ abb       : chr  \"AL\" \"AK\" \"AZ\" \"AR\" ...\n",
      " $ region    : Factor w/ 4 levels \"Northeast\",\"South\",..: 2 4 4 2 4 4 1 2 2 2 ...\n",
      " $ population: num  4779736 710231 6392017 2915918 37253956 ...\n",
      " $ total     : num  135 19 232 93 1257 ...\n"
     ]
    }
   ],
   "source": [
    "str(murders)"
   ]
  },
  {
   "cell_type": "code",
   "execution_count": 39,
   "metadata": {},
   "outputs": [
    {
     "data": {
      "text/html": [
       "<table>\n",
       "<thead><tr><th scope=col>state</th><th scope=col>abb</th><th scope=col>region</th><th scope=col>population</th><th scope=col>total</th></tr></thead>\n",
       "<tbody>\n",
       "\t<tr><td>Alabama   </td><td>AL        </td><td>South     </td><td> 4779736  </td><td> 135      </td></tr>\n",
       "\t<tr><td>Alaska    </td><td>AK        </td><td>West      </td><td>  710231  </td><td>  19      </td></tr>\n",
       "\t<tr><td>Arizona   </td><td>AZ        </td><td>West      </td><td> 6392017  </td><td> 232      </td></tr>\n",
       "\t<tr><td>Arkansas  </td><td>AR        </td><td>South     </td><td> 2915918  </td><td>  93      </td></tr>\n",
       "\t<tr><td>California</td><td>CA        </td><td>West      </td><td>37253956  </td><td>1257      </td></tr>\n",
       "\t<tr><td>Colorado  </td><td>CO        </td><td>West      </td><td> 5029196  </td><td>  65      </td></tr>\n",
       "</tbody>\n",
       "</table>\n"
      ],
      "text/latex": [
       "\\begin{tabular}{r|lllll}\n",
       " state & abb & region & population & total\\\\\n",
       "\\hline\n",
       "\t Alabama    & AL         & South      &  4779736   &  135      \\\\\n",
       "\t Alaska     & AK         & West       &   710231   &   19      \\\\\n",
       "\t Arizona    & AZ         & West       &  6392017   &  232      \\\\\n",
       "\t Arkansas   & AR         & South      &  2915918   &   93      \\\\\n",
       "\t California & CA         & West       & 37253956   & 1257      \\\\\n",
       "\t Colorado   & CO         & West       &  5029196   &   65      \\\\\n",
       "\\end{tabular}\n"
      ],
      "text/markdown": [
       "\n",
       "| state | abb | region | population | total |\n",
       "|---|---|---|---|---|\n",
       "| Alabama    | AL         | South      |  4779736   |  135       |\n",
       "| Alaska     | AK         | West       |   710231   |   19       |\n",
       "| Arizona    | AZ         | West       |  6392017   |  232       |\n",
       "| Arkansas   | AR         | South      |  2915918   |   93       |\n",
       "| California | CA         | West       | 37253956   | 1257       |\n",
       "| Colorado   | CO         | West       |  5029196   |   65       |\n",
       "\n"
      ],
      "text/plain": [
       "  state      abb region population total\n",
       "1 Alabama    AL  South   4779736    135 \n",
       "2 Alaska     AK  West     710231     19 \n",
       "3 Arizona    AZ  West    6392017    232 \n",
       "4 Arkansas   AR  South   2915918     93 \n",
       "5 California CA  West   37253956   1257 \n",
       "6 Colorado   CO  West    5029196     65 "
      ]
     },
     "metadata": {},
     "output_type": "display_data"
    }
   ],
   "source": [
    "head(murders)"
   ]
  },
  {
   "cell_type": "code",
   "execution_count": 40,
   "metadata": {},
   "outputs": [
    {
     "data": {
      "text/html": [
       "<ol class=list-inline>\n",
       "\t<li>4779736</li>\n",
       "\t<li>710231</li>\n",
       "\t<li>6392017</li>\n",
       "\t<li>2915918</li>\n",
       "\t<li>37253956</li>\n",
       "\t<li>5029196</li>\n",
       "\t<li>3574097</li>\n",
       "\t<li>897934</li>\n",
       "\t<li>601723</li>\n",
       "\t<li>19687653</li>\n",
       "\t<li>9920000</li>\n",
       "\t<li>1360301</li>\n",
       "\t<li>1567582</li>\n",
       "\t<li>12830632</li>\n",
       "\t<li>6483802</li>\n",
       "\t<li>3046355</li>\n",
       "\t<li>2853118</li>\n",
       "\t<li>4339367</li>\n",
       "\t<li>4533372</li>\n",
       "\t<li>1328361</li>\n",
       "\t<li>5773552</li>\n",
       "\t<li>6547629</li>\n",
       "\t<li>9883640</li>\n",
       "\t<li>5303925</li>\n",
       "\t<li>2967297</li>\n",
       "\t<li>5988927</li>\n",
       "\t<li>989415</li>\n",
       "\t<li>1826341</li>\n",
       "\t<li>2700551</li>\n",
       "\t<li>1316470</li>\n",
       "\t<li>8791894</li>\n",
       "\t<li>2059179</li>\n",
       "\t<li>19378102</li>\n",
       "\t<li>9535483</li>\n",
       "\t<li>672591</li>\n",
       "\t<li>11536504</li>\n",
       "\t<li>3751351</li>\n",
       "\t<li>3831074</li>\n",
       "\t<li>12702379</li>\n",
       "\t<li>1052567</li>\n",
       "\t<li>4625364</li>\n",
       "\t<li>814180</li>\n",
       "\t<li>6346105</li>\n",
       "\t<li>25145561</li>\n",
       "\t<li>2763885</li>\n",
       "\t<li>625741</li>\n",
       "\t<li>8001024</li>\n",
       "\t<li>6724540</li>\n",
       "\t<li>1852994</li>\n",
       "\t<li>5686986</li>\n",
       "\t<li>563626</li>\n",
       "</ol>\n"
      ],
      "text/latex": [
       "\\begin{enumerate*}\n",
       "\\item 4779736\n",
       "\\item 710231\n",
       "\\item 6392017\n",
       "\\item 2915918\n",
       "\\item 37253956\n",
       "\\item 5029196\n",
       "\\item 3574097\n",
       "\\item 897934\n",
       "\\item 601723\n",
       "\\item 19687653\n",
       "\\item 9920000\n",
       "\\item 1360301\n",
       "\\item 1567582\n",
       "\\item 12830632\n",
       "\\item 6483802\n",
       "\\item 3046355\n",
       "\\item 2853118\n",
       "\\item 4339367\n",
       "\\item 4533372\n",
       "\\item 1328361\n",
       "\\item 5773552\n",
       "\\item 6547629\n",
       "\\item 9883640\n",
       "\\item 5303925\n",
       "\\item 2967297\n",
       "\\item 5988927\n",
       "\\item 989415\n",
       "\\item 1826341\n",
       "\\item 2700551\n",
       "\\item 1316470\n",
       "\\item 8791894\n",
       "\\item 2059179\n",
       "\\item 19378102\n",
       "\\item 9535483\n",
       "\\item 672591\n",
       "\\item 11536504\n",
       "\\item 3751351\n",
       "\\item 3831074\n",
       "\\item 12702379\n",
       "\\item 1052567\n",
       "\\item 4625364\n",
       "\\item 814180\n",
       "\\item 6346105\n",
       "\\item 25145561\n",
       "\\item 2763885\n",
       "\\item 625741\n",
       "\\item 8001024\n",
       "\\item 6724540\n",
       "\\item 1852994\n",
       "\\item 5686986\n",
       "\\item 563626\n",
       "\\end{enumerate*}\n"
      ],
      "text/markdown": [
       "1. 4779736\n",
       "2. 710231\n",
       "3. 6392017\n",
       "4. 2915918\n",
       "5. 37253956\n",
       "6. 5029196\n",
       "7. 3574097\n",
       "8. 897934\n",
       "9. 601723\n",
       "10. 19687653\n",
       "11. 9920000\n",
       "12. 1360301\n",
       "13. 1567582\n",
       "14. 12830632\n",
       "15. 6483802\n",
       "16. 3046355\n",
       "17. 2853118\n",
       "18. 4339367\n",
       "19. 4533372\n",
       "20. 1328361\n",
       "21. 5773552\n",
       "22. 6547629\n",
       "23. 9883640\n",
       "24. 5303925\n",
       "25. 2967297\n",
       "26. 5988927\n",
       "27. 989415\n",
       "28. 1826341\n",
       "29. 2700551\n",
       "30. 1316470\n",
       "31. 8791894\n",
       "32. 2059179\n",
       "33. 19378102\n",
       "34. 9535483\n",
       "35. 672591\n",
       "36. 11536504\n",
       "37. 3751351\n",
       "38. 3831074\n",
       "39. 12702379\n",
       "40. 1052567\n",
       "41. 4625364\n",
       "42. 814180\n",
       "43. 6346105\n",
       "44. 25145561\n",
       "45. 2763885\n",
       "46. 625741\n",
       "47. 8001024\n",
       "48. 6724540\n",
       "49. 1852994\n",
       "50. 5686986\n",
       "51. 563626\n",
       "\n",
       "\n"
      ],
      "text/plain": [
       " [1]  4779736   710231  6392017  2915918 37253956  5029196  3574097   897934\n",
       " [9]   601723 19687653  9920000  1360301  1567582 12830632  6483802  3046355\n",
       "[17]  2853118  4339367  4533372  1328361  5773552  6547629  9883640  5303925\n",
       "[25]  2967297  5988927   989415  1826341  2700551  1316470  8791894  2059179\n",
       "[33] 19378102  9535483   672591 11536504  3751351  3831074 12702379  1052567\n",
       "[41]  4625364   814180  6346105 25145561  2763885   625741  8001024  6724540\n",
       "[49]  1852994  5686986   563626"
      ]
     },
     "metadata": {},
     "output_type": "display_data"
    }
   ],
   "source": [
    "murders$population"
   ]
  },
  {
   "cell_type": "code",
   "execution_count": 41,
   "metadata": {},
   "outputs": [
    {
     "data": {
      "text/html": [
       "<ol class=list-inline>\n",
       "\t<li>'state'</li>\n",
       "\t<li>'abb'</li>\n",
       "\t<li>'region'</li>\n",
       "\t<li>'population'</li>\n",
       "\t<li>'total'</li>\n",
       "</ol>\n"
      ],
      "text/latex": [
       "\\begin{enumerate*}\n",
       "\\item 'state'\n",
       "\\item 'abb'\n",
       "\\item 'region'\n",
       "\\item 'population'\n",
       "\\item 'total'\n",
       "\\end{enumerate*}\n"
      ],
      "text/markdown": [
       "1. 'state'\n",
       "2. 'abb'\n",
       "3. 'region'\n",
       "4. 'population'\n",
       "5. 'total'\n",
       "\n",
       "\n"
      ],
      "text/plain": [
       "[1] \"state\"      \"abb\"        \"region\"     \"population\" \"total\"     "
      ]
     },
     "metadata": {},
     "output_type": "display_data"
    }
   ],
   "source": [
    "names(murders)"
   ]
  },
  {
   "cell_type": "code",
   "execution_count": null,
   "metadata": {},
   "outputs": [],
   "source": []
  },
  {
   "cell_type": "code",
   "execution_count": 43,
   "metadata": {},
   "outputs": [],
   "source": [
    "pop  <- murders$population"
   ]
  },
  {
   "cell_type": "code",
   "execution_count": 44,
   "metadata": {},
   "outputs": [
    {
     "data": {
      "text/html": [
       "51"
      ],
      "text/latex": [
       "51"
      ],
      "text/markdown": [
       "51"
      ],
      "text/plain": [
       "[1] 51"
      ]
     },
     "metadata": {},
     "output_type": "display_data"
    }
   ],
   "source": [
    "length(pop)"
   ]
  },
  {
   "cell_type": "code",
   "execution_count": 45,
   "metadata": {},
   "outputs": [
    {
     "data": {
      "text/html": [
       "'character'"
      ],
      "text/latex": [
       "'character'"
      ],
      "text/markdown": [
       "'character'"
      ],
      "text/plain": [
       "[1] \"character\""
      ]
     },
     "metadata": {},
     "output_type": "display_data"
    }
   ],
   "source": [
    "class(murders$state)"
   ]
  },
  {
   "cell_type": "code",
   "execution_count": 46,
   "metadata": {},
   "outputs": [
    {
     "data": {
      "text/html": [
       "'factor'"
      ],
      "text/latex": [
       "'factor'"
      ],
      "text/markdown": [
       "'factor'"
      ],
      "text/plain": [
       "[1] \"factor\""
      ]
     },
     "metadata": {},
     "output_type": "display_data"
    }
   ],
   "source": [
    "class(murders$region)"
   ]
  },
  {
   "cell_type": "code",
   "execution_count": 47,
   "metadata": {},
   "outputs": [
    {
     "data": {
      "text/html": [
       "<ol class=list-inline>\n",
       "\t<li>'Northeast'</li>\n",
       "\t<li>'South'</li>\n",
       "\t<li>'North Central'</li>\n",
       "\t<li>'West'</li>\n",
       "</ol>\n"
      ],
      "text/latex": [
       "\\begin{enumerate*}\n",
       "\\item 'Northeast'\n",
       "\\item 'South'\n",
       "\\item 'North Central'\n",
       "\\item 'West'\n",
       "\\end{enumerate*}\n"
      ],
      "text/markdown": [
       "1. 'Northeast'\n",
       "2. 'South'\n",
       "3. 'North Central'\n",
       "4. 'West'\n",
       "\n",
       "\n"
      ],
      "text/plain": [
       "[1] \"Northeast\"     \"South\"         \"North Central\" \"West\"         "
      ]
     },
     "metadata": {},
     "output_type": "display_data"
    }
   ],
   "source": [
    "levels(murders$region)"
   ]
  },
  {
   "cell_type": "code",
   "execution_count": 49,
   "metadata": {},
   "outputs": [],
   "source": [
    "help(murders)"
   ]
  },
  {
   "cell_type": "code",
   "execution_count": null,
   "metadata": {},
   "outputs": [],
   "source": []
  },
  {
   "cell_type": "code",
   "execution_count": 50,
   "metadata": {},
   "outputs": [
    {
     "name": "stdout",
     "output_type": "stream",
     "text": [
      "'data.frame':\t51 obs. of  5 variables:\n",
      " $ state     : chr  \"Alabama\" \"Alaska\" \"Arizona\" \"Arkansas\" ...\n",
      " $ abb       : chr  \"AL\" \"AK\" \"AZ\" \"AR\" ...\n",
      " $ region    : Factor w/ 4 levels \"Northeast\",\"South\",..: 2 4 4 2 4 4 1 2 2 2 ...\n",
      " $ population: num  4779736 710231 6392017 2915918 37253956 ...\n",
      " $ total     : num  135 19 232 93 1257 ...\n"
     ]
    }
   ],
   "source": [
    "str(murders)"
   ]
  },
  {
   "cell_type": "code",
   "execution_count": null,
   "metadata": {},
   "outputs": [],
   "source": []
  },
  {
   "cell_type": "markdown",
   "metadata": {},
   "source": [
    "# Section 2"
   ]
  },
  {
   "cell_type": "code",
   "execution_count": null,
   "metadata": {},
   "outputs": [],
   "source": []
  },
  {
   "cell_type": "code",
   "execution_count": 51,
   "metadata": {},
   "outputs": [],
   "source": [
    "codes  <-  c('italy'=10, 'kek'=22)"
   ]
  },
  {
   "cell_type": "code",
   "execution_count": 52,
   "metadata": {},
   "outputs": [
    {
     "data": {
      "text/html": [
       "<dl class=dl-horizontal>\n",
       "\t<dt>italy</dt>\n",
       "\t\t<dd>10</dd>\n",
       "\t<dt>kek</dt>\n",
       "\t\t<dd>22</dd>\n",
       "</dl>\n"
      ],
      "text/latex": [
       "\\begin{description*}\n",
       "\\item[italy] 10\n",
       "\\item[kek] 22\n",
       "\\end{description*}\n"
      ],
      "text/markdown": [
       "italy\n",
       ":   10kek\n",
       ":   22\n",
       "\n"
      ],
      "text/plain": [
       "italy   kek \n",
       "   10    22 "
      ]
     },
     "metadata": {},
     "output_type": "display_data"
    }
   ],
   "source": [
    "codes"
   ]
  },
  {
   "cell_type": "code",
   "execution_count": 54,
   "metadata": {},
   "outputs": [],
   "source": [
    "codes  <-  c('italy', 'kek')"
   ]
  },
  {
   "cell_type": "code",
   "execution_count": null,
   "metadata": {},
   "outputs": [],
   "source": [
    "gg <-  c(10,22)"
   ]
  },
  {
   "cell_type": "code",
   "execution_count": 55,
   "metadata": {},
   "outputs": [],
   "source": [
    "names(codes)  <- gg"
   ]
  },
  {
   "cell_type": "code",
   "execution_count": 56,
   "metadata": {},
   "outputs": [
    {
     "data": {
      "text/html": [
       "<dl class=dl-horizontal>\n",
       "\t<dt>10</dt>\n",
       "\t\t<dd>'italy'</dd>\n",
       "\t<dt>22</dt>\n",
       "\t\t<dd>'kek'</dd>\n",
       "</dl>\n"
      ],
      "text/latex": [
       "\\begin{description*}\n",
       "\\item[10] 'italy'\n",
       "\\item[22] 'kek'\n",
       "\\end{description*}\n"
      ],
      "text/markdown": [
       "10\n",
       ":   'italy'22\n",
       ":   'kek'\n",
       "\n"
      ],
      "text/plain": [
       "     10      22 \n",
       "\"italy\"   \"kek\" "
      ]
     },
     "metadata": {},
     "output_type": "display_data"
    }
   ],
   "source": [
    "codes"
   ]
  },
  {
   "cell_type": "code",
   "execution_count": 57,
   "metadata": {},
   "outputs": [
    {
     "data": {
      "text/html": [
       "'character'"
      ],
      "text/latex": [
       "'character'"
      ],
      "text/markdown": [
       "'character'"
      ],
      "text/plain": [
       "[1] \"character\""
      ]
     },
     "metadata": {},
     "output_type": "display_data"
    }
   ],
   "source": [
    "class(codes)"
   ]
  },
  {
   "cell_type": "code",
   "execution_count": null,
   "metadata": {},
   "outputs": [],
   "source": []
  },
  {
   "cell_type": "code",
   "execution_count": 58,
   "metadata": {},
   "outputs": [
    {
     "data": {
      "text/html": [
       "<ol class=list-inline>\n",
       "\t<li>1</li>\n",
       "\t<li>2</li>\n",
       "\t<li>3</li>\n",
       "\t<li>4</li>\n",
       "\t<li>5</li>\n",
       "\t<li>6</li>\n",
       "\t<li>7</li>\n",
       "\t<li>8</li>\n",
       "\t<li>9</li>\n",
       "\t<li>10</li>\n",
       "</ol>\n"
      ],
      "text/latex": [
       "\\begin{enumerate*}\n",
       "\\item 1\n",
       "\\item 2\n",
       "\\item 3\n",
       "\\item 4\n",
       "\\item 5\n",
       "\\item 6\n",
       "\\item 7\n",
       "\\item 8\n",
       "\\item 9\n",
       "\\item 10\n",
       "\\end{enumerate*}\n"
      ],
      "text/markdown": [
       "1. 1\n",
       "2. 2\n",
       "3. 3\n",
       "4. 4\n",
       "5. 5\n",
       "6. 6\n",
       "7. 7\n",
       "8. 8\n",
       "9. 9\n",
       "10. 10\n",
       "\n",
       "\n"
      ],
      "text/plain": [
       " [1]  1  2  3  4  5  6  7  8  9 10"
      ]
     },
     "metadata": {},
     "output_type": "display_data"
    }
   ],
   "source": [
    "seq(1, 10)"
   ]
  },
  {
   "cell_type": "code",
   "execution_count": 59,
   "metadata": {},
   "outputs": [
    {
     "data": {
      "text/html": [
       "<ol class=list-inline>\n",
       "\t<li>1</li>\n",
       "\t<li>3</li>\n",
       "\t<li>5</li>\n",
       "\t<li>7</li>\n",
       "\t<li>9</li>\n",
       "</ol>\n"
      ],
      "text/latex": [
       "\\begin{enumerate*}\n",
       "\\item 1\n",
       "\\item 3\n",
       "\\item 5\n",
       "\\item 7\n",
       "\\item 9\n",
       "\\end{enumerate*}\n"
      ],
      "text/markdown": [
       "1. 1\n",
       "2. 3\n",
       "3. 5\n",
       "4. 7\n",
       "5. 9\n",
       "\n",
       "\n"
      ],
      "text/plain": [
       "[1] 1 3 5 7 9"
      ]
     },
     "metadata": {},
     "output_type": "display_data"
    }
   ],
   "source": [
    "seq(1,10,2)"
   ]
  },
  {
   "cell_type": "code",
   "execution_count": 60,
   "metadata": {},
   "outputs": [
    {
     "data": {
      "text/html": [
       "<ol class=list-inline>\n",
       "\t<li>1</li>\n",
       "\t<li>2</li>\n",
       "\t<li>3</li>\n",
       "\t<li>4</li>\n",
       "\t<li>5</li>\n",
       "\t<li>6</li>\n",
       "\t<li>7</li>\n",
       "\t<li>8</li>\n",
       "\t<li>9</li>\n",
       "\t<li>10</li>\n",
       "</ol>\n"
      ],
      "text/latex": [
       "\\begin{enumerate*}\n",
       "\\item 1\n",
       "\\item 2\n",
       "\\item 3\n",
       "\\item 4\n",
       "\\item 5\n",
       "\\item 6\n",
       "\\item 7\n",
       "\\item 8\n",
       "\\item 9\n",
       "\\item 10\n",
       "\\end{enumerate*}\n"
      ],
      "text/markdown": [
       "1. 1\n",
       "2. 2\n",
       "3. 3\n",
       "4. 4\n",
       "5. 5\n",
       "6. 6\n",
       "7. 7\n",
       "8. 8\n",
       "9. 9\n",
       "10. 10\n",
       "\n",
       "\n"
      ],
      "text/plain": [
       " [1]  1  2  3  4  5  6  7  8  9 10"
      ]
     },
     "metadata": {},
     "output_type": "display_data"
    }
   ],
   "source": [
    "1:10"
   ]
  },
  {
   "cell_type": "code",
   "execution_count": 61,
   "metadata": {},
   "outputs": [
    {
     "data": {
      "text/html": [
       "<strong>22:</strong> 'kek'"
      ],
      "text/latex": [
       "\\textbf{22:} 'kek'"
      ],
      "text/markdown": [
       "**22:** 'kek'"
      ],
      "text/plain": [
       "   22 \n",
       "\"kek\" "
      ]
     },
     "metadata": {},
     "output_type": "display_data"
    }
   ],
   "source": [
    "codes[2]"
   ]
  },
  {
   "cell_type": "code",
   "execution_count": 62,
   "metadata": {},
   "outputs": [
    {
     "data": {
      "text/html": [
       "<dl class=dl-horizontal>\n",
       "\t<dt>10</dt>\n",
       "\t\t<dd>'italy'</dd>\n",
       "\t<dt>22</dt>\n",
       "\t\t<dd>'kek'</dd>\n",
       "</dl>\n"
      ],
      "text/latex": [
       "\\begin{description*}\n",
       "\\item[10] 'italy'\n",
       "\\item[22] 'kek'\n",
       "\\end{description*}\n"
      ],
      "text/markdown": [
       "10\n",
       ":   'italy'22\n",
       ":   'kek'\n",
       "\n"
      ],
      "text/plain": [
       "     10      22 \n",
       "\"italy\"   \"kek\" "
      ]
     },
     "metadata": {},
     "output_type": "display_data"
    }
   ],
   "source": [
    "codes[c(1,2)]"
   ]
  },
  {
   "cell_type": "code",
   "execution_count": null,
   "metadata": {},
   "outputs": [],
   "source": []
  },
  {
   "cell_type": "code",
   "execution_count": 63,
   "metadata": {},
   "outputs": [],
   "source": [
    "# COERCION"
   ]
  },
  {
   "cell_type": "code",
   "execution_count": 64,
   "metadata": {},
   "outputs": [],
   "source": [
    "x  <- c(1, 3 , 'canada')"
   ]
  },
  {
   "cell_type": "code",
   "execution_count": 65,
   "metadata": {},
   "outputs": [
    {
     "data": {
      "text/html": [
       "<ol class=list-inline>\n",
       "\t<li>'1'</li>\n",
       "\t<li>'3'</li>\n",
       "\t<li>'canada'</li>\n",
       "</ol>\n"
      ],
      "text/latex": [
       "\\begin{enumerate*}\n",
       "\\item '1'\n",
       "\\item '3'\n",
       "\\item 'canada'\n",
       "\\end{enumerate*}\n"
      ],
      "text/markdown": [
       "1. '1'\n",
       "2. '3'\n",
       "3. 'canada'\n",
       "\n",
       "\n"
      ],
      "text/plain": [
       "[1] \"1\"      \"3\"      \"canada\""
      ]
     },
     "metadata": {},
     "output_type": "display_data"
    }
   ],
   "source": [
    "x"
   ]
  },
  {
   "cell_type": "code",
   "execution_count": 66,
   "metadata": {},
   "outputs": [
    {
     "data": {
      "text/html": [
       "<ol class=list-inline>\n",
       "\t<li>'1'</li>\n",
       "\t<li>'2'</li>\n",
       "\t<li>'3'</li>\n",
       "\t<li>'4'</li>\n",
       "\t<li>'5'</li>\n",
       "</ol>\n"
      ],
      "text/latex": [
       "\\begin{enumerate*}\n",
       "\\item '1'\n",
       "\\item '2'\n",
       "\\item '3'\n",
       "\\item '4'\n",
       "\\item '5'\n",
       "\\end{enumerate*}\n"
      ],
      "text/markdown": [
       "1. '1'\n",
       "2. '2'\n",
       "3. '3'\n",
       "4. '4'\n",
       "5. '5'\n",
       "\n",
       "\n"
      ],
      "text/plain": [
       "[1] \"1\" \"2\" \"3\" \"4\" \"5\""
      ]
     },
     "metadata": {},
     "output_type": "display_data"
    }
   ],
   "source": [
    "x  <-  1:5\n",
    "y  <- as.character(x)\n",
    "y"
   ]
  },
  {
   "cell_type": "code",
   "execution_count": 67,
   "metadata": {},
   "outputs": [
    {
     "data": {
      "text/html": [
       "<ol class=list-inline>\n",
       "\t<li>1</li>\n",
       "\t<li>2</li>\n",
       "\t<li>3</li>\n",
       "\t<li>4</li>\n",
       "\t<li>5</li>\n",
       "</ol>\n"
      ],
      "text/latex": [
       "\\begin{enumerate*}\n",
       "\\item 1\n",
       "\\item 2\n",
       "\\item 3\n",
       "\\item 4\n",
       "\\item 5\n",
       "\\end{enumerate*}\n"
      ],
      "text/markdown": [
       "1. 1\n",
       "2. 2\n",
       "3. 3\n",
       "4. 4\n",
       "5. 5\n",
       "\n",
       "\n"
      ],
      "text/plain": [
       "[1] 1 2 3 4 5"
      ]
     },
     "metadata": {},
     "output_type": "display_data"
    }
   ],
   "source": [
    "as.numeric(y)"
   ]
  },
  {
   "cell_type": "code",
   "execution_count": null,
   "metadata": {},
   "outputs": [],
   "source": [
    "NA : not available"
   ]
  },
  {
   "cell_type": "code",
   "execution_count": 68,
   "metadata": {},
   "outputs": [
    {
     "name": "stderr",
     "output_type": "stream",
     "text": [
      "Warning message in eval(expr, envir, enclos):\n",
      "\"NAs introduced by coercion\""
     ]
    },
    {
     "data": {
      "text/html": [
       "<ol class=list-inline>\n",
       "\t<li>1</li>\n",
       "\t<li>3</li>\n",
       "\t<li>&lt;NA&gt;</li>\n",
       "</ol>\n"
      ],
      "text/latex": [
       "\\begin{enumerate*}\n",
       "\\item 1\n",
       "\\item 3\n",
       "\\item <NA>\n",
       "\\end{enumerate*}\n"
      ],
      "text/markdown": [
       "1. 1\n",
       "2. 3\n",
       "3. &lt;NA&gt;\n",
       "\n",
       "\n"
      ],
      "text/plain": [
       "[1]  1  3 NA"
      ]
     },
     "metadata": {},
     "output_type": "display_data"
    }
   ],
   "source": [
    "x  <- c(1, 3 , 'canada')\n",
    "as.numeric(x)"
   ]
  },
  {
   "cell_type": "code",
   "execution_count": null,
   "metadata": {},
   "outputs": [],
   "source": []
  },
  {
   "cell_type": "code",
   "execution_count": 69,
   "metadata": {},
   "outputs": [
    {
     "data": {
      "text/html": [
       "<ol class=list-inline>\n",
       "\t<li>2</li>\n",
       "\t<li>4</li>\n",
       "\t<li>5</li>\n",
       "\t<li>5</li>\n",
       "\t<li>7</li>\n",
       "\t<li>8</li>\n",
       "\t<li>11</li>\n",
       "\t<li>12</li>\n",
       "\t<li>12</li>\n",
       "\t<li>16</li>\n",
       "\t<li>19</li>\n",
       "\t<li>21</li>\n",
       "\t<li>22</li>\n",
       "\t<li>27</li>\n",
       "\t<li>32</li>\n",
       "\t<li>36</li>\n",
       "\t<li>38</li>\n",
       "\t<li>53</li>\n",
       "\t<li>63</li>\n",
       "\t<li>65</li>\n",
       "\t<li>67</li>\n",
       "\t<li>84</li>\n",
       "\t<li>93</li>\n",
       "\t<li>93</li>\n",
       "\t<li>97</li>\n",
       "\t<li>97</li>\n",
       "\t<li>99</li>\n",
       "\t<li>111</li>\n",
       "\t<li>116</li>\n",
       "\t<li>118</li>\n",
       "\t<li>120</li>\n",
       "\t<li>135</li>\n",
       "\t<li>142</li>\n",
       "\t<li>207</li>\n",
       "\t<li>219</li>\n",
       "\t<li>232</li>\n",
       "\t<li>246</li>\n",
       "\t<li>250</li>\n",
       "\t<li>286</li>\n",
       "\t<li>293</li>\n",
       "\t<li>310</li>\n",
       "\t<li>321</li>\n",
       "\t<li>351</li>\n",
       "\t<li>364</li>\n",
       "\t<li>376</li>\n",
       "\t<li>413</li>\n",
       "\t<li>457</li>\n",
       "\t<li>517</li>\n",
       "\t<li>669</li>\n",
       "\t<li>805</li>\n",
       "\t<li>1257</li>\n",
       "</ol>\n"
      ],
      "text/latex": [
       "\\begin{enumerate*}\n",
       "\\item 2\n",
       "\\item 4\n",
       "\\item 5\n",
       "\\item 5\n",
       "\\item 7\n",
       "\\item 8\n",
       "\\item 11\n",
       "\\item 12\n",
       "\\item 12\n",
       "\\item 16\n",
       "\\item 19\n",
       "\\item 21\n",
       "\\item 22\n",
       "\\item 27\n",
       "\\item 32\n",
       "\\item 36\n",
       "\\item 38\n",
       "\\item 53\n",
       "\\item 63\n",
       "\\item 65\n",
       "\\item 67\n",
       "\\item 84\n",
       "\\item 93\n",
       "\\item 93\n",
       "\\item 97\n",
       "\\item 97\n",
       "\\item 99\n",
       "\\item 111\n",
       "\\item 116\n",
       "\\item 118\n",
       "\\item 120\n",
       "\\item 135\n",
       "\\item 142\n",
       "\\item 207\n",
       "\\item 219\n",
       "\\item 232\n",
       "\\item 246\n",
       "\\item 250\n",
       "\\item 286\n",
       "\\item 293\n",
       "\\item 310\n",
       "\\item 321\n",
       "\\item 351\n",
       "\\item 364\n",
       "\\item 376\n",
       "\\item 413\n",
       "\\item 457\n",
       "\\item 517\n",
       "\\item 669\n",
       "\\item 805\n",
       "\\item 1257\n",
       "\\end{enumerate*}\n"
      ],
      "text/markdown": [
       "1. 2\n",
       "2. 4\n",
       "3. 5\n",
       "4. 5\n",
       "5. 7\n",
       "6. 8\n",
       "7. 11\n",
       "8. 12\n",
       "9. 12\n",
       "10. 16\n",
       "11. 19\n",
       "12. 21\n",
       "13. 22\n",
       "14. 27\n",
       "15. 32\n",
       "16. 36\n",
       "17. 38\n",
       "18. 53\n",
       "19. 63\n",
       "20. 65\n",
       "21. 67\n",
       "22. 84\n",
       "23. 93\n",
       "24. 93\n",
       "25. 97\n",
       "26. 97\n",
       "27. 99\n",
       "28. 111\n",
       "29. 116\n",
       "30. 118\n",
       "31. 120\n",
       "32. 135\n",
       "33. 142\n",
       "34. 207\n",
       "35. 219\n",
       "36. 232\n",
       "37. 246\n",
       "38. 250\n",
       "39. 286\n",
       "40. 293\n",
       "41. 310\n",
       "42. 321\n",
       "43. 351\n",
       "44. 364\n",
       "45. 376\n",
       "46. 413\n",
       "47. 457\n",
       "48. 517\n",
       "49. 669\n",
       "50. 805\n",
       "51. 1257\n",
       "\n",
       "\n"
      ],
      "text/plain": [
       " [1]    2    4    5    5    7    8   11   12   12   16   19   21   22   27   32\n",
       "[16]   36   38   53   63   65   67   84   93   93   97   97   99  111  116  118\n",
       "[31]  120  135  142  207  219  232  246  250  286  293  310  321  351  364  376\n",
       "[46]  413  457  517  669  805 1257"
      ]
     },
     "metadata": {},
     "output_type": "display_data"
    }
   ],
   "source": [
    "sort(murders$total)"
   ]
  },
  {
   "cell_type": "code",
   "execution_count": 70,
   "metadata": {},
   "outputs": [
    {
     "data": {
      "text/html": [
       "<ol class=list-inline>\n",
       "\t<li>46</li>\n",
       "\t<li>35</li>\n",
       "\t<li>30</li>\n",
       "\t<li>51</li>\n",
       "\t<li>12</li>\n",
       "\t<li>42</li>\n",
       "\t<li>20</li>\n",
       "\t<li>13</li>\n",
       "\t<li>27</li>\n",
       "\t<li>40</li>\n",
       "\t<li>2</li>\n",
       "\t<li>16</li>\n",
       "\t<li>45</li>\n",
       "\t<li>49</li>\n",
       "\t<li>28</li>\n",
       "\t<li>38</li>\n",
       "\t<li>8</li>\n",
       "\t<li>24</li>\n",
       "\t<li>17</li>\n",
       "\t<li>6</li>\n",
       "\t<li>32</li>\n",
       "\t<li>29</li>\n",
       "\t<li>4</li>\n",
       "\t<li>48</li>\n",
       "\t<li>7</li>\n",
       "\t<li>50</li>\n",
       "\t<li>9</li>\n",
       "\t<li>37</li>\n",
       "\t<li>18</li>\n",
       "\t<li>22</li>\n",
       "\t<li>25</li>\n",
       "\t<li>1</li>\n",
       "\t<li>15</li>\n",
       "\t<li>41</li>\n",
       "\t<li>43</li>\n",
       "\t<li>3</li>\n",
       "\t<li>31</li>\n",
       "\t<li>47</li>\n",
       "\t<li>34</li>\n",
       "\t<li>21</li>\n",
       "\t<li>36</li>\n",
       "\t<li>26</li>\n",
       "\t<li>19</li>\n",
       "\t<li>14</li>\n",
       "\t<li>11</li>\n",
       "\t<li>23</li>\n",
       "\t<li>39</li>\n",
       "\t<li>33</li>\n",
       "\t<li>10</li>\n",
       "\t<li>44</li>\n",
       "\t<li>5</li>\n",
       "</ol>\n"
      ],
      "text/latex": [
       "\\begin{enumerate*}\n",
       "\\item 46\n",
       "\\item 35\n",
       "\\item 30\n",
       "\\item 51\n",
       "\\item 12\n",
       "\\item 42\n",
       "\\item 20\n",
       "\\item 13\n",
       "\\item 27\n",
       "\\item 40\n",
       "\\item 2\n",
       "\\item 16\n",
       "\\item 45\n",
       "\\item 49\n",
       "\\item 28\n",
       "\\item 38\n",
       "\\item 8\n",
       "\\item 24\n",
       "\\item 17\n",
       "\\item 6\n",
       "\\item 32\n",
       "\\item 29\n",
       "\\item 4\n",
       "\\item 48\n",
       "\\item 7\n",
       "\\item 50\n",
       "\\item 9\n",
       "\\item 37\n",
       "\\item 18\n",
       "\\item 22\n",
       "\\item 25\n",
       "\\item 1\n",
       "\\item 15\n",
       "\\item 41\n",
       "\\item 43\n",
       "\\item 3\n",
       "\\item 31\n",
       "\\item 47\n",
       "\\item 34\n",
       "\\item 21\n",
       "\\item 36\n",
       "\\item 26\n",
       "\\item 19\n",
       "\\item 14\n",
       "\\item 11\n",
       "\\item 23\n",
       "\\item 39\n",
       "\\item 33\n",
       "\\item 10\n",
       "\\item 44\n",
       "\\item 5\n",
       "\\end{enumerate*}\n"
      ],
      "text/markdown": [
       "1. 46\n",
       "2. 35\n",
       "3. 30\n",
       "4. 51\n",
       "5. 12\n",
       "6. 42\n",
       "7. 20\n",
       "8. 13\n",
       "9. 27\n",
       "10. 40\n",
       "11. 2\n",
       "12. 16\n",
       "13. 45\n",
       "14. 49\n",
       "15. 28\n",
       "16. 38\n",
       "17. 8\n",
       "18. 24\n",
       "19. 17\n",
       "20. 6\n",
       "21. 32\n",
       "22. 29\n",
       "23. 4\n",
       "24. 48\n",
       "25. 7\n",
       "26. 50\n",
       "27. 9\n",
       "28. 37\n",
       "29. 18\n",
       "30. 22\n",
       "31. 25\n",
       "32. 1\n",
       "33. 15\n",
       "34. 41\n",
       "35. 43\n",
       "36. 3\n",
       "37. 31\n",
       "38. 47\n",
       "39. 34\n",
       "40. 21\n",
       "41. 36\n",
       "42. 26\n",
       "43. 19\n",
       "44. 14\n",
       "45. 11\n",
       "46. 23\n",
       "47. 39\n",
       "48. 33\n",
       "49. 10\n",
       "50. 44\n",
       "51. 5\n",
       "\n",
       "\n"
      ],
      "text/plain": [
       " [1] 46 35 30 51 12 42 20 13 27 40  2 16 45 49 28 38  8 24 17  6 32 29  4 48  7\n",
       "[26] 50  9 37 18 22 25  1 15 41 43  3 31 47 34 21 36 26 19 14 11 23 39 33 10 44\n",
       "[51]  5"
      ]
     },
     "metadata": {},
     "output_type": "display_data"
    }
   ],
   "source": [
    "order(murders$total)"
   ]
  },
  {
   "cell_type": "code",
   "execution_count": 71,
   "metadata": {},
   "outputs": [],
   "source": [
    "x  <- c(31,4,15,92,65)"
   ]
  },
  {
   "cell_type": "code",
   "execution_count": 72,
   "metadata": {},
   "outputs": [
    {
     "data": {
      "text/html": [
       "<ol class=list-inline>\n",
       "\t<li>31</li>\n",
       "\t<li>4</li>\n",
       "\t<li>15</li>\n",
       "\t<li>92</li>\n",
       "\t<li>65</li>\n",
       "</ol>\n"
      ],
      "text/latex": [
       "\\begin{enumerate*}\n",
       "\\item 31\n",
       "\\item 4\n",
       "\\item 15\n",
       "\\item 92\n",
       "\\item 65\n",
       "\\end{enumerate*}\n"
      ],
      "text/markdown": [
       "1. 31\n",
       "2. 4\n",
       "3. 15\n",
       "4. 92\n",
       "5. 65\n",
       "\n",
       "\n"
      ],
      "text/plain": [
       "[1] 31  4 15 92 65"
      ]
     },
     "metadata": {},
     "output_type": "display_data"
    }
   ],
   "source": [
    "x"
   ]
  },
  {
   "cell_type": "code",
   "execution_count": 73,
   "metadata": {},
   "outputs": [
    {
     "data": {
      "text/html": [
       "<ol class=list-inline>\n",
       "\t<li>4</li>\n",
       "\t<li>15</li>\n",
       "\t<li>31</li>\n",
       "\t<li>65</li>\n",
       "\t<li>92</li>\n",
       "</ol>\n"
      ],
      "text/latex": [
       "\\begin{enumerate*}\n",
       "\\item 4\n",
       "\\item 15\n",
       "\\item 31\n",
       "\\item 65\n",
       "\\item 92\n",
       "\\end{enumerate*}\n"
      ],
      "text/markdown": [
       "1. 4\n",
       "2. 15\n",
       "3. 31\n",
       "4. 65\n",
       "5. 92\n",
       "\n",
       "\n"
      ],
      "text/plain": [
       "[1]  4 15 31 65 92"
      ]
     },
     "metadata": {},
     "output_type": "display_data"
    }
   ],
   "source": [
    "sort(x)"
   ]
  },
  {
   "cell_type": "code",
   "execution_count": 75,
   "metadata": {},
   "outputs": [
    {
     "data": {
      "text/html": [
       "<ol class=list-inline>\n",
       "\t<li>2</li>\n",
       "\t<li>3</li>\n",
       "\t<li>1</li>\n",
       "\t<li>5</li>\n",
       "\t<li>4</li>\n",
       "</ol>\n"
      ],
      "text/latex": [
       "\\begin{enumerate*}\n",
       "\\item 2\n",
       "\\item 3\n",
       "\\item 1\n",
       "\\item 5\n",
       "\\item 4\n",
       "\\end{enumerate*}\n"
      ],
      "text/markdown": [
       "1. 2\n",
       "2. 3\n",
       "3. 1\n",
       "4. 5\n",
       "5. 4\n",
       "\n",
       "\n"
      ],
      "text/plain": [
       "[1] 2 3 1 5 4"
      ]
     },
     "metadata": {},
     "output_type": "display_data"
    }
   ],
   "source": [
    "index  <- order(x)\n",
    "index"
   ]
  },
  {
   "cell_type": "code",
   "execution_count": 76,
   "metadata": {},
   "outputs": [
    {
     "data": {
      "text/html": [
       "<ol class=list-inline>\n",
       "\t<li>4</li>\n",
       "\t<li>15</li>\n",
       "\t<li>31</li>\n",
       "\t<li>65</li>\n",
       "\t<li>92</li>\n",
       "</ol>\n"
      ],
      "text/latex": [
       "\\begin{enumerate*}\n",
       "\\item 4\n",
       "\\item 15\n",
       "\\item 31\n",
       "\\item 65\n",
       "\\item 92\n",
       "\\end{enumerate*}\n"
      ],
      "text/markdown": [
       "1. 4\n",
       "2. 15\n",
       "3. 31\n",
       "4. 65\n",
       "5. 92\n",
       "\n",
       "\n"
      ],
      "text/plain": [
       "[1]  4 15 31 65 92"
      ]
     },
     "metadata": {},
     "output_type": "display_data"
    }
   ],
   "source": [
    "x[index]"
   ]
  },
  {
   "cell_type": "code",
   "execution_count": null,
   "metadata": {},
   "outputs": [],
   "source": []
  },
  {
   "cell_type": "code",
   "execution_count": 77,
   "metadata": {},
   "outputs": [
    {
     "data": {
      "text/html": [
       "<ol class=list-inline>\n",
       "\t<li>'VT'</li>\n",
       "\t<li>'ND'</li>\n",
       "\t<li>'NH'</li>\n",
       "\t<li>'WY'</li>\n",
       "\t<li>'HI'</li>\n",
       "\t<li>'SD'</li>\n",
       "\t<li>'ME'</li>\n",
       "\t<li>'ID'</li>\n",
       "\t<li>'MT'</li>\n",
       "\t<li>'RI'</li>\n",
       "\t<li>'AK'</li>\n",
       "\t<li>'IA'</li>\n",
       "\t<li>'UT'</li>\n",
       "\t<li>'WV'</li>\n",
       "\t<li>'NE'</li>\n",
       "\t<li>'OR'</li>\n",
       "\t<li>'DE'</li>\n",
       "\t<li>'MN'</li>\n",
       "\t<li>'KS'</li>\n",
       "\t<li>'CO'</li>\n",
       "\t<li>'NM'</li>\n",
       "\t<li>'NV'</li>\n",
       "\t<li>'AR'</li>\n",
       "\t<li>'WA'</li>\n",
       "\t<li>'CT'</li>\n",
       "\t<li>'WI'</li>\n",
       "\t<li>'DC'</li>\n",
       "\t<li>'OK'</li>\n",
       "\t<li>'KY'</li>\n",
       "\t<li>'MA'</li>\n",
       "\t<li>'MS'</li>\n",
       "\t<li>'AL'</li>\n",
       "\t<li>'IN'</li>\n",
       "\t<li>'SC'</li>\n",
       "\t<li>'TN'</li>\n",
       "\t<li>'AZ'</li>\n",
       "\t<li>'NJ'</li>\n",
       "\t<li>'VA'</li>\n",
       "\t<li>'NC'</li>\n",
       "\t<li>'MD'</li>\n",
       "\t<li>'OH'</li>\n",
       "\t<li>'MO'</li>\n",
       "\t<li>'LA'</li>\n",
       "\t<li>'IL'</li>\n",
       "\t<li>'GA'</li>\n",
       "\t<li>'MI'</li>\n",
       "\t<li>'PA'</li>\n",
       "\t<li>'NY'</li>\n",
       "\t<li>'FL'</li>\n",
       "\t<li>'TX'</li>\n",
       "\t<li>'CA'</li>\n",
       "</ol>\n"
      ],
      "text/latex": [
       "\\begin{enumerate*}\n",
       "\\item 'VT'\n",
       "\\item 'ND'\n",
       "\\item 'NH'\n",
       "\\item 'WY'\n",
       "\\item 'HI'\n",
       "\\item 'SD'\n",
       "\\item 'ME'\n",
       "\\item 'ID'\n",
       "\\item 'MT'\n",
       "\\item 'RI'\n",
       "\\item 'AK'\n",
       "\\item 'IA'\n",
       "\\item 'UT'\n",
       "\\item 'WV'\n",
       "\\item 'NE'\n",
       "\\item 'OR'\n",
       "\\item 'DE'\n",
       "\\item 'MN'\n",
       "\\item 'KS'\n",
       "\\item 'CO'\n",
       "\\item 'NM'\n",
       "\\item 'NV'\n",
       "\\item 'AR'\n",
       "\\item 'WA'\n",
       "\\item 'CT'\n",
       "\\item 'WI'\n",
       "\\item 'DC'\n",
       "\\item 'OK'\n",
       "\\item 'KY'\n",
       "\\item 'MA'\n",
       "\\item 'MS'\n",
       "\\item 'AL'\n",
       "\\item 'IN'\n",
       "\\item 'SC'\n",
       "\\item 'TN'\n",
       "\\item 'AZ'\n",
       "\\item 'NJ'\n",
       "\\item 'VA'\n",
       "\\item 'NC'\n",
       "\\item 'MD'\n",
       "\\item 'OH'\n",
       "\\item 'MO'\n",
       "\\item 'LA'\n",
       "\\item 'IL'\n",
       "\\item 'GA'\n",
       "\\item 'MI'\n",
       "\\item 'PA'\n",
       "\\item 'NY'\n",
       "\\item 'FL'\n",
       "\\item 'TX'\n",
       "\\item 'CA'\n",
       "\\end{enumerate*}\n"
      ],
      "text/markdown": [
       "1. 'VT'\n",
       "2. 'ND'\n",
       "3. 'NH'\n",
       "4. 'WY'\n",
       "5. 'HI'\n",
       "6. 'SD'\n",
       "7. 'ME'\n",
       "8. 'ID'\n",
       "9. 'MT'\n",
       "10. 'RI'\n",
       "11. 'AK'\n",
       "12. 'IA'\n",
       "13. 'UT'\n",
       "14. 'WV'\n",
       "15. 'NE'\n",
       "16. 'OR'\n",
       "17. 'DE'\n",
       "18. 'MN'\n",
       "19. 'KS'\n",
       "20. 'CO'\n",
       "21. 'NM'\n",
       "22. 'NV'\n",
       "23. 'AR'\n",
       "24. 'WA'\n",
       "25. 'CT'\n",
       "26. 'WI'\n",
       "27. 'DC'\n",
       "28. 'OK'\n",
       "29. 'KY'\n",
       "30. 'MA'\n",
       "31. 'MS'\n",
       "32. 'AL'\n",
       "33. 'IN'\n",
       "34. 'SC'\n",
       "35. 'TN'\n",
       "36. 'AZ'\n",
       "37. 'NJ'\n",
       "38. 'VA'\n",
       "39. 'NC'\n",
       "40. 'MD'\n",
       "41. 'OH'\n",
       "42. 'MO'\n",
       "43. 'LA'\n",
       "44. 'IL'\n",
       "45. 'GA'\n",
       "46. 'MI'\n",
       "47. 'PA'\n",
       "48. 'NY'\n",
       "49. 'FL'\n",
       "50. 'TX'\n",
       "51. 'CA'\n",
       "\n",
       "\n"
      ],
      "text/plain": [
       " [1] \"VT\" \"ND\" \"NH\" \"WY\" \"HI\" \"SD\" \"ME\" \"ID\" \"MT\" \"RI\" \"AK\" \"IA\" \"UT\" \"WV\" \"NE\"\n",
       "[16] \"OR\" \"DE\" \"MN\" \"KS\" \"CO\" \"NM\" \"NV\" \"AR\" \"WA\" \"CT\" \"WI\" \"DC\" \"OK\" \"KY\" \"MA\"\n",
       "[31] \"MS\" \"AL\" \"IN\" \"SC\" \"TN\" \"AZ\" \"NJ\" \"VA\" \"NC\" \"MD\" \"OH\" \"MO\" \"LA\" \"IL\" \"GA\"\n",
       "[46] \"MI\" \"PA\" \"NY\" \"FL\" \"TX\" \"CA\""
      ]
     },
     "metadata": {},
     "output_type": "display_data"
    }
   ],
   "source": [
    "indexx  <- order(murders$total)\n",
    "murders$abb[indexx]"
   ]
  },
  {
   "cell_type": "code",
   "execution_count": 78,
   "metadata": {},
   "outputs": [
    {
     "data": {
      "text/html": [
       "1257"
      ],
      "text/latex": [
       "1257"
      ],
      "text/markdown": [
       "1257"
      ],
      "text/plain": [
       "[1] 1257"
      ]
     },
     "metadata": {},
     "output_type": "display_data"
    }
   ],
   "source": [
    "max(murders$total)"
   ]
  },
  {
   "cell_type": "code",
   "execution_count": 80,
   "metadata": {},
   "outputs": [
    {
     "data": {
      "text/html": [
       "5"
      ],
      "text/latex": [
       "5"
      ],
      "text/markdown": [
       "5"
      ],
      "text/plain": [
       "[1] 5"
      ]
     },
     "metadata": {},
     "output_type": "display_data"
    }
   ],
   "source": [
    "imax  <-  which.max(murders$total)\n",
    "imax"
   ]
  },
  {
   "cell_type": "code",
   "execution_count": 81,
   "metadata": {},
   "outputs": [
    {
     "data": {
      "text/html": [
       "'California'"
      ],
      "text/latex": [
       "'California'"
      ],
      "text/markdown": [
       "'California'"
      ],
      "text/plain": [
       "[1] \"California\""
      ]
     },
     "metadata": {},
     "output_type": "display_data"
    }
   ],
   "source": [
    "murders$state[imax]"
   ]
  },
  {
   "cell_type": "code",
   "execution_count": null,
   "metadata": {},
   "outputs": [],
   "source": []
  },
  {
   "cell_type": "code",
   "execution_count": 82,
   "metadata": {},
   "outputs": [],
   "source": [
    "x  <- c(31,4,15,92,65)"
   ]
  },
  {
   "cell_type": "code",
   "execution_count": 84,
   "metadata": {},
   "outputs": [
    {
     "data": {
      "text/html": [
       "<ol class=list-inline>\n",
       "\t<li>3</li>\n",
       "\t<li>1</li>\n",
       "\t<li>2</li>\n",
       "\t<li>5</li>\n",
       "\t<li>4</li>\n",
       "</ol>\n"
      ],
      "text/latex": [
       "\\begin{enumerate*}\n",
       "\\item 3\n",
       "\\item 1\n",
       "\\item 2\n",
       "\\item 5\n",
       "\\item 4\n",
       "\\end{enumerate*}\n"
      ],
      "text/markdown": [
       "1. 3\n",
       "2. 1\n",
       "3. 2\n",
       "4. 5\n",
       "5. 4\n",
       "\n",
       "\n"
      ],
      "text/plain": [
       "[1] 3 1 2 5 4"
      ]
     },
     "metadata": {},
     "output_type": "display_data"
    }
   ],
   "source": [
    "rank(x)"
   ]
  },
  {
   "cell_type": "code",
   "execution_count": null,
   "metadata": {},
   "outputs": [],
   "source": []
  },
  {
   "cell_type": "code",
   "execution_count": 85,
   "metadata": {},
   "outputs": [],
   "source": [
    "murder_rate  <-  murders$total / murders$population * 100000"
   ]
  },
  {
   "cell_type": "code",
   "execution_count": 87,
   "metadata": {},
   "outputs": [
    {
     "data": {
      "text/html": [
       "16.4527531771264"
      ],
      "text/latex": [
       "16.4527531771264"
      ],
      "text/markdown": [
       "16.4527531771264"
      ],
      "text/plain": [
       "[1] 16.45275"
      ]
     },
     "metadata": {},
     "output_type": "display_data"
    }
   ],
   "source": [
    "max(murder_rate)"
   ]
  },
  {
   "cell_type": "code",
   "execution_count": 88,
   "metadata": {},
   "outputs": [
    {
     "data": {
      "text/html": [
       "<ol class=list-inline>\n",
       "\t<li>'District of Columbia'</li>\n",
       "\t<li>'Louisiana'</li>\n",
       "\t<li>'Missouri'</li>\n",
       "\t<li>'Maryland'</li>\n",
       "\t<li>'South Carolina'</li>\n",
       "\t<li>'Delaware'</li>\n",
       "\t<li>'Michigan'</li>\n",
       "\t<li>'Mississippi'</li>\n",
       "\t<li>'Georgia'</li>\n",
       "\t<li>'Arizona'</li>\n",
       "\t<li>'Pennsylvania'</li>\n",
       "\t<li>'Tennessee'</li>\n",
       "\t<li>'Florida'</li>\n",
       "\t<li>'California'</li>\n",
       "\t<li>'New Mexico'</li>\n",
       "\t<li>'Texas'</li>\n",
       "\t<li>'Arkansas'</li>\n",
       "\t<li>'Virginia'</li>\n",
       "\t<li>'Nevada'</li>\n",
       "\t<li>'North Carolina'</li>\n",
       "\t<li>'Oklahoma'</li>\n",
       "\t<li>'Illinois'</li>\n",
       "\t<li>'Alabama'</li>\n",
       "\t<li>'New Jersey'</li>\n",
       "\t<li>'Connecticut'</li>\n",
       "\t<li>'Ohio'</li>\n",
       "\t<li>'Alaska'</li>\n",
       "\t<li>'Kentucky'</li>\n",
       "\t<li>'New York'</li>\n",
       "\t<li>'Kansas'</li>\n",
       "\t<li>'Indiana'</li>\n",
       "\t<li>'Massachusetts'</li>\n",
       "\t<li>'Nebraska'</li>\n",
       "\t<li>'Wisconsin'</li>\n",
       "\t<li>'Rhode Island'</li>\n",
       "\t<li>'West Virginia'</li>\n",
       "\t<li>'Washington'</li>\n",
       "\t<li>'Colorado'</li>\n",
       "\t<li>'Montana'</li>\n",
       "\t<li>'Minnesota'</li>\n",
       "\t<li>'South Dakota'</li>\n",
       "\t<li>'Oregon'</li>\n",
       "\t<li>'Wyoming'</li>\n",
       "\t<li>'Maine'</li>\n",
       "\t<li>'Utah'</li>\n",
       "\t<li>'Idaho'</li>\n",
       "\t<li>'Iowa'</li>\n",
       "\t<li>'North Dakota'</li>\n",
       "\t<li>'Hawaii'</li>\n",
       "\t<li>'New Hampshire'</li>\n",
       "\t<li>'Vermont'</li>\n",
       "</ol>\n"
      ],
      "text/latex": [
       "\\begin{enumerate*}\n",
       "\\item 'District of Columbia'\n",
       "\\item 'Louisiana'\n",
       "\\item 'Missouri'\n",
       "\\item 'Maryland'\n",
       "\\item 'South Carolina'\n",
       "\\item 'Delaware'\n",
       "\\item 'Michigan'\n",
       "\\item 'Mississippi'\n",
       "\\item 'Georgia'\n",
       "\\item 'Arizona'\n",
       "\\item 'Pennsylvania'\n",
       "\\item 'Tennessee'\n",
       "\\item 'Florida'\n",
       "\\item 'California'\n",
       "\\item 'New Mexico'\n",
       "\\item 'Texas'\n",
       "\\item 'Arkansas'\n",
       "\\item 'Virginia'\n",
       "\\item 'Nevada'\n",
       "\\item 'North Carolina'\n",
       "\\item 'Oklahoma'\n",
       "\\item 'Illinois'\n",
       "\\item 'Alabama'\n",
       "\\item 'New Jersey'\n",
       "\\item 'Connecticut'\n",
       "\\item 'Ohio'\n",
       "\\item 'Alaska'\n",
       "\\item 'Kentucky'\n",
       "\\item 'New York'\n",
       "\\item 'Kansas'\n",
       "\\item 'Indiana'\n",
       "\\item 'Massachusetts'\n",
       "\\item 'Nebraska'\n",
       "\\item 'Wisconsin'\n",
       "\\item 'Rhode Island'\n",
       "\\item 'West Virginia'\n",
       "\\item 'Washington'\n",
       "\\item 'Colorado'\n",
       "\\item 'Montana'\n",
       "\\item 'Minnesota'\n",
       "\\item 'South Dakota'\n",
       "\\item 'Oregon'\n",
       "\\item 'Wyoming'\n",
       "\\item 'Maine'\n",
       "\\item 'Utah'\n",
       "\\item 'Idaho'\n",
       "\\item 'Iowa'\n",
       "\\item 'North Dakota'\n",
       "\\item 'Hawaii'\n",
       "\\item 'New Hampshire'\n",
       "\\item 'Vermont'\n",
       "\\end{enumerate*}\n"
      ],
      "text/markdown": [
       "1. 'District of Columbia'\n",
       "2. 'Louisiana'\n",
       "3. 'Missouri'\n",
       "4. 'Maryland'\n",
       "5. 'South Carolina'\n",
       "6. 'Delaware'\n",
       "7. 'Michigan'\n",
       "8. 'Mississippi'\n",
       "9. 'Georgia'\n",
       "10. 'Arizona'\n",
       "11. 'Pennsylvania'\n",
       "12. 'Tennessee'\n",
       "13. 'Florida'\n",
       "14. 'California'\n",
       "15. 'New Mexico'\n",
       "16. 'Texas'\n",
       "17. 'Arkansas'\n",
       "18. 'Virginia'\n",
       "19. 'Nevada'\n",
       "20. 'North Carolina'\n",
       "21. 'Oklahoma'\n",
       "22. 'Illinois'\n",
       "23. 'Alabama'\n",
       "24. 'New Jersey'\n",
       "25. 'Connecticut'\n",
       "26. 'Ohio'\n",
       "27. 'Alaska'\n",
       "28. 'Kentucky'\n",
       "29. 'New York'\n",
       "30. 'Kansas'\n",
       "31. 'Indiana'\n",
       "32. 'Massachusetts'\n",
       "33. 'Nebraska'\n",
       "34. 'Wisconsin'\n",
       "35. 'Rhode Island'\n",
       "36. 'West Virginia'\n",
       "37. 'Washington'\n",
       "38. 'Colorado'\n",
       "39. 'Montana'\n",
       "40. 'Minnesota'\n",
       "41. 'South Dakota'\n",
       "42. 'Oregon'\n",
       "43. 'Wyoming'\n",
       "44. 'Maine'\n",
       "45. 'Utah'\n",
       "46. 'Idaho'\n",
       "47. 'Iowa'\n",
       "48. 'North Dakota'\n",
       "49. 'Hawaii'\n",
       "50. 'New Hampshire'\n",
       "51. 'Vermont'\n",
       "\n",
       "\n"
      ],
      "text/plain": [
       " [1] \"District of Columbia\" \"Louisiana\"            \"Missouri\"            \n",
       " [4] \"Maryland\"             \"South Carolina\"       \"Delaware\"            \n",
       " [7] \"Michigan\"             \"Mississippi\"          \"Georgia\"             \n",
       "[10] \"Arizona\"              \"Pennsylvania\"         \"Tennessee\"           \n",
       "[13] \"Florida\"              \"California\"           \"New Mexico\"          \n",
       "[16] \"Texas\"                \"Arkansas\"             \"Virginia\"            \n",
       "[19] \"Nevada\"               \"North Carolina\"       \"Oklahoma\"            \n",
       "[22] \"Illinois\"             \"Alabama\"              \"New Jersey\"          \n",
       "[25] \"Connecticut\"          \"Ohio\"                 \"Alaska\"              \n",
       "[28] \"Kentucky\"             \"New York\"             \"Kansas\"              \n",
       "[31] \"Indiana\"              \"Massachusetts\"        \"Nebraska\"            \n",
       "[34] \"Wisconsin\"            \"Rhode Island\"         \"West Virginia\"       \n",
       "[37] \"Washington\"           \"Colorado\"             \"Montana\"             \n",
       "[40] \"Minnesota\"            \"South Dakota\"         \"Oregon\"              \n",
       "[43] \"Wyoming\"              \"Maine\"                \"Utah\"                \n",
       "[46] \"Idaho\"                \"Iowa\"                 \"North Dakota\"        \n",
       "[49] \"Hawaii\"               \"New Hampshire\"        \"Vermont\"             "
      ]
     },
     "metadata": {},
     "output_type": "display_data"
    }
   ],
   "source": [
    "murders$state[order(murder_rate, decreasing=TRUE)]"
   ]
  },
  {
   "cell_type": "code",
   "execution_count": 90,
   "metadata": {},
   "outputs": [
    {
     "data": {
      "text/html": [
       "0.319621057274495"
      ],
      "text/latex": [
       "0.319621057274495"
      ],
      "text/markdown": [
       "0.319621057274495"
      ],
      "text/plain": [
       "[1] 0.3196211"
      ]
     },
     "metadata": {},
     "output_type": "display_data"
    }
   ],
   "source": [
    "min(murder_rate)"
   ]
  },
  {
   "cell_type": "code",
   "execution_count": null,
   "metadata": {},
   "outputs": [],
   "source": []
  },
  {
   "cell_type": "markdown",
   "metadata": {},
   "source": [
    "# Section 3"
   ]
  },
  {
   "cell_type": "code",
   "execution_count": null,
   "metadata": {},
   "outputs": [],
   "source": []
  },
  {
   "cell_type": "code",
   "execution_count": 91,
   "metadata": {},
   "outputs": [],
   "source": [
    "index  <- murder_rate < 0.71"
   ]
  },
  {
   "cell_type": "code",
   "execution_count": 92,
   "metadata": {},
   "outputs": [
    {
     "data": {
      "text/html": [
       "<ol class=list-inline>\n",
       "\t<li>FALSE</li>\n",
       "\t<li>FALSE</li>\n",
       "\t<li>FALSE</li>\n",
       "\t<li>FALSE</li>\n",
       "\t<li>FALSE</li>\n",
       "\t<li>FALSE</li>\n",
       "\t<li>FALSE</li>\n",
       "\t<li>FALSE</li>\n",
       "\t<li>FALSE</li>\n",
       "\t<li>FALSE</li>\n",
       "\t<li>FALSE</li>\n",
       "\t<li>TRUE</li>\n",
       "\t<li>FALSE</li>\n",
       "\t<li>FALSE</li>\n",
       "\t<li>FALSE</li>\n",
       "\t<li>TRUE</li>\n",
       "\t<li>FALSE</li>\n",
       "\t<li>FALSE</li>\n",
       "\t<li>FALSE</li>\n",
       "\t<li>FALSE</li>\n",
       "\t<li>FALSE</li>\n",
       "\t<li>FALSE</li>\n",
       "\t<li>FALSE</li>\n",
       "\t<li>FALSE</li>\n",
       "\t<li>FALSE</li>\n",
       "\t<li>FALSE</li>\n",
       "\t<li>FALSE</li>\n",
       "\t<li>FALSE</li>\n",
       "\t<li>FALSE</li>\n",
       "\t<li>TRUE</li>\n",
       "\t<li>FALSE</li>\n",
       "\t<li>FALSE</li>\n",
       "\t<li>FALSE</li>\n",
       "\t<li>FALSE</li>\n",
       "\t<li>TRUE</li>\n",
       "\t<li>FALSE</li>\n",
       "\t<li>FALSE</li>\n",
       "\t<li>FALSE</li>\n",
       "\t<li>FALSE</li>\n",
       "\t<li>FALSE</li>\n",
       "\t<li>FALSE</li>\n",
       "\t<li>FALSE</li>\n",
       "\t<li>FALSE</li>\n",
       "\t<li>FALSE</li>\n",
       "\t<li>FALSE</li>\n",
       "\t<li>TRUE</li>\n",
       "\t<li>FALSE</li>\n",
       "\t<li>FALSE</li>\n",
       "\t<li>FALSE</li>\n",
       "\t<li>FALSE</li>\n",
       "\t<li>FALSE</li>\n",
       "</ol>\n"
      ],
      "text/latex": [
       "\\begin{enumerate*}\n",
       "\\item FALSE\n",
       "\\item FALSE\n",
       "\\item FALSE\n",
       "\\item FALSE\n",
       "\\item FALSE\n",
       "\\item FALSE\n",
       "\\item FALSE\n",
       "\\item FALSE\n",
       "\\item FALSE\n",
       "\\item FALSE\n",
       "\\item FALSE\n",
       "\\item TRUE\n",
       "\\item FALSE\n",
       "\\item FALSE\n",
       "\\item FALSE\n",
       "\\item TRUE\n",
       "\\item FALSE\n",
       "\\item FALSE\n",
       "\\item FALSE\n",
       "\\item FALSE\n",
       "\\item FALSE\n",
       "\\item FALSE\n",
       "\\item FALSE\n",
       "\\item FALSE\n",
       "\\item FALSE\n",
       "\\item FALSE\n",
       "\\item FALSE\n",
       "\\item FALSE\n",
       "\\item FALSE\n",
       "\\item TRUE\n",
       "\\item FALSE\n",
       "\\item FALSE\n",
       "\\item FALSE\n",
       "\\item FALSE\n",
       "\\item TRUE\n",
       "\\item FALSE\n",
       "\\item FALSE\n",
       "\\item FALSE\n",
       "\\item FALSE\n",
       "\\item FALSE\n",
       "\\item FALSE\n",
       "\\item FALSE\n",
       "\\item FALSE\n",
       "\\item FALSE\n",
       "\\item FALSE\n",
       "\\item TRUE\n",
       "\\item FALSE\n",
       "\\item FALSE\n",
       "\\item FALSE\n",
       "\\item FALSE\n",
       "\\item FALSE\n",
       "\\end{enumerate*}\n"
      ],
      "text/markdown": [
       "1. FALSE\n",
       "2. FALSE\n",
       "3. FALSE\n",
       "4. FALSE\n",
       "5. FALSE\n",
       "6. FALSE\n",
       "7. FALSE\n",
       "8. FALSE\n",
       "9. FALSE\n",
       "10. FALSE\n",
       "11. FALSE\n",
       "12. TRUE\n",
       "13. FALSE\n",
       "14. FALSE\n",
       "15. FALSE\n",
       "16. TRUE\n",
       "17. FALSE\n",
       "18. FALSE\n",
       "19. FALSE\n",
       "20. FALSE\n",
       "21. FALSE\n",
       "22. FALSE\n",
       "23. FALSE\n",
       "24. FALSE\n",
       "25. FALSE\n",
       "26. FALSE\n",
       "27. FALSE\n",
       "28. FALSE\n",
       "29. FALSE\n",
       "30. TRUE\n",
       "31. FALSE\n",
       "32. FALSE\n",
       "33. FALSE\n",
       "34. FALSE\n",
       "35. TRUE\n",
       "36. FALSE\n",
       "37. FALSE\n",
       "38. FALSE\n",
       "39. FALSE\n",
       "40. FALSE\n",
       "41. FALSE\n",
       "42. FALSE\n",
       "43. FALSE\n",
       "44. FALSE\n",
       "45. FALSE\n",
       "46. TRUE\n",
       "47. FALSE\n",
       "48. FALSE\n",
       "49. FALSE\n",
       "50. FALSE\n",
       "51. FALSE\n",
       "\n",
       "\n"
      ],
      "text/plain": [
       " [1] FALSE FALSE FALSE FALSE FALSE FALSE FALSE FALSE FALSE FALSE FALSE  TRUE\n",
       "[13] FALSE FALSE FALSE  TRUE FALSE FALSE FALSE FALSE FALSE FALSE FALSE FALSE\n",
       "[25] FALSE FALSE FALSE FALSE FALSE  TRUE FALSE FALSE FALSE FALSE  TRUE FALSE\n",
       "[37] FALSE FALSE FALSE FALSE FALSE FALSE FALSE FALSE FALSE  TRUE FALSE FALSE\n",
       "[49] FALSE FALSE FALSE"
      ]
     },
     "metadata": {},
     "output_type": "display_data"
    }
   ],
   "source": [
    "index"
   ]
  },
  {
   "cell_type": "code",
   "execution_count": 93,
   "metadata": {},
   "outputs": [
    {
     "data": {
      "text/html": [
       "<ol class=list-inline>\n",
       "\t<li>'Hawaii'</li>\n",
       "\t<li>'Iowa'</li>\n",
       "\t<li>'New Hampshire'</li>\n",
       "\t<li>'North Dakota'</li>\n",
       "\t<li>'Vermont'</li>\n",
       "</ol>\n"
      ],
      "text/latex": [
       "\\begin{enumerate*}\n",
       "\\item 'Hawaii'\n",
       "\\item 'Iowa'\n",
       "\\item 'New Hampshire'\n",
       "\\item 'North Dakota'\n",
       "\\item 'Vermont'\n",
       "\\end{enumerate*}\n"
      ],
      "text/markdown": [
       "1. 'Hawaii'\n",
       "2. 'Iowa'\n",
       "3. 'New Hampshire'\n",
       "4. 'North Dakota'\n",
       "5. 'Vermont'\n",
       "\n",
       "\n"
      ],
      "text/plain": [
       "[1] \"Hawaii\"        \"Iowa\"          \"New Hampshire\" \"North Dakota\" \n",
       "[5] \"Vermont\"      "
      ]
     },
     "metadata": {},
     "output_type": "display_data"
    }
   ],
   "source": [
    "murders$state[index]"
   ]
  },
  {
   "cell_type": "code",
   "execution_count": null,
   "metadata": {},
   "outputs": [],
   "source": []
  },
  {
   "cell_type": "code",
   "execution_count": 95,
   "metadata": {},
   "outputs": [
    {
     "data": {
      "text/html": [
       "5"
      ],
      "text/latex": [
       "5"
      ],
      "text/markdown": [
       "5"
      ],
      "text/plain": [
       "[1] 5"
      ]
     },
     "metadata": {},
     "output_type": "display_data"
    }
   ],
   "source": [
    "sum(index)"
   ]
  },
  {
   "cell_type": "code",
   "execution_count": null,
   "metadata": {},
   "outputs": [],
   "source": []
  },
  {
   "cell_type": "code",
   "execution_count": 97,
   "metadata": {},
   "outputs": [],
   "source": [
    "west  <- murders$region == 'West'\n",
    "safe  <- murder_rate <= 1"
   ]
  },
  {
   "cell_type": "code",
   "execution_count": 98,
   "metadata": {},
   "outputs": [],
   "source": [
    "index  <-  safe&west"
   ]
  },
  {
   "cell_type": "code",
   "execution_count": 99,
   "metadata": {},
   "outputs": [
    {
     "data": {
      "text/html": [
       "<ol class=list-inline>\n",
       "\t<li>'Hawaii'</li>\n",
       "\t<li>'Idaho'</li>\n",
       "\t<li>'Oregon'</li>\n",
       "\t<li>'Utah'</li>\n",
       "\t<li>'Wyoming'</li>\n",
       "</ol>\n"
      ],
      "text/latex": [
       "\\begin{enumerate*}\n",
       "\\item 'Hawaii'\n",
       "\\item 'Idaho'\n",
       "\\item 'Oregon'\n",
       "\\item 'Utah'\n",
       "\\item 'Wyoming'\n",
       "\\end{enumerate*}\n"
      ],
      "text/markdown": [
       "1. 'Hawaii'\n",
       "2. 'Idaho'\n",
       "3. 'Oregon'\n",
       "4. 'Utah'\n",
       "5. 'Wyoming'\n",
       "\n",
       "\n"
      ],
      "text/plain": [
       "[1] \"Hawaii\"  \"Idaho\"   \"Oregon\"  \"Utah\"    \"Wyoming\""
      ]
     },
     "metadata": {},
     "output_type": "display_data"
    }
   ],
   "source": [
    "murders$state[index]"
   ]
  },
  {
   "cell_type": "code",
   "execution_count": null,
   "metadata": {},
   "outputs": [],
   "source": []
  },
  {
   "cell_type": "code",
   "execution_count": 100,
   "metadata": {},
   "outputs": [],
   "source": [
    "x <- c(FALSE, TRUE, FALSE, FALSE, FALSE, TRUE, TRUE, TRUE)"
   ]
  },
  {
   "cell_type": "code",
   "execution_count": 101,
   "metadata": {},
   "outputs": [
    {
     "data": {
      "text/html": [
       "<ol class=list-inline>\n",
       "\t<li>2</li>\n",
       "\t<li>6</li>\n",
       "\t<li>7</li>\n",
       "\t<li>8</li>\n",
       "</ol>\n"
      ],
      "text/latex": [
       "\\begin{enumerate*}\n",
       "\\item 2\n",
       "\\item 6\n",
       "\\item 7\n",
       "\\item 8\n",
       "\\end{enumerate*}\n"
      ],
      "text/markdown": [
       "1. 2\n",
       "2. 6\n",
       "3. 7\n",
       "4. 8\n",
       "\n",
       "\n"
      ],
      "text/plain": [
       "[1] 2 6 7 8"
      ]
     },
     "metadata": {},
     "output_type": "display_data"
    }
   ],
   "source": [
    "which(x)"
   ]
  },
  {
   "cell_type": "code",
   "execution_count": null,
   "metadata": {},
   "outputs": [],
   "source": []
  },
  {
   "cell_type": "code",
   "execution_count": 102,
   "metadata": {},
   "outputs": [],
   "source": [
    "index  <- which(murders$state=='Massachusetts')"
   ]
  },
  {
   "cell_type": "code",
   "execution_count": 103,
   "metadata": {},
   "outputs": [
    {
     "data": {
      "text/html": [
       "22"
      ],
      "text/latex": [
       "22"
      ],
      "text/markdown": [
       "22"
      ],
      "text/plain": [
       "[1] 22"
      ]
     },
     "metadata": {},
     "output_type": "display_data"
    }
   ],
   "source": [
    "index"
   ]
  },
  {
   "cell_type": "code",
   "execution_count": 104,
   "metadata": {},
   "outputs": [
    {
     "data": {
      "text/html": [
       "1.80217907886962"
      ],
      "text/latex": [
       "1.80217907886962"
      ],
      "text/markdown": [
       "1.80217907886962"
      ],
      "text/plain": [
       "[1] 1.802179"
      ]
     },
     "metadata": {},
     "output_type": "display_data"
    }
   ],
   "source": [
    "murder_rate[index]"
   ]
  },
  {
   "cell_type": "code",
   "execution_count": 105,
   "metadata": {},
   "outputs": [],
   "source": [
    "index  <- match(c(\"Massachusetts\", 'Florida', 'Texas'),murders$state)"
   ]
  },
  {
   "cell_type": "code",
   "execution_count": 106,
   "metadata": {},
   "outputs": [
    {
     "data": {
      "text/html": [
       "<ol class=list-inline>\n",
       "\t<li>22</li>\n",
       "\t<li>10</li>\n",
       "\t<li>44</li>\n",
       "</ol>\n"
      ],
      "text/latex": [
       "\\begin{enumerate*}\n",
       "\\item 22\n",
       "\\item 10\n",
       "\\item 44\n",
       "\\end{enumerate*}\n"
      ],
      "text/markdown": [
       "1. 22\n",
       "2. 10\n",
       "3. 44\n",
       "\n",
       "\n"
      ],
      "text/plain": [
       "[1] 22 10 44"
      ]
     },
     "metadata": {},
     "output_type": "display_data"
    }
   ],
   "source": [
    "index"
   ]
  },
  {
   "cell_type": "code",
   "execution_count": 107,
   "metadata": {},
   "outputs": [
    {
     "data": {
      "text/html": [
       "<ol class=list-inline>\n",
       "\t<li>1.80217907886962</li>\n",
       "\t<li>3.39806883024604</li>\n",
       "\t<li>3.20136027189849</li>\n",
       "</ol>\n"
      ],
      "text/latex": [
       "\\begin{enumerate*}\n",
       "\\item 1.80217907886962\n",
       "\\item 3.39806883024604\n",
       "\\item 3.20136027189849\n",
       "\\end{enumerate*}\n"
      ],
      "text/markdown": [
       "1. 1.80217907886962\n",
       "2. 3.39806883024604\n",
       "3. 3.20136027189849\n",
       "\n",
       "\n"
      ],
      "text/plain": [
       "[1] 1.802179 3.398069 3.201360"
      ]
     },
     "metadata": {},
     "output_type": "display_data"
    }
   ],
   "source": [
    "murder_rate[index]"
   ]
  },
  {
   "cell_type": "code",
   "execution_count": null,
   "metadata": {},
   "outputs": [],
   "source": []
  },
  {
   "cell_type": "code",
   "execution_count": 110,
   "metadata": {},
   "outputs": [
    {
     "data": {
      "text/html": [
       "<ol class=list-inline>\n",
       "\t<li>TRUE</li>\n",
       "\t<li>TRUE</li>\n",
       "\t<li>TRUE</li>\n",
       "</ol>\n"
      ],
      "text/latex": [
       "\\begin{enumerate*}\n",
       "\\item TRUE\n",
       "\\item TRUE\n",
       "\\item TRUE\n",
       "\\end{enumerate*}\n"
      ],
      "text/markdown": [
       "1. TRUE\n",
       "2. TRUE\n",
       "3. TRUE\n",
       "\n",
       "\n"
      ],
      "text/plain": [
       "[1] TRUE TRUE TRUE"
      ]
     },
     "metadata": {},
     "output_type": "display_data"
    }
   ],
   "source": [
    "x <- c('a','b','c','d','e')\n",
    "y  <- c('a','b','c')\n",
    "y %in% x"
   ]
  },
  {
   "cell_type": "code",
   "execution_count": 111,
   "metadata": {},
   "outputs": [
    {
     "data": {
      "text/html": [
       "<ol class=list-inline>\n",
       "\t<li>TRUE</li>\n",
       "\t<li>TRUE</li>\n",
       "\t<li>TRUE</li>\n",
       "\t<li>FALSE</li>\n",
       "\t<li>FALSE</li>\n",
       "</ol>\n"
      ],
      "text/latex": [
       "\\begin{enumerate*}\n",
       "\\item TRUE\n",
       "\\item TRUE\n",
       "\\item TRUE\n",
       "\\item FALSE\n",
       "\\item FALSE\n",
       "\\end{enumerate*}\n"
      ],
      "text/markdown": [
       "1. TRUE\n",
       "2. TRUE\n",
       "3. TRUE\n",
       "4. FALSE\n",
       "5. FALSE\n",
       "\n",
       "\n"
      ],
      "text/plain": [
       "[1]  TRUE  TRUE  TRUE FALSE FALSE"
      ]
     },
     "metadata": {},
     "output_type": "display_data"
    }
   ],
   "source": [
    "x %in% y"
   ]
  },
  {
   "cell_type": "code",
   "execution_count": null,
   "metadata": {},
   "outputs": [],
   "source": []
  },
  {
   "cell_type": "markdown",
   "metadata": {},
   "source": [
    "# 3.2 Data Wrangling"
   ]
  },
  {
   "cell_type": "code",
   "execution_count": 112,
   "metadata": {},
   "outputs": [
    {
     "name": "stderr",
     "output_type": "stream",
     "text": [
      "\n",
      "Attaching package: 'dplyr'\n",
      "\n",
      "The following objects are masked from 'package:stats':\n",
      "\n",
      "    filter, lag\n",
      "\n",
      "The following objects are masked from 'package:base':\n",
      "\n",
      "    intersect, setdiff, setequal, union\n",
      "\n"
     ]
    }
   ],
   "source": [
    "library(dplyr)"
   ]
  },
  {
   "cell_type": "code",
   "execution_count": 113,
   "metadata": {},
   "outputs": [],
   "source": [
    "murders  <-  mutate(murders, rate= total/population*100000)"
   ]
  },
  {
   "cell_type": "code",
   "execution_count": 115,
   "metadata": {},
   "outputs": [
    {
     "data": {
      "text/html": [
       "<table>\n",
       "<thead><tr><th scope=col>state</th><th scope=col>abb</th><th scope=col>region</th><th scope=col>population</th><th scope=col>total</th><th scope=col>rate</th></tr></thead>\n",
       "<tbody>\n",
       "\t<tr><td>Alabama   </td><td>AL        </td><td>South     </td><td> 4779736  </td><td> 135      </td><td>2.824424  </td></tr>\n",
       "\t<tr><td>Alaska    </td><td>AK        </td><td>West      </td><td>  710231  </td><td>  19      </td><td>2.675186  </td></tr>\n",
       "\t<tr><td>Arizona   </td><td>AZ        </td><td>West      </td><td> 6392017  </td><td> 232      </td><td>3.629527  </td></tr>\n",
       "\t<tr><td>Arkansas  </td><td>AR        </td><td>South     </td><td> 2915918  </td><td>  93      </td><td>3.189390  </td></tr>\n",
       "\t<tr><td>California</td><td>CA        </td><td>West      </td><td>37253956  </td><td>1257      </td><td>3.374138  </td></tr>\n",
       "\t<tr><td>Colorado  </td><td>CO        </td><td>West      </td><td> 5029196  </td><td>  65      </td><td>1.292453  </td></tr>\n",
       "</tbody>\n",
       "</table>\n"
      ],
      "text/latex": [
       "\\begin{tabular}{r|llllll}\n",
       " state & abb & region & population & total & rate\\\\\n",
       "\\hline\n",
       "\t Alabama    & AL         & South      &  4779736   &  135       & 2.824424  \\\\\n",
       "\t Alaska     & AK         & West       &   710231   &   19       & 2.675186  \\\\\n",
       "\t Arizona    & AZ         & West       &  6392017   &  232       & 3.629527  \\\\\n",
       "\t Arkansas   & AR         & South      &  2915918   &   93       & 3.189390  \\\\\n",
       "\t California & CA         & West       & 37253956   & 1257       & 3.374138  \\\\\n",
       "\t Colorado   & CO         & West       &  5029196   &   65       & 1.292453  \\\\\n",
       "\\end{tabular}\n"
      ],
      "text/markdown": [
       "\n",
       "| state | abb | region | population | total | rate |\n",
       "|---|---|---|---|---|---|\n",
       "| Alabama    | AL         | South      |  4779736   |  135       | 2.824424   |\n",
       "| Alaska     | AK         | West       |   710231   |   19       | 2.675186   |\n",
       "| Arizona    | AZ         | West       |  6392017   |  232       | 3.629527   |\n",
       "| Arkansas   | AR         | South      |  2915918   |   93       | 3.189390   |\n",
       "| California | CA         | West       | 37253956   | 1257       | 3.374138   |\n",
       "| Colorado   | CO         | West       |  5029196   |   65       | 1.292453   |\n",
       "\n"
      ],
      "text/plain": [
       "  state      abb region population total rate    \n",
       "1 Alabama    AL  South   4779736    135  2.824424\n",
       "2 Alaska     AK  West     710231     19  2.675186\n",
       "3 Arizona    AZ  West    6392017    232  3.629527\n",
       "4 Arkansas   AR  South   2915918     93  3.189390\n",
       "5 California CA  West   37253956   1257  3.374138\n",
       "6 Colorado   CO  West    5029196     65  1.292453"
      ]
     },
     "metadata": {},
     "output_type": "display_data"
    }
   ],
   "source": [
    "head(murders)"
   ]
  },
  {
   "cell_type": "code",
   "execution_count": 118,
   "metadata": {},
   "outputs": [
    {
     "data": {
      "text/html": [
       "<table>\n",
       "<thead><tr><th scope=col>state</th><th scope=col>abb</th><th scope=col>region</th><th scope=col>population</th><th scope=col>total</th><th scope=col>rate</th></tr></thead>\n",
       "<tbody>\n",
       "\t<tr><td>New Hampshire</td><td>NH           </td><td>Northeast    </td><td>1316470      </td><td>5            </td><td>0.3798036    </td></tr>\n",
       "\t<tr><td>Vermont      </td><td>VT           </td><td>Northeast    </td><td> 625741      </td><td>2            </td><td>0.3196211    </td></tr>\n",
       "</tbody>\n",
       "</table>\n"
      ],
      "text/latex": [
       "\\begin{tabular}{r|llllll}\n",
       " state & abb & region & population & total & rate\\\\\n",
       "\\hline\n",
       "\t New Hampshire & NH            & Northeast     & 1316470       & 5             & 0.3798036    \\\\\n",
       "\t Vermont       & VT            & Northeast     &  625741       & 2             & 0.3196211    \\\\\n",
       "\\end{tabular}\n"
      ],
      "text/markdown": [
       "\n",
       "| state | abb | region | population | total | rate |\n",
       "|---|---|---|---|---|---|\n",
       "| New Hampshire | NH            | Northeast     | 1316470       | 5             | 0.3798036     |\n",
       "| Vermont       | VT            | Northeast     |  625741       | 2             | 0.3196211     |\n",
       "\n"
      ],
      "text/plain": [
       "  state         abb region    population total rate     \n",
       "1 New Hampshire NH  Northeast 1316470    5     0.3798036\n",
       "2 Vermont       VT  Northeast  625741    2     0.3196211"
      ]
     },
     "metadata": {},
     "output_type": "display_data"
    }
   ],
   "source": [
    "filter(murders, rate <= 0.51)"
   ]
  },
  {
   "cell_type": "code",
   "execution_count": 120,
   "metadata": {},
   "outputs": [],
   "source": [
    "new_table  <- select(murders, state,region,rate)"
   ]
  },
  {
   "cell_type": "code",
   "execution_count": 121,
   "metadata": {},
   "outputs": [
    {
     "data": {
      "text/html": [
       "<table>\n",
       "<thead><tr><th scope=col>state</th><th scope=col>region</th><th scope=col>rate</th></tr></thead>\n",
       "<tbody>\n",
       "\t<tr><td>Hawaii       </td><td>West         </td><td>0.5145920    </td></tr>\n",
       "\t<tr><td>Iowa         </td><td>North Central</td><td>0.6893484    </td></tr>\n",
       "\t<tr><td>New Hampshire</td><td>Northeast    </td><td>0.3798036    </td></tr>\n",
       "\t<tr><td>North Dakota </td><td>North Central</td><td>0.5947151    </td></tr>\n",
       "\t<tr><td>Vermont      </td><td>Northeast    </td><td>0.3196211    </td></tr>\n",
       "</tbody>\n",
       "</table>\n"
      ],
      "text/latex": [
       "\\begin{tabular}{r|lll}\n",
       " state & region & rate\\\\\n",
       "\\hline\n",
       "\t Hawaii        & West          & 0.5145920    \\\\\n",
       "\t Iowa          & North Central & 0.6893484    \\\\\n",
       "\t New Hampshire & Northeast     & 0.3798036    \\\\\n",
       "\t North Dakota  & North Central & 0.5947151    \\\\\n",
       "\t Vermont       & Northeast     & 0.3196211    \\\\\n",
       "\\end{tabular}\n"
      ],
      "text/markdown": [
       "\n",
       "| state | region | rate |\n",
       "|---|---|---|\n",
       "| Hawaii        | West          | 0.5145920     |\n",
       "| Iowa          | North Central | 0.6893484     |\n",
       "| New Hampshire | Northeast     | 0.3798036     |\n",
       "| North Dakota  | North Central | 0.5947151     |\n",
       "| Vermont       | Northeast     | 0.3196211     |\n",
       "\n"
      ],
      "text/plain": [
       "  state         region        rate     \n",
       "1 Hawaii        West          0.5145920\n",
       "2 Iowa          North Central 0.6893484\n",
       "3 New Hampshire Northeast     0.3798036\n",
       "4 North Dakota  North Central 0.5947151\n",
       "5 Vermont       Northeast     0.3196211"
      ]
     },
     "metadata": {},
     "output_type": "display_data"
    }
   ],
   "source": [
    "filter(new_table, rate<= 0.71)"
   ]
  },
  {
   "cell_type": "code",
   "execution_count": null,
   "metadata": {},
   "outputs": [],
   "source": []
  },
  {
   "cell_type": "code",
   "execution_count": 122,
   "metadata": {},
   "outputs": [
    {
     "data": {
      "text/html": [
       "<table>\n",
       "<thead><tr><th scope=col>state</th><th scope=col>region</th><th scope=col>rate</th></tr></thead>\n",
       "<tbody>\n",
       "\t<tr><td>Hawaii       </td><td>West         </td><td>0.5145920    </td></tr>\n",
       "\t<tr><td>Iowa         </td><td>North Central</td><td>0.6893484    </td></tr>\n",
       "\t<tr><td>New Hampshire</td><td>Northeast    </td><td>0.3798036    </td></tr>\n",
       "\t<tr><td>North Dakota </td><td>North Central</td><td>0.5947151    </td></tr>\n",
       "\t<tr><td>Vermont      </td><td>Northeast    </td><td>0.3196211    </td></tr>\n",
       "</tbody>\n",
       "</table>\n"
      ],
      "text/latex": [
       "\\begin{tabular}{r|lll}\n",
       " state & region & rate\\\\\n",
       "\\hline\n",
       "\t Hawaii        & West          & 0.5145920    \\\\\n",
       "\t Iowa          & North Central & 0.6893484    \\\\\n",
       "\t New Hampshire & Northeast     & 0.3798036    \\\\\n",
       "\t North Dakota  & North Central & 0.5947151    \\\\\n",
       "\t Vermont       & Northeast     & 0.3196211    \\\\\n",
       "\\end{tabular}\n"
      ],
      "text/markdown": [
       "\n",
       "| state | region | rate |\n",
       "|---|---|---|\n",
       "| Hawaii        | West          | 0.5145920     |\n",
       "| Iowa          | North Central | 0.6893484     |\n",
       "| New Hampshire | Northeast     | 0.3798036     |\n",
       "| North Dakota  | North Central | 0.5947151     |\n",
       "| Vermont       | Northeast     | 0.3196211     |\n",
       "\n"
      ],
      "text/plain": [
       "  state         region        rate     \n",
       "1 Hawaii        West          0.5145920\n",
       "2 Iowa          North Central 0.6893484\n",
       "3 New Hampshire Northeast     0.3798036\n",
       "4 North Dakota  North Central 0.5947151\n",
       "5 Vermont       Northeast     0.3196211"
      ]
     },
     "metadata": {},
     "output_type": "display_data"
    }
   ],
   "source": [
    "murders %>% select(state,region,rate) %>% filter(rate<= 0.71)"
   ]
  },
  {
   "cell_type": "code",
   "execution_count": null,
   "metadata": {},
   "outputs": [],
   "source": []
  },
  {
   "cell_type": "code",
   "execution_count": null,
   "metadata": {},
   "outputs": [],
   "source": []
  },
  {
   "cell_type": "code",
   "execution_count": 126,
   "metadata": {},
   "outputs": [],
   "source": [
    "grades <- data.frame( names = c('kek','asd','www','gaz'),\n",
    "                     exam_1 = c(13,4,23,5),\n",
    "                     exam_2 = c(76,56,87,98),\n",
    "                     stringsAsFactors=FALSE\n",
    "\n",
    "\n",
    ")"
   ]
  },
  {
   "cell_type": "code",
   "execution_count": 127,
   "metadata": {},
   "outputs": [
    {
     "data": {
      "text/html": [
       "<table>\n",
       "<thead><tr><th scope=col>names</th><th scope=col>exam_1</th><th scope=col>exam_2</th></tr></thead>\n",
       "<tbody>\n",
       "\t<tr><td>kek</td><td>13 </td><td>76 </td></tr>\n",
       "\t<tr><td>asd</td><td> 4 </td><td>56 </td></tr>\n",
       "\t<tr><td>www</td><td>23 </td><td>87 </td></tr>\n",
       "\t<tr><td>gaz</td><td> 5 </td><td>98 </td></tr>\n",
       "</tbody>\n",
       "</table>\n"
      ],
      "text/latex": [
       "\\begin{tabular}{r|lll}\n",
       " names & exam\\_1 & exam\\_2\\\\\n",
       "\\hline\n",
       "\t kek & 13  & 76 \\\\\n",
       "\t asd &  4  & 56 \\\\\n",
       "\t www & 23  & 87 \\\\\n",
       "\t gaz &  5  & 98 \\\\\n",
       "\\end{tabular}\n"
      ],
      "text/markdown": [
       "\n",
       "| names | exam_1 | exam_2 |\n",
       "|---|---|---|\n",
       "| kek | 13  | 76  |\n",
       "| asd |  4  | 56  |\n",
       "| www | 23  | 87  |\n",
       "| gaz |  5  | 98  |\n",
       "\n"
      ],
      "text/plain": [
       "  names exam_1 exam_2\n",
       "1 kek   13     76    \n",
       "2 asd    4     56    \n",
       "3 www   23     87    \n",
       "4 gaz    5     98    "
      ]
     },
     "metadata": {},
     "output_type": "display_data"
    }
   ],
   "source": [
    "grades\n",
    "\n"
   ]
  },
  {
   "cell_type": "code",
   "execution_count": 129,
   "metadata": {},
   "outputs": [
    {
     "data": {
      "text/html": [
       "'character'"
      ],
      "text/latex": [
       "'character'"
      ],
      "text/markdown": [
       "'character'"
      ],
      "text/plain": [
       "[1] \"character\""
      ]
     },
     "metadata": {},
     "output_type": "display_data"
    }
   ],
   "source": [
    "class(grades$names)"
   ]
  },
  {
   "cell_type": "code",
   "execution_count": null,
   "metadata": {},
   "outputs": [],
   "source": []
  },
  {
   "cell_type": "code",
   "execution_count": 130,
   "metadata": {},
   "outputs": [],
   "source": [
    "populationinmillions  <-  murders$population/10^6"
   ]
  },
  {
   "cell_type": "code",
   "execution_count": 131,
   "metadata": {},
   "outputs": [],
   "source": [
    "totalgunmurders  <-  murders$total"
   ]
  },
  {
   "cell_type": "code",
   "execution_count": null,
   "metadata": {},
   "outputs": [],
   "source": []
  },
  {
   "cell_type": "code",
   "execution_count": 132,
   "metadata": {},
   "outputs": [
    {
     "data": {
      "image/png": "[encoded data removed]",
      "text/plain": [
       "plot without title"
      ]
     },
     "metadata": {},
     "output_type": "display_data"
    }
   ],
   "source": [
    "plot(populationinmillions, totalgunmurders)"
   ]
  },
  {
   "cell_type": "code",
   "execution_count": 133,
   "metadata": {},
   "outputs": [
    {
     "data": {
      "image/png": "[encoded data removed]",
      "text/plain": [
       "Plot with title \"Histogram of murders$rate\""
      ]
     },
     "metadata": {},
     "output_type": "display_data"
    }
   ],
   "source": [
    "hist(murders$rate)"
   ]
  },
  {
   "cell_type": "code",
   "execution_count": 134,
   "metadata": {},
   "outputs": [
    {
     "data": {
      "text/html": [
       "'District of Columbia'"
      ],
      "text/latex": [
       "'District of Columbia'"
      ],
      "text/markdown": [
       "'District of Columbia'"
      ],
      "text/plain": [
       "[1] \"District of Columbia\""
      ]
     },
     "metadata": {},
     "output_type": "display_data"
    }
   ],
   "source": [
    "murders$state[which.max(murders$rate)]"
   ]
  },
  {
   "cell_type": "code",
   "execution_count": null,
   "metadata": {},
   "outputs": [],
   "source": []
  },
  {
   "cell_type": "code",
   "execution_count": 136,
   "metadata": {},
   "outputs": [
    {
     "data": {
      "image/png": "[encoded data removed]",
      "text/plain": [
       "plot without title"
      ]
     },
     "metadata": {},
     "output_type": "display_data"
    }
   ],
   "source": [
    "boxplot(rate~region, data=murders)"
   ]
  },
  {
   "cell_type": "code",
   "execution_count": null,
   "metadata": {},
   "outputs": [],
   "source": []
  },
  {
   "cell_type": "markdown",
   "metadata": {},
   "source": [
    "# Section 4"
   ]
  },
  {
   "cell_type": "code",
   "execution_count": null,
   "metadata": {},
   "outputs": [],
   "source": []
  },
  {
   "cell_type": "code",
   "execution_count": null,
   "metadata": {},
   "outputs": [],
   "source": []
  },
  {
   "cell_type": "code",
   "execution_count": null,
   "metadata": {},
   "outputs": [],
   "source": []
  },
  {
   "cell_type": "code",
   "execution_count": null,
   "metadata": {},
   "outputs": [],
   "source": []
  },
  {
   "cell_type": "code",
   "execution_count": null,
   "metadata": {},
   "outputs": [],
   "source": []
  },
  {
   "cell_type": "code",
   "execution_count": null,
   "metadata": {},
   "outputs": [],
   "source": []
  },
  {
   "cell_type": "code",
   "execution_count": null,
   "metadata": {},
   "outputs": [],
   "source": []
  },
  {
   "cell_type": "code",
   "execution_count": null,
   "metadata": {},
   "outputs": [],
   "source": []
  },
  {
   "cell_type": "code",
   "execution_count": null,
   "metadata": {},
   "outputs": [],
   "source": []
  },
  {
   "cell_type": "code",
   "execution_count": null,
   "metadata": {},
   "outputs": [],
   "source": []
  },
  {
   "cell_type": "code",
   "execution_count": null,
   "metadata": {},
   "outputs": [],
   "source": []
  },
  {
   "cell_type": "code",
   "execution_count": null,
   "metadata": {},
   "outputs": [],
   "source": []
  },
  {
   "cell_type": "code",
   "execution_count": null,
   "metadata": {},
   "outputs": [],
   "source": []
  },
  {
   "cell_type": "code",
   "execution_count": null,
   "metadata": {},
   "outputs": [],
   "source": []
  },
  {
   "cell_type": "code",
   "execution_count": null,
   "metadata": {},
   "outputs": [],
   "source": []
  },
  {
   "cell_type": "code",
   "execution_count": null,
   "metadata": {},
   "outputs": [],
   "source": []
  },
  {
   "cell_type": "code",
   "execution_count": null,
   "metadata": {},
   "outputs": [],
   "source": []
  },
  {
   "cell_type": "code",
   "execution_count": null,
   "metadata": {},
   "outputs": [],
   "source": []
  }
 ],
 "metadata": {
  "kernelspec": {
   "display_name": "R",
   "language": "R",
   "name": "ir"
  },
  "language_info": {
   "codemirror_mode": "r",
   "file_extension": ".r",
   "mimetype": "text/x-r-source",
   "name": "R",
   "pygments_lexer": "r",
   "version": "3.6.2"
  }
 },
 "nbformat": 4,
 "nbformat_minor": 2
}
