{
 "cells": [
  {
   "cell_type": "markdown",
   "metadata": {},
   "source": [
    "# Exercise 1\n",
    "\n",
    "Create a program that asks the user to enter their name and their age. Print out a message addressed to them that tells them the year that they will turn 100 years old.\n",
    "\n",
    "Extras:\n",
    "\n",
    "Add on to the previous program by asking the user for another number and printing out that many copies of the previous message. (Hint: order of operations exists in Python)\n",
    "Print out that many copies of the previous message on separate lines. (Hint: the string \"\\n is the same as pressing the ENTER button)"
   ]
  },
  {
   "cell_type": "code",
   "execution_count": 27,
   "metadata": {},
   "outputs": [],
   "source": [
    "import datetime\n",
    "\n",
    "def Print_Name_Age_Hundredyearsold():\n",
    "    name = input(\"Write your name: \")\n",
    "    age = input(\"Write your age: \")\n",
    "    delta = 100-int(age)\n",
    "    now = datetime.datetime.now()\n",
    "    hundredin = str(now.year+delta)\n",
    "    \n",
    "    print(\"Your name is \" + name)\n",
    "    print(\"Your age is : \" + age )\n",
    "    print(\"You will be 100 years old in \" + hundredin)"
   ]
  },
  {
   "cell_type": "code",
   "execution_count": 28,
   "metadata": {},
   "outputs": [
    {
     "name": "stdout",
     "output_type": "stream",
     "text": [
      "Write your name: neco\n",
      "Write your age: 18\n",
      "Your name is neco\n",
      "Your age is : 18\n",
      "You will be 100 years old in 2101\n"
     ]
    }
   ],
   "source": [
    "Print_Name_Age_Hundredyearsold()"
   ]
  },
  {
   "cell_type": "code",
   "execution_count": 31,
   "metadata": {},
   "outputs": [],
   "source": [
    "def Print_Name_Age_Hundredyearsold_iterated():\n",
    "    name = input(\"Write your name: \")\n",
    "    age = input(\"Write your age: \")\n",
    "    delta = 100-int(age)\n",
    "    now = datetime.datetime.now()\n",
    "    hundredin = str(now.year+delta)\n",
    "    repeattime = int(input(\"Please enter a number for iteration: \"))\n",
    "    \n",
    "    for i in range(repeattime):\n",
    "        print(\"Your name is \" + name)\n",
    "        print(\"Your age is : \" + age )\n",
    "        print(\"You will be 100 years old in \" + hundredin)        \n",
    "        \n",
    "    "
   ]
  },
  {
   "cell_type": "code",
   "execution_count": 32,
   "metadata": {},
   "outputs": [
    {
     "name": "stdout",
     "output_type": "stream",
     "text": [
      "Write your name: nc\n",
      "Write your age: 55\n",
      "Please enter a number for iteration: 5\n",
      "Your name is nc\n",
      "Your age is : 55\n",
      "You will be 100 years old in 2064\n",
      "Your name is nc\n",
      "Your age is : 55\n",
      "You will be 100 years old in 2064\n",
      "Your name is nc\n",
      "Your age is : 55\n",
      "You will be 100 years old in 2064\n",
      "Your name is nc\n",
      "Your age is : 55\n",
      "You will be 100 years old in 2064\n",
      "Your name is nc\n",
      "Your age is : 55\n",
      "You will be 100 years old in 2064\n"
     ]
    }
   ],
   "source": [
    "Print_Name_Age_Hundredyearsold_iterated()"
   ]
  },
  {
   "cell_type": "markdown",
   "metadata": {},
   "source": [
    "# Exercise 2\n",
    "Ask the user for a number. Depending on whether the number is even or odd, print out an appropriate message to the user. Hint: how does an even / odd number react differently when divided by 2?\n",
    "\n",
    "Extras:\n",
    "\n",
    "If the number is a multiple of 4, print out a different message.\n",
    "Ask the user for two numbers: one number to check (call it num) and one number to divide by (check). If check divides evenly into num, tell that to the user. If not, print a different appropriate message."
   ]
  },
  {
   "cell_type": "code",
   "execution_count": 33,
   "metadata": {},
   "outputs": [],
   "source": [
    "def oddoreven():\n",
    "    number = int(input(\"Enter a number: \"))\n",
    "    \n",
    "    if number%2 == 1:\n",
    "        print(\"Number is ODD\")\n",
    "    else:\n",
    "        print(\"Number is EVEN\")"
   ]
  },
  {
   "cell_type": "code",
   "execution_count": 34,
   "metadata": {},
   "outputs": [
    {
     "name": "stdout",
     "output_type": "stream",
     "text": [
      "Enter a number: 5\n",
      "Number is ODD\n"
     ]
    }
   ],
   "source": [
    "oddoreven()"
   ]
  },
  {
   "cell_type": "code",
   "execution_count": 35,
   "metadata": {},
   "outputs": [
    {
     "name": "stdout",
     "output_type": "stream",
     "text": [
      "Enter a number: 2\n",
      "Number is EVEN\n"
     ]
    }
   ],
   "source": [
    "oddoreven()"
   ]
  },
  {
   "cell_type": "code",
   "execution_count": 39,
   "metadata": {},
   "outputs": [],
   "source": [
    "def oddorevenplus():\n",
    "    number = int(input(\"Enter a number: \"))\n",
    "    \n",
    "    if number%2 == 0 and number%4 ==0 :\n",
    "        print(\"Number is dividable by 4\")        \n",
    "    elif number%2 == 0:\n",
    "        print(\"Number is EVEN\")\n",
    "    else:\n",
    "        print(\"Number is ODD\")"
   ]
  },
  {
   "cell_type": "code",
   "execution_count": 43,
   "metadata": {},
   "outputs": [
    {
     "name": "stdout",
     "output_type": "stream",
     "text": [
      "Enter a number: 16\n",
      "Number is dividable by 4\n"
     ]
    }
   ],
   "source": [
    "oddorevenplus()"
   ]
  },
  {
   "cell_type": "code",
   "execution_count": 49,
   "metadata": {},
   "outputs": [],
   "source": [
    "def dividable():\n",
    "    num1 = int(input(\"Enter a number\"))\n",
    "    num2 = int(input(\"Enter a divider\"))\n",
    "    \n",
    "    if num1%num2 == 0:\n",
    "        print(str(num1) + \" is dividable by \" + str(num2))\n",
    "    else:\n",
    "        print(str(num1) + \" is NOTTTTTT dividable by \" + str(num2))\n"
   ]
  },
  {
   "cell_type": "code",
   "execution_count": 51,
   "metadata": {},
   "outputs": [
    {
     "name": "stdout",
     "output_type": "stream",
     "text": [
      "Enter a number10\n",
      "Enter a divider3\n",
      "10 is NOTTTTTT dividable by 3\n"
     ]
    }
   ],
   "source": [
    "dividable()"
   ]
  },
  {
   "cell_type": "markdown",
   "metadata": {},
   "source": [
    "# Exercise 3\n",
    "Take a list, say for example this one:\n",
    "\n",
    "  a = [1, 1, 2, 3, 5, 8, 13, 21, 34, 55, 89]\n",
    "and write a program that prints out all the elements of the list that are less than 5.\n",
    "\n",
    "Extras:\n",
    "\n",
    "Instead of printing the elements one by one, make a new list that has all the elements less than 5 from this list in it and print out this new list.\n",
    "Write this in one line of Python.\n",
    "Ask the user for a number and return a list that contains only elements from the original list a that are smaller than that number given by the user."
   ]
  },
  {
   "cell_type": "code",
   "execution_count": 52,
   "metadata": {},
   "outputs": [],
   "source": [
    "def checklessthan5(List):\n",
    "    for i in List:\n",
    "        if i < 5 :\n",
    "            print(i)\n",
    "        "
   ]
  },
  {
   "cell_type": "code",
   "execution_count": 53,
   "metadata": {},
   "outputs": [],
   "source": [
    " a = [1, 1, 2, 3, 5, 8, 13, 21, 34, 55, 89]"
   ]
  },
  {
   "cell_type": "code",
   "execution_count": 54,
   "metadata": {},
   "outputs": [
    {
     "data": {
      "text/plain": [
       "[1, 1, 2, 3, 5, 8, 13, 21, 34, 55, 89]"
      ]
     },
     "execution_count": 54,
     "metadata": {},
     "output_type": "execute_result"
    }
   ],
   "source": [
    "a"
   ]
  },
  {
   "cell_type": "code",
   "execution_count": 55,
   "metadata": {},
   "outputs": [
    {
     "name": "stdout",
     "output_type": "stream",
     "text": [
      "1\n",
      "1\n",
      "2\n",
      "3\n"
     ]
    }
   ],
   "source": [
    "checklessthan5(a)"
   ]
  },
  {
   "cell_type": "code",
   "execution_count": 56,
   "metadata": {},
   "outputs": [],
   "source": [
    "def checklessthan5nmakelist(List):\n",
    "    listed = []\n",
    "    for i in List:\n",
    "        if i < 5 :\n",
    "            listed.append(i)\n",
    "    return listed\n",
    "        "
   ]
  },
  {
   "cell_type": "code",
   "execution_count": 57,
   "metadata": {},
   "outputs": [
    {
     "data": {
      "text/plain": [
       "[1, 1, 2, 3]"
      ]
     },
     "execution_count": 57,
     "metadata": {},
     "output_type": "execute_result"
    }
   ],
   "source": [
    "checklessthan5nmakelist(a)"
   ]
  },
  {
   "cell_type": "code",
   "execution_count": 58,
   "metadata": {},
   "outputs": [],
   "source": [
    "def checklessthaninputed(List):\n",
    "    lessthan = int(input(\"Plese enter a number to select elements less than: \"))\n",
    "    listed = []\n",
    "    for i in List:\n",
    "        if i < lessthan:\n",
    "            listed.append(i)\n",
    "    return listed\n",
    "        "
   ]
  },
  {
   "cell_type": "code",
   "execution_count": 59,
   "metadata": {},
   "outputs": [
    {
     "name": "stdout",
     "output_type": "stream",
     "text": [
      "Plese enter a number to select elements less than: 56\n"
     ]
    },
    {
     "data": {
      "text/plain": [
       "[1, 1, 2, 3, 5, 8, 13, 21, 34, 55]"
      ]
     },
     "execution_count": 59,
     "metadata": {},
     "output_type": "execute_result"
    }
   ],
   "source": [
    "checklessthaninputed(a)"
   ]
  },
  {
   "cell_type": "code",
   "execution_count": 61,
   "metadata": {},
   "outputs": [
    {
     "data": {
      "text/plain": [
       "[1, 1, 2, 3]"
      ]
     },
     "execution_count": 61,
     "metadata": {},
     "output_type": "execute_result"
    }
   ],
   "source": [
    "[number for number in a if number < 5]"
   ]
  },
  {
   "cell_type": "markdown",
   "metadata": {},
   "source": [
    "# Exercise 4 \n",
    "Create a program that asks the user for a number and then prints out a list of all the divisors of that number. (If you don’t know what a divisor is, it is a number that divides evenly into another number. For example, 13 is a divisor of 26 because 26 / 13 has no remainder.)"
   ]
  },
  {
   "cell_type": "code",
   "execution_count": 94,
   "metadata": {},
   "outputs": [],
   "source": [
    "def finddivisors(number=0):\n",
    "    if number == 0:\n",
    "        number = int(input(\"Enter a number to find its divisors: \"))\n",
    "    num = int(number/2)+1  # check all numbers until this number.\n",
    "    dividerslist = []\n",
    "    for i in range(1, num):\n",
    "        if number%i == 0:\n",
    "            dividerslist.append(i)\n",
    "    return dividerslist\n",
    "        \n",
    "        "
   ]
  },
  {
   "cell_type": "code",
   "execution_count": 96,
   "metadata": {},
   "outputs": [
    {
     "data": {
      "text/plain": [
       "[1, 2, 13]"
      ]
     },
     "execution_count": 96,
     "metadata": {},
     "output_type": "execute_result"
    }
   ],
   "source": [
    "finddivisors(26)"
   ]
  },
  {
   "cell_type": "code",
   "execution_count": 83,
   "metadata": {},
   "outputs": [
    {
     "name": "stdout",
     "output_type": "stream",
     "text": [
      "Enter a number to find its divisors: 10\n",
      "1\n",
      "1\n",
      "2\n",
      "2\n",
      "3\n",
      "4\n",
      "5\n",
      "5\n"
     ]
    }
   ],
   "source": [
    "number = int(input(\"Enter a number to find its divisors: \"))\n",
    "num = int(number/2)+1\n",
    "for i in range(1, num):\n",
    "    print(i)\n",
    "    if number%i ==0:\n",
    "        print(i)\n"
   ]
  },
  {
   "cell_type": "markdown",
   "metadata": {},
   "source": [
    "# Exercise 5\n",
    "Take two lists, say for example these two:\n",
    "\n",
    "  a = [1, 1, 2, 3, 5, 8, 13, 21, 34, 55, 89]\n",
    "  b = [1, 2, 3, 4, 5, 6, 7, 8, 9, 10, 11, 12, 13]\n",
    "and write a program that returns a list that contains only the elements that are common between the lists (without duplicates). Make sure your program works on two lists of different sizes.\n",
    "\n",
    "Extras:\n",
    "\n",
    "Randomly generate two lists to test this\n",
    "Write this in one line of Python (don’t worry if you can’t figure this out at this point - we’ll get to it soon)\n"
   ]
  },
  {
   "cell_type": "code",
   "execution_count": 103,
   "metadata": {},
   "outputs": [],
   "source": [
    "def commonelements(a,b):\n",
    "    common = []\n",
    "    \n",
    "    for element in a:\n",
    "        if element in b:\n",
    "            common.append(element)\n",
    "    return list(set(common))    "
   ]
  },
  {
   "cell_type": "code",
   "execution_count": 104,
   "metadata": {},
   "outputs": [],
   "source": [
    "a = [1, 1, 2, 3, 5, 8, 13, 21, 34, 55, 89] \n",
    "b = [1, 2, 3, 4, 5, 6, 7, 8, 9, 10, 11, 12, 13]"
   ]
  },
  {
   "cell_type": "code",
   "execution_count": 105,
   "metadata": {},
   "outputs": [
    {
     "data": {
      "text/plain": [
       "[1, 2, 3, 5, 8, 13]"
      ]
     },
     "execution_count": 105,
     "metadata": {},
     "output_type": "execute_result"
    }
   ],
   "source": [
    "commonelements(a,b)"
   ]
  },
  {
   "cell_type": "code",
   "execution_count": 111,
   "metadata": {},
   "outputs": [
    {
     "data": {
      "text/plain": [
       "17"
      ]
     },
     "execution_count": 111,
     "metadata": {},
     "output_type": "execute_result"
    }
   ],
   "source": [
    "import random\n",
    "random.randint(8,20)"
   ]
  },
  {
   "cell_type": "code",
   "execution_count": 118,
   "metadata": {},
   "outputs": [],
   "source": [
    "comp_list = [random.randint(1,10) for x in range(random.randint(8,20))]"
   ]
  },
  {
   "cell_type": "code",
   "execution_count": 119,
   "metadata": {},
   "outputs": [
    {
     "data": {
      "text/plain": [
       "[1, 3, 5, 1, 7, 6, 6, 6, 3, 5, 5, 7, 1, 3, 1, 1, 2, 10]"
      ]
     },
     "execution_count": 119,
     "metadata": {},
     "output_type": "execute_result"
    }
   ],
   "source": [
    "comp_list"
   ]
  },
  {
   "cell_type": "code",
   "execution_count": 121,
   "metadata": {},
   "outputs": [],
   "source": [
    "def commonelementsrandom():\n",
    "    comp_list1 = [random.randint(1,10) for x in range(random.randint(8,20))]\n",
    "    comp_list2 = [random.randint(1,10) for x in range(random.randint(8,20))]\n",
    "    \n",
    "    common = []\n",
    "    \n",
    "    for element in a:\n",
    "        if element in b:\n",
    "            common.append(element)\n",
    "    print(comp_list1)\n",
    "    print(comp_list2)\n",
    "    return list(set(common))    "
   ]
  },
  {
   "cell_type": "code",
   "execution_count": 122,
   "metadata": {},
   "outputs": [
    {
     "name": "stdout",
     "output_type": "stream",
     "text": [
      "[7, 10, 2, 3, 5, 10, 2, 8, 5, 9, 2, 6, 6, 6, 6, 1, 6]\n",
      "[7, 8, 4, 9, 2, 9, 10, 3, 7, 5, 1]\n"
     ]
    },
    {
     "data": {
      "text/plain": [
       "[1, 2, 3, 5, 8, 13]"
      ]
     },
     "execution_count": 122,
     "metadata": {},
     "output_type": "execute_result"
    }
   ],
   "source": [
    "commonelementsrandom()"
   ]
  },
  {
   "cell_type": "markdown",
   "metadata": {},
   "source": [
    "# Exercise 6\n",
    "Ask the user for a string and print out whether this string is a palindrome or not. (A palindrome is a string that reads the same forwards and backwards.)\n",
    "\n"
   ]
  },
  {
   "cell_type": "code",
   "execution_count": 136,
   "metadata": {},
   "outputs": [],
   "source": [
    "def palindromecheck():\n",
    "    string = input(\"Write something: \")\n",
    "    string1 = string.lower()\n",
    "    string2 = string1[::-1]\n",
    "    if string1 == string2:\n",
    "        print(\"it is a palindrome\")\n",
    "    else:\n",
    "        print(\"Not palindrom\")\n",
    "        \n",
    "    "
   ]
  },
  {
   "cell_type": "code",
   "execution_count": 141,
   "metadata": {},
   "outputs": [
    {
     "name": "stdout",
     "output_type": "stream",
     "text": [
      "Write something: ulu Ulu Ulu\n",
      "it is a palindrome\n"
     ]
    }
   ],
   "source": [
    "palindromecheck()"
   ]
  },
  {
   "cell_type": "markdown",
   "metadata": {},
   "source": [
    "# Exercise 7\n",
    "\n",
    "Let’s say I give you a list saved in a variable: a = [1, 4, 9, 16, 25, 36, 49, 64, 81, 100]. Write one line of Python that takes this list a and makes a new list that has only the even elements of this list in it.\n",
    "\n"
   ]
  },
  {
   "cell_type": "code",
   "execution_count": 9,
   "metadata": {},
   "outputs": [
    {
     "data": {
      "text/plain": [
       "[1, 4, 9, 16, 25, 36, 49, 64, 81]"
      ]
     },
     "execution_count": 9,
     "metadata": {},
     "output_type": "execute_result"
    }
   ],
   "source": [
    "a = [n**2 for n in range(1,10)]\n",
    "a"
   ]
  },
  {
   "cell_type": "code",
   "execution_count": 10,
   "metadata": {},
   "outputs": [
    {
     "data": {
      "text/plain": [
       "[4, 16, 36, 64]"
      ]
     },
     "execution_count": 10,
     "metadata": {},
     "output_type": "execute_result"
    }
   ],
   "source": [
    "[n for n in a if n%2 == 0 ]"
   ]
  },
  {
   "cell_type": "markdown",
   "metadata": {},
   "source": [
    "# Exercise 8 \n",
    "Make a two-player Rock-Paper-Scissors game. (Hint: Ask for player plays (using input), compare them, print out a message of congratulations to the winner, and ask if the players want to start a new game)\n",
    "\n",
    "Remember the rules:\n",
    "\n",
    "Rock beats scissors\n",
    "Scissors beats paper\n",
    "Paper beats rock"
   ]
  },
  {
   "cell_type": "code",
   "execution_count": null,
   "metadata": {},
   "outputs": [],
   "source": [
    "import random\n",
    "\n",
    "def RockPaSci():\n",
    "    listofrandoms = [rock, paper, scissor]\n",
    "    chooserandom = random.choice(listofrandoms)\n",
    "    choose = input(\"Chose Rock, Paper or Scissor: \")\n",
    "    drawlist =\n",
    "    winlist =\n",
    "    loselist =\n",
    "    lll = []\n",
    "    for i in listofrandoms:\n",
    "        for y in listofrandoms:\n",
    "            lll.append(i,y)"
   ]
  },
  {
   "cell_type": "code",
   "execution_count": 15,
   "metadata": {},
   "outputs": [],
   "source": [
    "listofrandoms = [\"rock\", \"paper\", \"scissor\"]\n",
    "\n",
    "lll = []\n",
    "for i in listofrandoms:\n",
    "    for y in listofrandoms:\n",
    "        lll.append((i,y))"
   ]
  },
  {
   "cell_type": "code",
   "execution_count": 18,
   "metadata": {},
   "outputs": [
    {
     "data": {
      "text/plain": [
       "[('rock', 'rock'),\n",
       " ('rock', 'paper'),\n",
       " ('rock', 'scissor'),\n",
       " ('paper', 'rock'),\n",
       " ('paper', 'paper'),\n",
       " ('paper', 'scissor'),\n",
       " ('scissor', 'rock'),\n",
       " ('scissor', 'paper'),\n",
       " ('scissor', 'scissor')]"
      ]
     },
     "execution_count": 18,
     "metadata": {},
     "output_type": "execute_result"
    }
   ],
   "source": [
    "lll"
   ]
  },
  {
   "cell_type": "code",
   "execution_count": null,
   "metadata": {},
   "outputs": [],
   "source": [
    "if "
   ]
  }
 ],
 "metadata": {
  "kernelspec": {
   "display_name": "Python 3",
   "language": "python",
   "name": "python3"
  },
  "language_info": {
   "codemirror_mode": {
    "name": "ipython",
    "version": 3
   },
   "file_extension": ".py",
   "mimetype": "text/x-python",
   "name": "python",
   "nbconvert_exporter": "python",
   "pygments_lexer": "ipython3",
   "version": "3.7.1"
  }
 },
 "nbformat": 4,
 "nbformat_minor": 2
}
